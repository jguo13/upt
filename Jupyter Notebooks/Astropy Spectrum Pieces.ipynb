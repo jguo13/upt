{
 "cells": [
  {
   "cell_type": "code",
   "execution_count": 1,
   "metadata": {
    "collapsed": false
   },
   "outputs": [],
   "source": [
    "import numpy as np\n",
    "\n",
    "from astropy import units as u\n",
    "from astropy.coordinates import SkyCoord\n",
    "from astropy import analytic_functions"
   ]
  },
  {
   "cell_type": "code",
   "execution_count": 2,
   "metadata": {
    "collapsed": true
   },
   "outputs": [],
   "source": [
    "%matplotlib inline\n",
    "from matplotlib import pyplot as plt"
   ]
  },
  {
   "cell_type": "markdown",
   "metadata": {},
   "source": [
    "# Using coordinate objects with Spectrum"
   ]
  },
  {
   "cell_type": "code",
   "execution_count": 3,
   "metadata": {
    "collapsed": false
   },
   "outputs": [
    {
     "data": {
      "text/plain": [
       "<SkyCoord (ICRS): (ra, dec) in deg\n",
       "    (264.12581031, -26.50111864)>"
      ]
     },
     "execution_count": 3,
     "metadata": {},
     "output_type": "execute_result"
    }
   ],
   "source": [
    "class OldSpectrum(object):\n",
    "    def __init__(self, wl, spec, ra, dec):\n",
    "        self.wl = wl\n",
    "        self.spec = spec\n",
    "        self.ra = ra\n",
    "        self.dec = dec\n",
    "        \n",
    "class NewSpectrum(object):\n",
    "    \"\"\"\n",
    "    This new version stores a single coordinate attribute instead of ra/dec\n",
    "    attributes, which is useful on its own.  It also demonstrates using a \n",
    "    property to limit inputs: `coordinate` has to be a SkyCoord (or something\n",
    "    like it anyway), and will automatically be transformed to ICRS coordinates.\n",
    "    You may not actually want this last part in practice, but it demonstrates\n",
    "    how properties can be used to control what' actually ends up stored in an\n",
    "    object.\n",
    "    \"\"\"\n",
    "    def __init__(self, wl, spec, coordinate):\n",
    "        self.wl = wl\n",
    "        self.spec = spec\n",
    "        self.coordinate = coordinate\n",
    "    \n",
    "    @property\n",
    "    def coordinate(self):\n",
    "        return self._coordinate\n",
    "    @coordinate.setter\n",
    "    def coordinate(self, val):\n",
    "        # automatically converts the coordinate to ICRS no matter what the input frame is\n",
    "        if not hasattr(val, 'transform_to'):\n",
    "            raise ValueError('input should be a SkyCoord')\n",
    "        self._coordinate = val.transform_to('icrs')\n",
    "        \n",
    "spec = NewSpectrum(None, None, SkyCoord(l=1*u.deg, b=3*u.deg, frame='galactic'))\n",
    "spec.coordinate"
   ]
  },
  {
   "cell_type": "markdown",
   "metadata": {},
   "source": [
    "# Using the spectral equivalencies to convert spectral axes "
   ]
  },
  {
   "cell_type": "markdown",
   "metadata": {},
   "source": [
    "For more background on this, see [the relevant docs page](http://astropy.readthedocs.org/en/stable/units/equivalencies.html#spectral-units). Here we simply demonstrate the functionality that might be useful for the spectrum class without much explanation."
   ]
  },
  {
   "cell_type": "code",
   "execution_count": 4,
   "metadata": {
    "collapsed": false
   },
   "outputs": [
    {
     "data": {
      "image/png": "[encoded data removed]",
      "text/plain": [
       "<matplotlib.figure.Figure at 0x114a48f90>"
      ]
     },
     "metadata": {},
     "output_type": "display_data"
    }
   ],
   "source": [
    "wl = np.linspace(4000, 8000, 100)*u.angstrom\n",
    "# the 4pi sterradians just makes it into an isotropic flux density\n",
    "spec_lamb = analytic_functions.blackbody_lambda(wl, 5800*u.K)*4*np.pi*u.sr\n",
    "plt.plot(wl, spec_lamb)\n",
    "plt.xlabel(wl.unit)\n",
    "plt.ylabel(spec_lamb.unit)\n",
    "plt.tight_layout()"
   ]
  },
  {
   "cell_type": "code",
   "execution_count": 5,
   "metadata": {
    "collapsed": false
   },
   "outputs": [
    {
     "ename": "UnitsError",
     "evalue": "'Angstrom' (length) and 'THz' (frequency) are not convertible",
     "output_type": "error",
     "traceback": [
      "\u001b[0;31m---------------------------------------------------------------------------\u001b[0m",
      "\u001b[0;31mUnitsError\u001b[0m                                Traceback (most recent call last)",
      "\u001b[0;32m<ipython-input-5-4fa5789bb98d>\u001b[0m in \u001b[0;36m<module>\u001b[0;34m()\u001b[0m\n\u001b[1;32m      1\u001b[0m \u001b[0;31m#shouldn't work because naively a length can't transfor into a frequencynu =\u001b[0m\u001b[0;34m\u001b[0m\u001b[0;34m\u001b[0m\u001b[0m\n\u001b[0;32m----> 2\u001b[0;31m \u001b[0mnu\u001b[0m \u001b[0;34m=\u001b[0m \u001b[0mwl\u001b[0m\u001b[0;34m.\u001b[0m\u001b[0mto\u001b[0m\u001b[0;34m(\u001b[0m\u001b[0mu\u001b[0m\u001b[0;34m.\u001b[0m\u001b[0mTHz\u001b[0m\u001b[0;34m)\u001b[0m\u001b[0;34m\u001b[0m\u001b[0m\n\u001b[0m\u001b[1;32m      3\u001b[0m \u001b[0mnu\u001b[0m\u001b[0;34m\u001b[0m\u001b[0m\n",
      "\u001b[0;32m/opt/local/Library/Frameworks/Python.framework/Versions/2.7/lib/python2.7/site-packages/astropy-1.0-py2.7-macosx-10.10-x86_64.egg/astropy/units/quantity.pyc\u001b[0m in \u001b[0;36mto\u001b[0;34m(self, unit, equivalencies)\u001b[0m\n\u001b[1;32m    603\u001b[0m         \u001b[0munit\u001b[0m \u001b[0;34m=\u001b[0m \u001b[0mUnit\u001b[0m\u001b[0;34m(\u001b[0m\u001b[0munit\u001b[0m\u001b[0;34m)\u001b[0m\u001b[0;34m\u001b[0m\u001b[0m\n\u001b[1;32m    604\u001b[0m         new_val = np.asarray(\n\u001b[0;32m--> 605\u001b[0;31m             self.unit.to(unit, self.value, equivalencies=equivalencies))\n\u001b[0m\u001b[1;32m    606\u001b[0m         \u001b[0;32mreturn\u001b[0m \u001b[0mself\u001b[0m\u001b[0;34m.\u001b[0m\u001b[0m_new_view\u001b[0m\u001b[0;34m(\u001b[0m\u001b[0mnew_val\u001b[0m\u001b[0;34m,\u001b[0m \u001b[0munit\u001b[0m\u001b[0;34m)\u001b[0m\u001b[0;34m\u001b[0m\u001b[0m\n\u001b[1;32m    607\u001b[0m \u001b[0;34m\u001b[0m\u001b[0m\n",
      "\u001b[0;32m/opt/local/Library/Frameworks/Python.framework/Versions/2.7/lib/python2.7/site-packages/astropy-1.0-py2.7-macosx-10.10-x86_64.egg/astropy/units/core.pyc\u001b[0m in \u001b[0;36mto\u001b[0;34m(self, other, value, equivalencies)\u001b[0m\n\u001b[1;32m    943\u001b[0m             \u001b[0mIf\u001b[0m \u001b[0munits\u001b[0m \u001b[0mare\u001b[0m \u001b[0minconsistent\u001b[0m\u001b[0;34m\u001b[0m\u001b[0m\n\u001b[1;32m    944\u001b[0m         \"\"\"\n\u001b[0;32m--> 945\u001b[0;31m         \u001b[0;32mreturn\u001b[0m \u001b[0mself\u001b[0m\u001b[0;34m.\u001b[0m\u001b[0m_get_converter\u001b[0m\u001b[0;34m(\u001b[0m\u001b[0mother\u001b[0m\u001b[0;34m,\u001b[0m \u001b[0mequivalencies\u001b[0m\u001b[0;34m=\u001b[0m\u001b[0mequivalencies\u001b[0m\u001b[0;34m)\u001b[0m\u001b[0;34m(\u001b[0m\u001b[0mvalue\u001b[0m\u001b[0;34m)\u001b[0m\u001b[0;34m\u001b[0m\u001b[0m\n\u001b[0m\u001b[1;32m    946\u001b[0m \u001b[0;34m\u001b[0m\u001b[0m\n\u001b[1;32m    947\u001b[0m     \u001b[0;32mdef\u001b[0m \u001b[0min_units\u001b[0m\u001b[0;34m(\u001b[0m\u001b[0mself\u001b[0m\u001b[0;34m,\u001b[0m \u001b[0mother\u001b[0m\u001b[0;34m,\u001b[0m \u001b[0mvalue\u001b[0m\u001b[0;34m=\u001b[0m\u001b[0;36m1.0\u001b[0m\u001b[0;34m,\u001b[0m \u001b[0mequivalencies\u001b[0m\u001b[0;34m=\u001b[0m\u001b[0;34m[\u001b[0m\u001b[0;34m]\u001b[0m\u001b[0;34m)\u001b[0m\u001b[0;34m:\u001b[0m\u001b[0;34m\u001b[0m\u001b[0m\n",
      "\u001b[0;32m/opt/local/Library/Frameworks/Python.framework/Versions/2.7/lib/python2.7/site-packages/astropy-1.0-py2.7-macosx-10.10-x86_64.egg/astropy/units/core.pyc\u001b[0m in \u001b[0;36m_get_converter\u001b[0;34m(self, other, equivalencies)\u001b[0m\n\u001b[1;32m    847\u001b[0m         \u001b[0;32mexcept\u001b[0m \u001b[0mUnitsError\u001b[0m\u001b[0;34m:\u001b[0m\u001b[0;34m\u001b[0m\u001b[0m\n\u001b[1;32m    848\u001b[0m             return self._apply_equivalences(\n\u001b[0;32m--> 849\u001b[0;31m                 self, other, self._normalize_equivalencies(equivalencies))\n\u001b[0m\u001b[1;32m    850\u001b[0m         \u001b[0;32mreturn\u001b[0m \u001b[0;32mlambda\u001b[0m \u001b[0mval\u001b[0m\u001b[0;34m:\u001b[0m \u001b[0mscale\u001b[0m \u001b[0;34m*\u001b[0m \u001b[0m_condition_arg\u001b[0m\u001b[0;34m(\u001b[0m\u001b[0mval\u001b[0m\u001b[0;34m)\u001b[0m\u001b[0;34m\u001b[0m\u001b[0m\n\u001b[1;32m    851\u001b[0m \u001b[0;34m\u001b[0m\u001b[0m\n",
      "\u001b[0;32m/opt/local/Library/Frameworks/Python.framework/Versions/2.7/lib/python2.7/site-packages/astropy-1.0-py2.7-macosx-10.10-x86_64.egg/astropy/units/core.pyc\u001b[0m in \u001b[0;36m_apply_equivalences\u001b[0;34m(self, unit, other, equivalencies)\u001b[0m\n\u001b[1;32m    838\u001b[0m         raise UnitsError(\n\u001b[1;32m    839\u001b[0m             \"{0} and {1} are not convertible\".format(\n\u001b[0;32m--> 840\u001b[0;31m                 unit_str, other_str))\n\u001b[0m\u001b[1;32m    841\u001b[0m \u001b[0;34m\u001b[0m\u001b[0m\n\u001b[1;32m    842\u001b[0m     \u001b[0;32mdef\u001b[0m \u001b[0m_get_converter\u001b[0m\u001b[0;34m(\u001b[0m\u001b[0mself\u001b[0m\u001b[0;34m,\u001b[0m \u001b[0mother\u001b[0m\u001b[0;34m,\u001b[0m \u001b[0mequivalencies\u001b[0m\u001b[0;34m=\u001b[0m\u001b[0;34m[\u001b[0m\u001b[0;34m]\u001b[0m\u001b[0;34m)\u001b[0m\u001b[0;34m:\u001b[0m\u001b[0;34m\u001b[0m\u001b[0m\n",
      "\u001b[0;31mUnitsError\u001b[0m: 'Angstrom' (length) and 'THz' (frequency) are not convertible"
     ]
    }
   ],
   "source": [
    "#shouldn't work because naively a length can't transfor into a frequencynu = \n",
    "nu = wl.to(u.THz)\n",
    "nu"
   ]
  },
  {
   "cell_type": "code",
   "execution_count": 6,
   "metadata": {
    "collapsed": false
   },
   "outputs": [
    {
     "data": {
      "text/latex": [
       "$[749.48114,~741.98633,~734.63993,~727.43758,~720.37508,~713.4484,~706.65365,~699.98711,~693.44517,~687.02438,~680.72141,~674.53303,~668.45616,~662.4878,~656.62507,~650.8652,~645.20551,~639.64339,~634.17635,~628.80198,~623.51793,~618.32194,~613.21185,~608.18552,~603.24092,~598.37608,~593.58907,~588.87804,~584.24121,~579.67682,~575.1832,~570.75872,~566.40178,~562.11086,~557.88446,~553.72114,~549.61951,~545.57819,~541.59586,~537.67126,~533.80312,~529.99024,~526.23144,~522.52559,~518.87156,~515.26829,~511.71471,~508.20982,~504.75261,~501.34212,~497.97741,~494.65756,~491.38168,~488.1489,~484.95839,~481.80931,~478.70086,~475.63227,~472.60276,~469.6116,~466.65807,~463.74146,~460.86108,~458.01626,~455.20634,~452.43069,~449.68869,~446.97972,~444.30319,~441.65853,~439.04517,~436.46255,~433.91014,~431.3874,~428.89383,~426.42893,~423.99219,~421.58314,~419.20132,~416.84625,~414.5175,~412.21463,~409.9372,~407.6848,~405.45701,~403.25344,~401.07369,~398.91738,~396.78414,~394.67358,~392.58536,~390.51912,~388.47452,~386.45122,~384.44888,~382.46718,~380.50581,~378.56446,~376.64281,~374.74057] \\; \\mathrm{THz}$"
      ],
      "text/plain": [
       "<Quantity [ 749.481145  , 741.98633355, 734.63993421, 727.43758191,\n",
       "            720.37508112, 713.44839764, 706.653651  , 699.98710712,\n",
       "            693.44517154, 687.02438292, 680.72140693, 674.5330305 ,\n",
       "            668.45615635, 662.48779781, 656.62507394, 650.86520487,\n",
       "            645.20550743, 639.64339099, 634.17635346, 628.80197758,\n",
       "            623.51792735, 618.32194463, 613.21184591, 608.1855193 ,\n",
       "            603.24092159, 598.37607544, 593.58906684, 588.8780425 ,\n",
       "            584.24120752, 579.67682309, 575.1832043 , 570.75871812,\n",
       "            566.40178134, 562.11085875, 557.88446132, 553.72114444,\n",
       "            549.61950633, 545.57818643, 541.59586391, 537.6712562 ,\n",
       "            533.80311766, 529.99023825, 526.23144223, 522.52558701,\n",
       "            518.87156192, 515.26828719, 511.71471279, 508.2098175 ,\n",
       "            504.75260786, 501.34211726, 497.97740507, 494.6575557 ,\n",
       "            491.38167785, 488.14890365, 484.95838794, 481.8093075 ,\n",
       "            478.70086035, 475.6322651 , 472.60276022, 469.61160351,\n",
       "            466.65807142, 463.74145847, 460.86107674, 458.01625528,\n",
       "            455.2063396 , 452.43069119, 449.688687  , 446.97971901,\n",
       "            444.30319374, 441.65853187, 439.04516778, 436.46254915,\n",
       "            433.91013658, 431.38740323, 428.89383442, 426.42892733,\n",
       "            423.9921906 , 421.58314406, 419.20131839, 416.8462548 ,\n",
       "            414.51750478, 412.21462975, 409.93720086, 407.68479865,\n",
       "            405.45701287, 403.25344215, 401.07369381, 398.91738363,\n",
       "            396.78413559, 394.67358168, 392.58536167, 390.51912292,\n",
       "            388.47452018, 386.45121539, 384.44887749, 382.46718224,\n",
       "            380.50581208, 378.56445589, 376.64280891, 374.7405725 ] THz>"
      ]
     },
     "execution_count": 6,
     "metadata": {},
     "output_type": "execute_result"
    }
   ],
   "source": [
    "# but in the context of a spectrum this *does* make sense\n",
    "nu = wl.to(u.THz, u.spectral())\n",
    "nu"
   ]
  },
  {
   "cell_type": "code",
   "execution_count": 7,
   "metadata": {
    "collapsed": false
   },
   "outputs": [],
   "source": [
    "spec_nu = spec_lamb.to(u.erg/(u.Hz * u.s * u.cm**2), u.spectral_density(wl))"
   ]
  },
  {
   "cell_type": "code",
   "execution_count": 8,
   "metadata": {
    "collapsed": false
   },
   "outputs": [
    {
     "data": {
      "text/plain": [
       "<matplotlib.text.Text at 0x114c9c210>"
      ]
     },
     "execution_count": 8,
     "metadata": {},
     "output_type": "execute_result"
    },
    {
     "data": {
      "image/png": "[encoded data removed]",
      "text/plain": [
       "<matplotlib.figure.Figure at 0x114c83c10>"
      ]
     },
     "metadata": {},
     "output_type": "display_data"
    }
   ],
   "source": [
    "plt.plot(nu, spec_nu)\n",
    "plt.xlabel(nu.unit)\n",
    "plt.ylabel(spec_nu.unit)"
   ]
  },
  {
   "cell_type": "code",
   "execution_count": 9,
   "metadata": {
    "collapsed": false
   },
   "outputs": [
    {
     "data": {
      "text/plain": [
       "<matplotlib.text.Text at 0x114a7fb90>"
      ]
     },
     "execution_count": 9,
     "metadata": {},
     "output_type": "execute_result"
    },
    {
     "data": {
      "image/png": "[encoded data removed]",
      "text/plain": [
       "<matplotlib.figure.Figure at 0x114d30dd0>"
      ]
     },
     "metadata": {},
     "output_type": "display_data"
    }
   ],
   "source": [
    "# sanity-check: make sure we get the same thing out from using the frequency version\n",
    "# of the blackbody function directly\n",
    "spec_nu = analytic_functions.blackbody_nu(nu, 5800*u.K)*4*np.pi*u.sr\n",
    "plt.plot(nu, spec_nu)\n",
    "plt.xlabel(nu.unit)\n",
    "plt.ylabel(spec_nu.unit)"
   ]
  }
 ],
 "metadata": {
  "kernelspec": {
   "display_name": "Python 2",
   "language": "python",
   "name": "python2"
  },
  "language_info": {
   "codemirror_mode": {
    "name": "ipython",
    "version": 2
   },
   "file_extension": ".py",
   "mimetype": "text/x-python",
   "name": "python",
   "nbconvert_exporter": "python",
   "pygments_lexer": "ipython2",
   "version": "2.7.10"
  }
 },
 "nbformat": 4,
 "nbformat_minor": 0
}
