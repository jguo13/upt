{
 "cells": [
  {
   "cell_type": "markdown",
   "metadata": {},
   "source": [
    "![](http://docs.astropy.org/en/latest/_images/astropy_banner_96.png)"
   ]
  },
  {
   "cell_type": "markdown",
   "metadata": {},
   "source": [
    "---"
   ]
  },
  {
   "cell_type": "markdown",
   "metadata": {},
   "source": [
    "Overview\n",
    "--------\n",
    "\n",
    "* Incorporating units into code (not just comments or variable names!)\n",
    "* Accessing physical constants, with units\n",
    "* Reading ASCII tables\n",
    "* Reading FITS files\n",
    "* Converting astronomical times\n",
    "* Working with astronomical coordinates\n",
    "\n",
    "Tutorials:\n",
    "===========\n",
    "\n",
    "http://www.astropy.org/astropy-tutorials/\n"
   ]
  },
  {
   "cell_type": "markdown",
   "metadata": {},
   "source": [
    "---"
   ]
  },
  {
   "cell_type": "markdown",
   "metadata": {},
   "source": [
    "### Units\n",
    "\n",
    "http://docs.astropy.org/en/stable/units/"
   ]
  },
  {
   "cell_type": "markdown",
   "metadata": {},
   "source": [
    "As astronomers, physicists, and scientists, most of the numerical quantities we use in our code have physical units associated with them. With `astropy.units`, we can now attach those units directly to numerical or arrays of numerical objects in Python."
   ]
  },
  {
   "cell_type": "code",
   "execution_count": 1,
   "metadata": {
    "collapsed": false
   },
   "outputs": [
    {
     "data": {
      "text/latex": [
       "$15 \\; \\mathrm{km}$"
      ],
      "text/plain": [
       "<Quantity 15.0 km>"
      ]
     },
     "execution_count": 1,
     "metadata": {},
     "output_type": "execute_result"
    }
   ],
   "source": [
    "import astropy.units as u\n",
    "import numpy as np\n",
    "15*u.km"
   ]
  },
  {
   "cell_type": "markdown",
   "metadata": {},
   "source": [
    "Numbers with an associated unit are `Quantity` objects, and are created by multiplying a number or collection of numbers by a unit object."
   ]
  },
  {
   "cell_type": "code",
   "execution_count": 2,
   "metadata": {
    "collapsed": false
   },
   "outputs": [
    {
     "data": {
      "text/latex": [
       "$[15,~11,~23] \\; \\mathrm{\\frac{km}{s}}$"
      ],
      "text/plain": [
       "<Quantity [ 15., 11., 23.] km / s>"
      ]
     },
     "execution_count": 2,
     "metadata": {},
     "output_type": "execute_result"
    }
   ],
   "source": [
    "[15., 11, 23]*u.km/u.s"
   ]
  },
  {
   "cell_type": "markdown",
   "metadata": {},
   "source": [
    "These objects support arbitrary complex unit combinations, and support both common, unambigious abbreviations, and SI prefixes:"
   ]
  },
  {
   "cell_type": "code",
   "execution_count": 3,
   "metadata": {
    "collapsed": false
   },
   "outputs": [
    {
     "name": "stdout",
     "output_type": "stream",
     "text": [
      "10.*u.km/u.kpc/u.s**2/u.Jansky*u.kiloJoule\n"
     ]
    },
    {
     "data": {
      "text/plain": [
       "astropy.units.quantity.Quantity"
      ]
     },
     "execution_count": 3,
     "metadata": {},
     "output_type": "execute_result"
    }
   ],
   "source": [
    "print(str('10.*u.km/u.kpc/u.s**2/u.Jansky*u.kiloJoule'))\n",
    "q = 10.*u.km/u.kpc/u.s**2/u.Jansky*u.kiloJoule\n",
    "type(q)"
   ]
  },
  {
   "cell_type": "code",
   "execution_count": 4,
   "metadata": {
    "collapsed": false
   },
   "outputs": [
    {
     "data": {
      "text/plain": [
       "'<Quantity 10.0 kJ km / (Jy kpc s2)>'"
      ]
     },
     "execution_count": 4,
     "metadata": {},
     "output_type": "execute_result"
    }
   ],
   "source": [
    "repr(q)"
   ]
  },
  {
   "cell_type": "code",
   "execution_count": 5,
   "metadata": {
    "collapsed": false
   },
   "outputs": [
    {
     "name": "stdout",
     "output_type": "stream",
     "text": [
      "$\\mathrm{\\frac{kJ\\,km}{Jy\\,kpc\\,s^{2}}}$\n"
     ]
    },
    {
     "data": {
      "text/latex": [
       "$10 \\; \\mathrm{\\frac{kJ\\,km}{Jy\\,kpc\\,s^{2}}}$"
      ],
      "text/plain": [
       "<Quantity 10.0 kJ km / (Jy kpc s2)>"
      ]
     },
     "execution_count": 5,
     "metadata": {},
     "output_type": "execute_result"
    }
   ],
   "source": [
    "print(q.unit.to_string('latex'))\n",
    "q"
   ]
  },
  {
   "cell_type": "markdown",
   "metadata": {},
   "source": [
    "And supports unit conversion in a few ways. One use case, is to go from one set of units to an equivalent set of units. An example would be __km/s__ to __mi/hr__ -- the request units are _equivalent_ to the current units:"
   ]
  },
  {
   "cell_type": "code",
   "execution_count": 6,
   "metadata": {
    "collapsed": false
   },
   "outputs": [
    {
     "data": {
      "text/latex": [
       "$38027.917 \\; \\mathrm{\\frac{mi}{h}}$"
      ],
      "text/plain": [
       "<Quantity 38027.916964924836 mi / h>"
      ]
     },
     "execution_count": 6,
     "metadata": {},
     "output_type": "execute_result"
    }
   ],
   "source": [
    "qq = (17.*u.km/u.s)\n",
    "qq.to(u.imperial.mile/ u.hour)"
   ]
  },
  {
   "cell_type": "markdown",
   "metadata": {},
   "source": [
    "Another way to convert units is to __decompose__ a `Quantity` into a set of base units. An example would be to decompose ${\\rm km/s}$ to the appropriate combination of ${\\rm kpc, Myr}$:"
   ]
  },
  {
   "cell_type": "code",
   "execution_count": 7,
   "metadata": {
    "collapsed": false
   },
   "outputs": [
    {
     "data": {
      "text/latex": [
       "$0.15496339 \\; \\mathrm{\\frac{kpc}{Myr}}$"
      ],
      "text/plain": [
       "<Quantity 0.1549633926732679 kpc / Myr>"
      ]
     },
     "execution_count": 7,
     "metadata": {},
     "output_type": "execute_result"
    }
   ],
   "source": [
    "q = 151.522*u.km/u.s\n",
    "q.decompose([u.kpc, u.Myr])"
   ]
  },
  {
   "cell_type": "markdown",
   "metadata": {},
   "source": [
    "Finally, for basic unit types, you can easily get the value of the quantity in another unit system using dot notation:"
   ]
  },
  {
   "cell_type": "code",
   "execution_count": 8,
   "metadata": {
    "collapsed": false
   },
   "outputs": [
    {
     "data": {
      "text/latex": [
       "$356.48572 \\; \\mathrm{fpc}$"
      ],
      "text/plain": [
       "<Quantity 356.4857218416731 fpc>"
      ]
     },
     "execution_count": 8,
     "metadata": {},
     "output_type": "execute_result"
    }
   ],
   "source": [
    "q = 11*u.km\n",
    "q.to(u.femtoparsec)"
   ]
  },
  {
   "cell_type": "code",
   "execution_count": 9,
   "metadata": {
    "collapsed": false
   },
   "outputs": [
    {
     "data": {
      "text/plain": [
       "(<Quantity 132.0 km / kpc>, <Quantity 4.277828662100078e-15>)"
      ]
     },
     "execution_count": 9,
     "metadata": {},
     "output_type": "execute_result"
    }
   ],
   "source": [
    "q1 = 11.*u.km/u.s\n",
    "q2 = 12*u.s/u.kpc\n",
    "q1*q2, (q1*q2).decompose()"
   ]
  },
  {
   "cell_type": "markdown",
   "metadata": {},
   "source": [
    "----"
   ]
  },
  {
   "cell_type": "markdown",
   "metadata": {},
   "source": [
    "### Constants\n",
    "\n",
    "http://docs.astropy.org/en/stable/constants/"
   ]
  },
  {
   "cell_type": "markdown",
   "metadata": {},
   "source": [
    "Physical constants are integrated with units "
   ]
  },
  {
   "cell_type": "code",
   "execution_count": 10,
   "metadata": {
    "collapsed": false
   },
   "outputs": [
    {
     "data": {
      "text/latex": [
       "$2.123679 \\times 10^{-6} \\; \\mathrm{R_{\\odot}}$"
      ],
      "text/plain": [
       "<Quantity 2.1236789989589984e-06 solRad>"
      ]
     },
     "execution_count": 10,
     "metadata": {},
     "output_type": "execute_result"
    }
   ],
   "source": [
    "from astropy.constants import G, M_sun, c\n",
    "q = (G * M_sun / c**2)\n",
    "q.to(u.R_sun)"
   ]
  },
  {
   "cell_type": "code",
   "execution_count": 11,
   "metadata": {
    "collapsed": false
   },
   "outputs": [
    {
     "data": {
      "text/plain": [
       "(Unit(\"m\"), 1477.035733207975)"
      ]
     },
     "execution_count": 11,
     "metadata": {},
     "output_type": "execute_result"
    }
   ],
   "source": [
    "q.unit, q.value"
   ]
  },
  {
   "cell_type": "code",
   "execution_count": 12,
   "metadata": {
    "collapsed": false
   },
   "outputs": [
    {
     "data": {
      "text/plain": [
       "array([  9.87337404e-04,   2.74732498e-03,   7.64459495e-03,\n",
       "         2.12715395e-02,   5.91893224e-02,   1.64697805e-01,\n",
       "         4.58281427e-01,   1.27519529e+00,   3.54830665e+00,\n",
       "         9.87337404e+00])"
      ]
     },
     "execution_count": 12,
     "metadata": {},
     "output_type": "execute_result"
    }
   ],
   "source": [
    "# masses of supermassive black holes from 10^5 to 10^9 solar masses\n",
    "m = np.logspace(5, 9, 10)*u.M_sun\n",
    "schwarzschild_r = (G * m / c**2)\n",
    "schwarzschild_r.to(u.au).value # same as schwarzschild_r.au"
   ]
  },
  {
   "cell_type": "markdown",
   "metadata": {},
   "source": [
    "---"
   ]
  },
  {
   "cell_type": "markdown",
   "metadata": {},
   "source": [
    "### ASCII tables\n",
    "\n",
    "http://docs.astropy.org/en/stable/table/"
   ]
  },
  {
   "cell_type": "markdown",
   "metadata": {},
   "source": [
    "Data from ___Galactic orbits of RR Lyrae variable stars (Borkova+, 2002)___\n",
    "\n",
    "File should be in __scicoder_repo/data/borkova2002.tsv__"
   ]
  },
  {
   "cell_type": "code",
   "execution_count": 13,
   "metadata": {
    "collapsed": false
   },
   "outputs": [
    {
     "data": {
      "text/html": [
       "&lt;Row index=0&gt;\n",
       "<table id=\"table4461269120\">\n",
       "<thead><tr><th>_RAJ2000</th><th>_DEJ2000</th><th>Name</th><th>Simbad</th><th>[Fe/H]</th><th>Theta</th><th>Vres</th><th>Ra</th><th>Zmax</th><th>e</th><th>_RA</th><th>_DE</th></tr></thead>\n",
       "<thead><tr><th>str8</th><th>str8</th><th>str8</th><th>str6</th><th>str5</th><th>str4</th><th>str4</th><th>str4</th><th>str4</th><th>str5</th><th>str8</th><th>str8</th></tr></thead>\n",
       "<tr><td>deg</td><td>deg</td><td></td><td></td><td>[Sun]</td><td>km/s</td><td>km/s</td><td>kpc</td><td>kpc</td><td></td><td>deg</td><td>deg</td></tr>\n",
       "</table>"
      ],
      "text/plain": [
       "<Row index=0>\n",
       "_RAJ2000 _DEJ2000 Name Simbad [Fe/H] Theta Vres  Ra  Zmax  e   _RA  _DE \n",
       "  str8     str8   str8  str6   str5   str4 str4 str4 str4 str5 str8 str8\n",
       "-------- -------- ---- ------ ------ ----- ---- ---- ---- ---- ---- ----\n",
       "     deg      deg              [Sun]  km/s km/s  kpc  kpc       deg  deg"
      ]
     },
     "execution_count": 13,
     "metadata": {},
     "output_type": "execute_result"
    }
   ],
   "source": [
    "from astropy.io import ascii\n",
    "data = ascii.read(\"borkova2002.tsv\")\n",
    "data[0]"
   ]
  },
  {
   "cell_type": "markdown",
   "metadata": {},
   "source": [
    "Notice under the header names, there are two rows of non-data: units, and ---. We can ignore these by specifying the `data_start` keyword:"
   ]
  },
  {
   "cell_type": "code",
   "execution_count": 14,
   "metadata": {
    "collapsed": false
   },
   "outputs": [
    {
     "data": {
      "text/plain": [
       "['_RAJ2000',\n",
       " '_DEJ2000',\n",
       " 'Name',\n",
       " 'Simbad',\n",
       " '[Fe/H]',\n",
       " 'Theta',\n",
       " 'Vres',\n",
       " 'Ra',\n",
       " 'Zmax',\n",
       " 'e',\n",
       " '_RA',\n",
       " '_DE']"
      ]
     },
     "execution_count": 14,
     "metadata": {},
     "output_type": "execute_result"
    }
   ],
   "source": [
    "data = ascii.read(\"borkova2002.tsv\", data_start=3)\n",
    "data.colnames"
   ]
  },
  {
   "cell_type": "code",
   "execution_count": 15,
   "metadata": {
    "collapsed": false
   },
   "outputs": [],
   "source": [
    "data.rename_column('_RA', 'RA')\n",
    "data.rename_column('_DE', 'Dec')"
   ]
  },
  {
   "cell_type": "code",
   "execution_count": 16,
   "metadata": {
    "collapsed": false
   },
   "outputs": [],
   "source": [
    "ra,dec = data['RA']*u.degree, data['Dec']*u.degree"
   ]
  },
  {
   "cell_type": "code",
   "execution_count": 17,
   "metadata": {
    "collapsed": false
   },
   "outputs": [
    {
     "name": "stderr",
     "output_type": "stream",
     "text": [
      "/Users/imomcheva/anaconda/lib/python3.5/site-packages/matplotlib/__init__.py:872: UserWarning: axes.color_cycle is deprecated and replaced with axes.prop_cycle; please use the latter.\n",
      "  warnings.warn(self.msg_depr % (key, alt_key))\n"
     ]
    }
   ],
   "source": [
    "import matplotlib.pyplot as plt"
   ]
  },
  {
   "cell_type": "code",
   "execution_count": 18,
   "metadata": {
    "collapsed": true
   },
   "outputs": [],
   "source": [
    "%matplotlib inline"
   ]
  },
  {
   "cell_type": "code",
   "execution_count": 19,
   "metadata": {
    "collapsed": false
   },
   "outputs": [
    {
     "data": {
      "text/plain": [
       "<matplotlib.colorbar.Colorbar at 0x10df3d208>"
      ]
     },
     "execution_count": 19,
     "metadata": {},
     "output_type": "execute_result"
    },
    {
     "data": {
      "image/png": "[encoded data removed]",
      "text/plain": [
       "<matplotlib.figure.Figure at 0x10b367d68>"
      ]
     },
     "metadata": {},
     "output_type": "display_data"
    }
   ],
   "source": [
    "plt.figure(figsize=(5,5))\n",
    "plt.scatter(ra.to(u.radian).value, \n",
    "        dec.to(u.radian).value, \n",
    "        c=data['[Fe/H]'], \n",
    "        edgecolor='none', \n",
    "        cmap='Spectral_r', s=100, alpha=0.75)\n",
    "plt.colorbar()"
   ]
  },
  {
   "cell_type": "markdown",
   "metadata": {},
   "source": [
    "Here's a killer feature: writing to a Latex table! Let's say we select out some data from this table that we then want to put into our own Latex document. We can use the `ascii.Latex` writer to do that!"
   ]
  },
  {
   "cell_type": "markdown",
   "metadata": {},
   "source": [
    "We'll start by selecting a subset of the columns"
   ]
  },
  {
   "cell_type": "code",
   "execution_count": 20,
   "metadata": {
    "collapsed": false
   },
   "outputs": [],
   "source": [
    "subset = data['RA', 'Dec', '[Fe/H]', 'Vres']"
   ]
  },
  {
   "cell_type": "markdown",
   "metadata": {},
   "source": [
    "Now let's select a subset of the data, say only stars between 100 < RA < 200, and Dec > 15:"
   ]
  },
  {
   "cell_type": "code",
   "execution_count": 21,
   "metadata": {
    "collapsed": false
   },
   "outputs": [
    {
     "data": {
      "text/plain": [
       "24"
      ]
     },
     "execution_count": 21,
     "metadata": {},
     "output_type": "execute_result"
    }
   ],
   "source": [
    "subset = subset[(subset['RA'] > 100) & \n",
    "                (subset['RA'] < 200) & \n",
    "                (subset['Dec'] > 15)]\n",
    "len(subset)"
   ]
  },
  {
   "cell_type": "markdown",
   "metadata": {},
   "source": [
    "Let's rename some columns to make a bit more sense:"
   ]
  },
  {
   "cell_type": "code",
   "execution_count": 22,
   "metadata": {
    "collapsed": false
   },
   "outputs": [],
   "source": [
    "subset.rename_column('RA', 'RA [deg]')\n",
    "subset.rename_column('Dec', 'Dec [deg]')"
   ]
  },
  {
   "cell_type": "markdown",
   "metadata": {},
   "source": [
    "Now we can write out to a Latex table, and copy-paste into a document!"
   ]
  },
  {
   "cell_type": "code",
   "execution_count": 23,
   "metadata": {
    "collapsed": false
   },
   "outputs": [
    {
     "name": "stdout",
     "output_type": "stream",
     "text": [
      "\\begin{table}\n",
      "\\begin{tabular}{cccc}\n",
      "RA [deg] & Dec [deg] & [Fe/H] & Vres \\\\\n",
      "107.90 & 40.777 & -0.8 & 122 \\\\\n",
      "139.78 & 29.0655 & -1.52 & 241 \\\\\n",
      "121.61 & 23.2516 & -0.07 & 135 \\\\\n",
      "126.43 & 25.7191 & -1.89 & 417 \\\\\n",
      "192.44 & 43.774 & -1.98 & 245 \\\\\n",
      "188.98 & 37.2067 & -2.2 & 279 \\\\\n",
      "190.21 & 37.0927 & -1.53 & 259 \\\\\n",
      "187.62 & 40.5089 & -2.34 & 394 \\\\\n",
      "188.19 & 27.0293 & -2.0 & 185 \\\\\n",
      "196.28 & 23.2785 & -1.65 & 163 \\\\\n",
      "199.46 & 20.7808 & -1.26 & 264 \\\\\n",
      "174.49 & 67.3297 & -1.74 & 325 \\\\\n",
      "184.44 & 69.5106 & -1.24 & 118 \\\\\n",
      "110.39 & 30.8832 & -0.35 & 57 \\\\\n",
      "118.43 & 19.2733 & -1.81 & 376 \\\\\n",
      "156.36 & 28.7854 & -1.15 & 278 \\\\\n",
      "151.53 & 39.3577 & -1.68 & 285 \\\\\n",
      "135.78 & 44.5856 & -1.76 & 309 \\\\\n",
      "116.28 & 43.1115 & -1.23 & 62 \\\\\n",
      "151.93 & 23.9918 & -1.57 & 130 \\\\\n",
      "170.99 & 26.615 & -1.38 & 231 \\\\\n",
      "171.55 & 17.661 & -1.71 & 273 \\\\\n",
      "172.45 & 30.0673 & -1.44 & 586 \\\\\n",
      "182.81 & 47.8288 & -0.72 & 118 \\\\\n",
      "\\end{tabular}\n",
      "\\end{table}\n"
     ]
    }
   ],
   "source": [
    "formats = {\"RA [deg]\" : \"{:.2f}\"}\n",
    "ascii.write(subset, Writer=ascii.Latex, formats=formats)"
   ]
  },
  {
   "cell_type": "markdown",
   "metadata": {},
   "source": [
    "----"
   ]
  },
  {
   "cell_type": "markdown",
   "metadata": {},
   "source": [
    "### FITS\n",
    "\n",
    "http://docs.astropy.org/en/stable/io/fits/"
   ]
  },
  {
   "cell_type": "markdown",
   "metadata": {},
   "source": [
    "Reading FITS data into Python is easy with the `astropy.io.fits` subpackage."
   ]
  },
  {
   "cell_type": "code",
   "execution_count": 24,
   "metadata": {
    "collapsed": false
   },
   "outputs": [],
   "source": [
    "from astropy.io import fits"
   ]
  },
  {
   "cell_type": "code",
   "execution_count": 26,
   "metadata": {
    "collapsed": false
   },
   "outputs": [
    {
     "name": "stdout",
     "output_type": "stream",
     "text": [
      "Filename: M51.fits\n",
      "No.    Name         Type      Cards   Dimensions   Format\n",
      "0    PRIMARY     PrimaryHDU     107   (777, 777)   int16   \n"
     ]
    }
   ],
   "source": [
    "hdulist = fits.open(\"M51.fits\")\n",
    "hdulist.info()"
   ]
  },
  {
   "cell_type": "code",
   "execution_count": 27,
   "metadata": {
    "collapsed": false
   },
   "outputs": [],
   "source": [
    "img_data = hdulist[0].data\n",
    "img_header = hdulist[0].header"
   ]
  },
  {
   "cell_type": "code",
   "execution_count": 31,
   "metadata": {
    "collapsed": false
   },
   "outputs": [
    {
     "data": {
      "text/plain": [
       "<matplotlib.text.Text at 0x1116b1f60>"
      ]
     },
     "execution_count": 31,
     "metadata": {},
     "output_type": "execute_result"
    },
    {
     "data": {
      "image/png": "[encoded data removed]",
      "text/plain": [
       "<matplotlib.figure.Figure at 0x10e7909e8>"
      ]
     },
     "metadata": {},
     "output_type": "display_data"
    }
   ],
   "source": [
    "plt.imshow(img_data, cmap='Greys_r')\n",
    "plt.title(img_header['OBJECT'])"
   ]
  },
  {
   "cell_type": "markdown",
   "metadata": {},
   "source": [
    "Sometimes you'll need to read in a file, subselect or modify the data, then write it back out. Here's a good recipe for doing that:"
   ]
  },
  {
   "cell_type": "code",
   "execution_count": 32,
   "metadata": {
    "collapsed": false
   },
   "outputs": [
    {
     "data": {
      "text/plain": [
       "'MESSIER 051'"
      ]
     },
     "execution_count": 32,
     "metadata": {},
     "output_type": "execute_result"
    }
   ],
   "source": [
    "hdulist = fits.open(\"M51.fits\")\n",
    "hdu = hdulist[0] # let's say I want to modify this HDU\n",
    "\n",
    "hdu.header['OBJECT']"
   ]
  },
  {
   "cell_type": "code",
   "execution_count": 33,
   "metadata": {
    "collapsed": false
   },
   "outputs": [],
   "source": [
    "hdu.header['OBJECT'] = \"CAT\"\n",
    "hdu.header['OBJECT']\n",
    "\n",
    "hdu.data = hdu.data[100:-100, 100:-100] # crop the image data"
   ]
  },
  {
   "cell_type": "code",
   "execution_count": 34,
   "metadata": {
    "collapsed": false
   },
   "outputs": [],
   "source": [
    "hdu.writeto(\"M51_modified.fits\", clobber=True)"
   ]
  },
  {
   "cell_type": "markdown",
   "metadata": {},
   "source": [
    "---"
   ]
  },
  {
   "cell_type": "markdown",
   "metadata": {},
   "source": [
    "### Time\n",
    "\n",
    "http://docs.astropy.org/en/stable/time/"
   ]
  },
  {
   "cell_type": "markdown",
   "metadata": {},
   "source": [
    "For handling astronomical times -- built around SOFA, for handling _very precise_ times."
   ]
  },
  {
   "cell_type": "code",
   "execution_count": 35,
   "metadata": {
    "collapsed": false
   },
   "outputs": [],
   "source": [
    "from astropy.time import Time"
   ]
  },
  {
   "cell_type": "code",
   "execution_count": 36,
   "metadata": {
    "collapsed": false
   },
   "outputs": [
    {
     "data": {
      "text/plain": [
       "'2002-09-16T18:53:16'"
      ]
     },
     "execution_count": 36,
     "metadata": {},
     "output_type": "execute_result"
    }
   ],
   "source": [
    "img_header['DATE']"
   ]
  },
  {
   "cell_type": "code",
   "execution_count": 37,
   "metadata": {
    "collapsed": false
   },
   "outputs": [],
   "source": [
    "time = Time(img_header['DATE'], \n",
    "            format='isot', \n",
    "            scale='utc')"
   ]
  },
  {
   "cell_type": "code",
   "execution_count": 38,
   "metadata": {
    "collapsed": false
   },
   "outputs": [
    {
     "data": {
      "text/plain": [
       "(2452534.286990741, 52533.786990740744)"
      ]
     },
     "execution_count": 38,
     "metadata": {},
     "output_type": "execute_result"
    }
   ],
   "source": [
    "time.jd, time.mjd"
   ]
  },
  {
   "cell_type": "markdown",
   "metadata": {},
   "source": [
    "### Coordinates\n",
    "\n",
    "http://docs.astropy.org/en/stable/coordinates/"
   ]
  },
  {
   "cell_type": "code",
   "execution_count": 41,
   "metadata": {
    "collapsed": false
   },
   "outputs": [],
   "source": [
    "from astropy.coordinates import SkyCoord"
   ]
  },
  {
   "cell_type": "code",
   "execution_count": 42,
   "metadata": {
    "collapsed": false
   },
   "outputs": [
    {
     "data": {
      "text/plain": [
       "<SkyCoord (ICRS): (ra, dec) in deg\n",
       "    (15.1231, -0.141241)>"
      ]
     },
     "execution_count": 42,
     "metadata": {},
     "output_type": "execute_result"
    }
   ],
   "source": [
    "eq = SkyCoord(ra=15.1231, dec=-0.141241, \n",
    "                           unit=(u.degree, u.degree), frame='icrs')\n",
    "eq"
   ]
  },
  {
   "cell_type": "markdown",
   "metadata": {},
   "source": [
    "Can transform to other coordinate systems:"
   ]
  },
  {
   "cell_type": "code",
   "execution_count": 44,
   "metadata": {
    "collapsed": false
   },
   "outputs": [
    {
     "data": {
      "text/plain": [
       "<SkyCoord (Galactic): (l, b) in deg\n",
       "    (127.91023558, -62.92543435)>"
      ]
     },
     "execution_count": 44,
     "metadata": {},
     "output_type": "execute_result"
    }
   ],
   "source": [
    "eq.galactic"
   ]
  },
  {
   "cell_type": "markdown",
   "metadata": {},
   "source": [
    "Formatting coordinates:"
   ]
  },
  {
   "cell_type": "code",
   "execution_count": 50,
   "metadata": {
    "collapsed": false
   },
   "outputs": [
    {
     "name": "stdout",
     "output_type": "stream",
     "text": [
      "127d54m36.8481s -62d55m31.5637s\n"
     ]
    },
    {
     "data": {
      "text/plain": [
       "'8:31:38.45654'"
      ]
     },
     "execution_count": 50,
     "metadata": {},
     "output_type": "execute_result"
    }
   ],
   "source": [
    "gal = eq.galactic\n",
    "print(gal.l, gal.b)"
   ]
  },
  {
   "cell_type": "code",
   "execution_count": 51,
   "metadata": {
    "collapsed": false,
    "scrolled": true
   },
   "outputs": [
    {
     "data": {
      "text/plain": [
       "'8:31:38.45654'"
      ]
     },
     "execution_count": 51,
     "metadata": {},
     "output_type": "execute_result"
    }
   ],
   "source": [
    "gal.l.to_string(sep=\":\",unit=u.hour, precision=5)"
   ]
  },
  {
   "cell_type": "code",
   "execution_count": 52,
   "metadata": {
    "collapsed": false
   },
   "outputs": [
    {
     "data": {
      "text/plain": [
       "'8:31:38.45654 -62:55:31.564'"
      ]
     },
     "execution_count": 52,
     "metadata": {},
     "output_type": "execute_result"
    }
   ],
   "source": [
    "\"{0} {1}\".format(gal.l.to_string(sep=\":\", unit=u.hour, precision=5), \n",
    "                 gal.b.to_string(sep=\":\", unit=u.degree, precision=3))"
   ]
  },
  {
   "cell_type": "markdown",
   "metadata": {},
   "source": [
    "Some magic:"
   ]
  },
  {
   "cell_type": "code",
   "execution_count": 53,
   "metadata": {
    "collapsed": false
   },
   "outputs": [
    {
     "data": {
      "text/plain": [
       "<SkyCoord (ICRS): (ra, dec) in deg\n",
       "    (211.363708, 28.534444)>"
      ]
     },
     "execution_count": 53,
     "metadata": {},
     "output_type": "execute_result"
    }
   ],
   "source": [
    "SkyCoord.from_name(\"NGC 5466\")"
   ]
  },
  {
   "cell_type": "code",
   "execution_count": null,
   "metadata": {
    "collapsed": false
   },
   "outputs": [],
   "source": []
  },
  {
   "cell_type": "code",
   "execution_count": null,
   "metadata": {
    "collapsed": false
   },
   "outputs": [],
   "source": []
  },
  {
   "cell_type": "code",
   "execution_count": null,
   "metadata": {
    "collapsed": true
   },
   "outputs": [],
   "source": []
  }
 ],
 "metadata": {
  "kernelspec": {
   "display_name": "Python 3",
   "language": "python",
   "name": "python3"
  },
  "language_info": {
   "codemirror_mode": {
    "name": "ipython",
    "version": 3
   },
   "file_extension": ".py",
   "mimetype": "text/x-python",
   "name": "python",
   "nbconvert_exporter": "python",
   "pygments_lexer": "ipython3",
   "version": "3.5.1"
  }
 },
 "nbformat": 4,
 "nbformat_minor": 0
}
