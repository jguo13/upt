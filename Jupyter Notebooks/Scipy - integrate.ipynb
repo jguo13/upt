{
 "cells": [
  {
   "cell_type": "markdown",
   "metadata": {},
   "source": [
    "# scipy.integrate\n",
    "\n",
    "### Adrian Price-Whelan"
   ]
  },
  {
   "cell_type": "code",
   "execution_count": null,
   "metadata": {
    "collapsed": true
   },
   "outputs": [],
   "source": [
    "import matplotlib.pyplot as plt\n",
    "%matplotlib inline\n",
    "import numpy as np\n",
    "from scipy import integrate"
   ]
  },
  {
   "cell_type": "markdown",
   "metadata": {},
   "source": [
    "This subpackage contains integration schemes for both ordinary functions and differential equations. "
   ]
  },
  {
   "cell_type": "markdown",
   "metadata": {},
   "source": [
    "## Function integration"
   ]
  },
  {
   "cell_type": "markdown",
   "metadata": {},
   "source": [
    "The `quad()` function (which uses Fortran's QUADPACK) provides a simple way to evaluate a definite integral over the specified domain. As a simple example, let's integrate the function\n",
    "$$\n",
    "f(x) = a x^3 + b x^2 + c\n",
    "$$\n",
    "\n",
    "from -5 to 5 for two choices of parameters. We start be defining a Python function to evaluate this function given the parameters:"
   ]
  },
  {
   "cell_type": "code",
   "execution_count": null,
   "metadata": {
    "collapsed": true
   },
   "outputs": [],
   "source": [
    "def f(x, a, b, c):\n",
    "    return a*x**3 + b*x**2 + c"
   ]
  },
  {
   "cell_type": "markdown",
   "metadata": {},
   "source": [
    "Now we'll integrate the function with\n",
    "$$\n",
    "a = 1.\\\\\n",
    "b = 2.\\\\\n",
    "c = -1.\n",
    "$$"
   ]
  },
  {
   "cell_type": "code",
   "execution_count": null,
   "metadata": {
    "collapsed": false
   },
   "outputs": [],
   "source": [
    "val,err = integrate.quad(f, -5., 5, args=(1.,2.,-1.))\n",
    "print(val)"
   ]
  },
  {
   "cell_type": "markdown",
   "metadata": {},
   "source": [
    "The function returns the value of the integral and the error.\n",
    "\n",
    "We can change the parameters of the function and re-compute the integral by changing the arguments:"
   ]
  },
  {
   "cell_type": "code",
   "execution_count": null,
   "metadata": {
    "collapsed": false
   },
   "outputs": [],
   "source": [
    "val,err = integrate.quad(f, -5., 5, args=(-3.,6.,0.))\n",
    "print(val)"
   ]
  },
  {
   "cell_type": "markdown",
   "metadata": {},
   "source": [
    "---"
   ]
  },
  {
   "cell_type": "markdown",
   "metadata": {},
   "source": [
    "There are other integration schemes that operate on pre-computed grids of function values. For example, to use the trapezoidal rule or Simpson's rule on a fixed grid of points, we first have to call the function over some grid. We'll use the same function and domain as above but with 1024 samples:"
   ]
  },
  {
   "cell_type": "code",
   "execution_count": null,
   "metadata": {
    "collapsed": false
   },
   "outputs": [],
   "source": [
    "x = np.linspace(-5,5,1024)\n",
    "y = f(x, 1., 2, -1)\n",
    "\n",
    "val = integrate.trapz(y, x=x)\n",
    "print(val)"
   ]
  },
  {
   "cell_type": "markdown",
   "metadata": {},
   "source": [
    "This differs slightly from the value computed with QUADPACK. We could also try Simpson's rule:"
   ]
  },
  {
   "cell_type": "code",
   "execution_count": null,
   "metadata": {
    "collapsed": false
   },
   "outputs": [],
   "source": [
    "val = integrate.simps(y, x=x)\n",
    "print(val)"
   ]
  },
  {
   "cell_type": "markdown",
   "metadata": {},
   "source": [
    "There, that's a bit closer."
   ]
  },
  {
   "cell_type": "markdown",
   "metadata": {},
   "source": [
    "## ODE integration"
   ]
  },
  {
   "cell_type": "markdown",
   "metadata": {},
   "source": [
    "This is a light wrapper around `lsoda` from Fortran's ODEPACK, which is a very fast library for integrating ordinary differential equations. Let's start with a simple example that has probably haunted you since you took the physics GRE: the double pendulum. ([Check here](http://scienceworld.wolfram.com/physics/DoublePendulum.html) if you want to follow along with the math, but I'm going to just start by writing down the Hamiltonian for the system assuming $l_1 = l_2 = m_1 = m_2 = 1.$ (in whatever units you need to make that work...)). \n",
    "\n",
    "In fact, to make things even simpler for us, I'm going to introduce a new Python library called Sympy (if you don't have it, you can `conda install sympy` or `pip install sympy`). Sympy is used for symbolic manipulation in Python -- think of it like bringing Mathematica functionality in to Python. One nice thing we can do is use it to take derivatives for us, then output code (so we don't make any mistakes coding things up).\n",
    "\n",
    "I'll use the variables `p1` and `p2` to represent $p_{\\theta_1}$ and $p_{\\theta_2}$, and `t1` and `t2` for $\\theta_1$ and $\\theta_2$."
   ]
  },
  {
   "cell_type": "code",
   "execution_count": null,
   "metadata": {
    "collapsed": true
   },
   "outputs": [],
   "source": [
    "import sympy as sym\n",
    "sym.init_printing() # for pretty-printing Latex\n",
    "from sympy.utilities import codegen # for generating code from equations"
   ]
  },
  {
   "cell_type": "code",
   "execution_count": null,
   "metadata": {
    "collapsed": false
   },
   "outputs": [],
   "source": [
    "p1,p2,t1,t2 = sym.symbols('p1, p2, t1, t2')\n",
    "g = sym.symbols('g') # gravitational acceleration"
   ]
  },
  {
   "cell_type": "code",
   "execution_count": null,
   "metadata": {
    "collapsed": false
   },
   "outputs": [],
   "source": [
    "H = (p1**2 + 2*p2**2 - 2*p1*p2*sym.cos(t1-t2)) / (2 * (1 + sym.sin(t1-t2)**2)) - g*sym.cos(t2) - 2*g*sym.cos(t1)\n",
    "H"
   ]
  },
  {
   "cell_type": "markdown",
   "metadata": {},
   "source": [
    "We can double check that we coded up the Hamiltonian correctly using the nicely formatted Latex representation of the equation. The derivatives we need are $\\dot{\\theta}_1$, $\\dot{\\theta}_2$, $\\dot{p_{\\theta_1}}$, and $\\dot{p_{\\theta_2}}$:"
   ]
  },
  {
   "cell_type": "code",
   "execution_count": null,
   "metadata": {
    "collapsed": false
   },
   "outputs": [],
   "source": [
    "# create python functions to evaluate Hamilton's equations:\n",
    "t1_dot = sym.lambdify((t1,t2,p1,p2,g), sym.diff(H, p1), modules='numpy')\n",
    "t2_dot = sym.lambdify((t1,t2,p1,p2,g), sym.diff(H, p2), modules='numpy')\n",
    "p1_dot = sym.lambdify((t1,t2,p1,p2,g), -sym.diff(H, t1), modules='numpy')\n",
    "p2_dot = sym.lambdify((t1,t2,p1,p2,g), -sym.diff(H, t2), modules='numpy')"
   ]
  },
  {
   "cell_type": "markdown",
   "metadata": {},
   "source": [
    "Now we'll create a function to actually form the system of ODEs that we will pass in to the ODE solver in scipy:"
   ]
  },
  {
   "cell_type": "code",
   "execution_count": null,
   "metadata": {
    "collapsed": true
   },
   "outputs": [],
   "source": [
    "def derivs(w, t, g):\n",
    "    \"\"\" \n",
    "    Evaluate the derivatives of w = (theta1, theta2, p_theta1, p_theta2), \n",
    "    e.g., Hamilton's equations, at time t.\n",
    "    \"\"\"\n",
    "    dH = np.zeros_like(w)\n",
    "    \n",
    "    args = list(w) + [g]\n",
    "    dH[0] = t1_dot(*args)\n",
    "    dH[1] = t2_dot(*args)\n",
    "    dH[2] = p1_dot(*args)\n",
    "    dH[3] = p2_dot(*args)\n",
    "    \n",
    "    return dH"
   ]
  },
  {
   "cell_type": "code",
   "execution_count": null,
   "metadata": {
    "collapsed": false
   },
   "outputs": [],
   "source": [
    "# create a time array from 0 to 100 with 1024 steps\n",
    "t = np.linspace(0., 20, 1024)\n",
    "\n",
    "# t1 and t2 are the initial angles (degrees)\n",
    "# p1 and p2 are the initial angular velocities (degrees per second)\n",
    "t1 = 120.0\n",
    "t2 = -10.0\n",
    "p1 = 0.0\n",
    "p2 = 0.0\n",
    "\n",
    "# initial state -- convert from degrees (above) to radians\n",
    "state = np.radians([t1, t2, p1, p2])\n",
    "\n",
    "# integrate your ODE using scipy.integrate.\n",
    "y = integrate.odeint(derivs, state, t, args=(9.8,))"
   ]
  },
  {
   "cell_type": "markdown",
   "metadata": {},
   "source": [
    "Now we convert the solution to cartesian coordinates to plot the trajectory:"
   ]
  },
  {
   "cell_type": "code",
   "execution_count": null,
   "metadata": {
    "collapsed": true
   },
   "outputs": [],
   "source": [
    "x1 = np.sin(y[:,0])\n",
    "y1 = -np.cos(y[:,0])\n",
    "\n",
    "x2 = np.sin(y[:,1]) + x1\n",
    "y2 = -np.cos(y[:,1]) + y1"
   ]
  },
  {
   "cell_type": "code",
   "execution_count": null,
   "metadata": {
    "collapsed": false
   },
   "outputs": [],
   "source": [
    "plt.figure(figsize=(6,6))\n",
    "plt.plot(x1, y1, marker=None)\n",
    "plt.plot(x2, y2, marker=None)\n",
    "plt.xlim(-1,1)\n",
    "plt.ylim(-2.5,0.5)\n",
    "plt.xlabel(\"x\")\n",
    "plt.ylabel(\"y\")"
   ]
  },
  {
   "cell_type": "markdown",
   "metadata": {
    "collapsed": true
   },
   "source": [
    "---\n",
    "\n",
    "<h1 style='background-color: #cccccc; padding: 15px;'>Exercises</h1>"
   ]
  },
  {
   "cell_type": "markdown",
   "metadata": {},
   "source": [
    "We're going to estimate the number of RR Lyrae stars in a wedge out of a spherical shell centered on the Sun. Let's assume the number density of RR Lyrae stars has a density profile of the form:\n",
    "$$\n",
    "\\rho(r) = \\ \\rho_0 \\, \\left(\\frac{r_0}{r}\\right)^\\alpha\n",
    "$$\n",
    "\n",
    "with $\\rho_0 = 4.5~{\\rm kpc}^{-3}$, $r_0 = 8~{\\rm kpc}$, $\\alpha = 2.5$, and $r = \\sqrt{x^2+y^2+z^2}$ where $x,y,z$ are defined relative to the Galactic center.\n",
    "\n",
    "This density relation is defined relative to the Galactic center. Start by writing a function to compute the number density given a Galactic longitude, latitude, and _heliocentric_ distance."
   ]
  },
  {
   "cell_type": "code",
   "execution_count": null,
   "metadata": {
    "collapsed": true
   },
   "outputs": [],
   "source": [
    "def density(l, b, d):\n",
    "    x = d*np.cos(l)*np.cos(b) - 8.\n",
    "    y = d*np.sin(l)*np.cos(b)\n",
    "    z = d*np.sin(b)\n",
    "    r = np.sqrt(x**2 + y**2 + z**2)\n",
    "    \n",
    "    # TODO: evaluate the density relation at r\n",
    "    # return val"
   ]
  },
  {
   "cell_type": "markdown",
   "metadata": {},
   "source": [
    "2) Integrate this density over a portion of a spherical shell centered on the Sun:\n",
    "$$\n",
    "100^\\circ < l < 160^\\circ\\\\\n",
    "-35^\\circ < b < -15^\\circ\\\\\n",
    "10~{\\rm kpc} < d < 20~{\\rm kpc}\n",
    "$$\n",
    "\n",
    "You'll first need to write a function to evaluate the integrand:\n",
    "$$\n",
    "\\iiint \\rho(l,b,d) \\, d^2 \\, \\cos b \\, {\\rm d}b \\, {\\rm d}l \\, {\\rm d}d\n",
    "$$"
   ]
  },
  {
   "cell_type": "code",
   "execution_count": null,
   "metadata": {
    "collapsed": false
   },
   "outputs": [],
   "source": [
    "def integrand(l, b, d):\n",
    "    # TODO: evaluate integrand\n",
    "    pass"
   ]
  },
  {
   "cell_type": "markdown",
   "metadata": {
    "solution": "integrate.tplquad(integrand, 10, 20, lambda *args: np.radians(-35), lambda *args: np.radians(-15), lambda *args: np.radians(100), lambda *args: np.radians(160))"
   },
   "source": [
    "3) Use `integrate.tplquad` to integrate the integrand -- how many RR Lyrae stars are expected in this region?"
   ]
  },
  {
   "cell_type": "code",
   "execution_count": null,
   "metadata": {
    "collapsed": true
   },
   "outputs": [],
   "source": []
  }
 ],
 "metadata": {
  "kernelspec": {
   "display_name": "Python 2",
   "language": "python",
   "name": "python2"
  },
  "language_info": {
   "codemirror_mode": {
    "name": "ipython",
    "version": 2
   },
   "file_extension": ".py",
   "mimetype": "text/x-python",
   "name": "python",
   "nbconvert_exporter": "python",
   "pygments_lexer": "ipython2",
   "version": "2.7.10"
  }
 },
 "nbformat": 4,
 "nbformat_minor": 0
}
