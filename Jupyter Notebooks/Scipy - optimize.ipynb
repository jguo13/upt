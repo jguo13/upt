{
 "cells": [
  {
   "cell_type": "markdown",
   "metadata": {},
   "source": [
    "# scipy.optimize\n",
    "\n",
    "### Adrian Price-Whelan"
   ]
  },
  {
   "cell_type": "code",
   "execution_count": null,
   "metadata": {
    "collapsed": true
   },
   "outputs": [],
   "source": [
    "import matplotlib.pyplot as plt\n",
    "%matplotlib inline\n",
    "import numpy as np\n",
    "from scipy import optimize"
   ]
  },
  {
   "cell_type": "markdown",
   "metadata": {},
   "source": [
    "This subpackage contains optimization schemes for both scalar and multivariate functions."
   ]
  },
  {
   "cell_type": "markdown",
   "metadata": {},
   "source": [
    "--- \n",
    "\n",
    "## Function minimization"
   ]
  },
  {
   "cell_type": "markdown",
   "metadata": {},
   "source": [
    "A number of the routines in this subpackage are for minimizing functions. Let's start with a simple example: a quadratic function."
   ]
  },
  {
   "cell_type": "code",
   "execution_count": null,
   "metadata": {
    "collapsed": false
   },
   "outputs": [],
   "source": [
    "def f(x):\n",
    "    return 3*(x - 0.71)**2\n",
    "\n",
    "x = np.linspace(-1, 2, 100)\n",
    "plt.plot(x, f(x), marker=None)"
   ]
  },
  {
   "cell_type": "code",
   "execution_count": null,
   "metadata": {
    "collapsed": false
   },
   "outputs": [],
   "source": [
    "res = optimize.fmin(f, x0=0., disp=False)\n",
    "print(res)"
   ]
  },
  {
   "cell_type": "markdown",
   "metadata": {},
   "source": [
    "---\n",
    "\n",
    "## Bounded minimization"
   ]
  },
  {
   "cell_type": "markdown",
   "metadata": {},
   "source": [
    "Let's imagine the function we're trying to minimize has multiple minima, and we'd like to find the minimum between a particular set of bounds. For example, the function below:"
   ]
  },
  {
   "cell_type": "code",
   "execution_count": null,
   "metadata": {
    "collapsed": false
   },
   "outputs": [],
   "source": [
    "def f2(x):\n",
    "    return x**4 + (x - 0.5)**3 + 0.7*(x-1)**2\n",
    "\n",
    "x = np.linspace(-3, 3, 100)\n",
    "plt.semilogy(x, f2(x), marker=None)"
   ]
  },
  {
   "cell_type": "markdown",
   "metadata": {},
   "source": [
    "Let's say we want to find the minimum between -2 and -0.5 -- we can use `brent()` to specify a bounds to minimize over:"
   ]
  },
  {
   "cell_type": "code",
   "execution_count": null,
   "metadata": {
    "collapsed": false
   },
   "outputs": [],
   "source": [
    "res = optimize.brent(f2, brack=(-2,0))\n",
    "print(res)"
   ]
  },
  {
   "cell_type": "markdown",
   "metadata": {},
   "source": [
    "---\n",
    "\n",
    "## Solving functions"
   ]
  },
  {
   "cell_type": "markdown",
   "metadata": {},
   "source": [
    "`fsolve()` finds the roots of a function $f(x) = 0$ given an initial guess. For example, let's consider the Kepler problem in its simplest form:\n",
    "\n",
    "$$\n",
    "M = E - \\epsilon \\sin E\n",
    "$$\n",
    "\n",
    "($M$ is the mean anomaly, $E$ is the eccentric anomaly, and $\\epsilon$ is the eccentricity of the orbit). For a given eccentricity and mean anomaly, we can solve for the eccentric anomaly by solving for the roots of:\n",
    "\n",
    "$$\n",
    "f(E) = E - \\epsilon \\sin E - M = 0\n",
    "$$"
   ]
  },
  {
   "cell_type": "code",
   "execution_count": null,
   "metadata": {
    "collapsed": true
   },
   "outputs": [],
   "source": [
    "def kepler(E, eps, M):\n",
    "    return E - eps*np.sin(E) - M"
   ]
  },
  {
   "cell_type": "code",
   "execution_count": null,
   "metadata": {
    "collapsed": false
   },
   "outputs": [],
   "source": [
    "optimize.fsolve(kepler, x0=0., args=(0.1, 1.))"
   ]
  },
  {
   "cell_type": "markdown",
   "metadata": {},
   "source": [
    "---\n",
    "\n",
    "## Least-squares fitting"
   ]
  },
  {
   "cell_type": "markdown",
   "metadata": {},
   "source": [
    "Minimize the sum of squares of the residuals between function values and some data. This uses the Levenberg-Marquardt algorithm, which works even for nonlinear least-squares problems. If your problem is linear, you should probably just use [linear algebra](http://arxiv.org/abs/1008.4686).\n",
    "\n",
    "To demonstrate how to use `leastsq()`, let's first generate some data:"
   ]
  },
  {
   "cell_type": "code",
   "execution_count": null,
   "metadata": {
    "collapsed": true
   },
   "outputs": [],
   "source": [
    "def model(x, A, ph):\n",
    "    # A : amplitude\n",
    "    # ph : phase\n",
    "    return A * np.cos(2*np.pi * x + ph)"
   ]
  },
  {
   "cell_type": "code",
   "execution_count": null,
   "metadata": {
    "collapsed": false
   },
   "outputs": [],
   "source": [
    "npts = 25\n",
    "true_A = 1.3\n",
    "true_ph = 0.35\n",
    "\n",
    "x = np.random.uniform(0, 3., npts)\n",
    "y = model(x, true_A, true_ph)\n",
    "\n",
    "# \"observe\" the data with some uncertainties\n",
    "sigma = 0.1\n",
    "y = np.random.normal(y, sigma)\n",
    "\n",
    "plt.errorbar(x, y, sigma, linestyle='none', marker='o')"
   ]
  },
  {
   "cell_type": "markdown",
   "metadata": {},
   "source": [
    "We now define a function to compute the residuals between the data and the model with a given set of parameters (the error function):"
   ]
  },
  {
   "cell_type": "code",
   "execution_count": null,
   "metadata": {
    "collapsed": true
   },
   "outputs": [],
   "source": [
    "def error_func(params, x, y, sigma):\n",
    "    return -((y - model(x, *params)) / sigma)**2"
   ]
  },
  {
   "cell_type": "code",
   "execution_count": null,
   "metadata": {
    "collapsed": false
   },
   "outputs": [],
   "source": [
    "p_opt, ier = optimize.leastsq(error_func, [1., 0.5], args=(x, y, sigma))"
   ]
  },
  {
   "cell_type": "code",
   "execution_count": null,
   "metadata": {
    "collapsed": false
   },
   "outputs": [],
   "source": [
    "print(p_opt)"
   ]
  },
  {
   "cell_type": "code",
   "execution_count": null,
   "metadata": {
    "collapsed": false
   },
   "outputs": [],
   "source": [
    "x_opt = np.linspace(x.min(), x.max(), 1000)\n",
    "y_opt = model(x_opt, *p_opt)\n",
    "plt.errorbar(x, y, sigma, linestyle='none', marker='o')\n",
    "plt.plot(x_opt, y_opt, linestyle='-', marker=None)"
   ]
  },
  {
   "cell_type": "markdown",
   "metadata": {
    "collapsed": true
   },
   "source": [
    "---\n",
    "\n",
    "<h1 style='background-color: #cccccc; padding: 15px;'>Exercises</h1>"
   ]
  },
  {
   "cell_type": "markdown",
   "metadata": {},
   "source": [
    "For the exercises below, we're going to `scipy.optimize.leastsq` to fit an absorption line model to a small section of a spectrum. Let's start by downloading a spectrum to use:"
   ]
  },
  {
   "cell_type": "code",
   "execution_count": null,
   "metadata": {
    "collapsed": true
   },
   "outputs": [],
   "source": [
    "# both of these are standard-library\n",
    "import urllib2\n",
    "from cStringIO import StringIO\n",
    "\n",
    "# yep, using astropy before we've covered astropy...\n",
    "from astropy.io import fits"
   ]
  },
  {
   "cell_type": "code",
   "execution_count": null,
   "metadata": {
    "collapsed": false
   },
   "outputs": [],
   "source": [
    "url = \"http://mirror.sdss3.org/sas/dr12/sdss/spectro/redux/26/spectra/2393/spec-2393-54156-0622.fits\"\n",
    "response = urllib2.urlopen(url)\n",
    "file_obj = StringIO()\n",
    "file_obj.write(response.read())\n",
    "file_obj.seek(0)"
   ]
  },
  {
   "cell_type": "markdown",
   "metadata": {},
   "source": [
    "Now, `file_obj` is a file object that contains the FITS file data from the URL we specified -- we can read the FITS file using Astropy"
   ]
  },
  {
   "cell_type": "code",
   "execution_count": null,
   "metadata": {
    "collapsed": false
   },
   "outputs": [],
   "source": [
    "hdulist = fits.open(file_obj) # read file object as a FITS file\n",
    "data = hdulist['coadd'].data # get data from the 'coadd' key of the HDUList"
   ]
  },
  {
   "cell_type": "markdown",
   "metadata": {},
   "source": [
    "Here we extract the relevant columns out of the HDU containing the spectrum itself:"
   ]
  },
  {
   "cell_type": "code",
   "execution_count": null,
   "metadata": {
    "collapsed": false
   },
   "outputs": [],
   "source": [
    "wvln = 10**data['loglam'] # log-wavelength (Angstroms)\n",
    "flux = data['flux'] # flux\n",
    "ivar = data['ivar'] # inverse variance\n",
    "\n",
    "plt.figure(figsize=(8,6))\n",
    "plt.plot(wvln, flux, drawstyle='steps', marker=None)\n",
    "plt.xlim(3500, 9500)"
   ]
  },
  {
   "cell_type": "markdown",
   "metadata": {},
   "source": [
    "Select a subset of the data $\\pm$100 $\\mathring {\\rm A}$ around H$\\alpha$ (6563 $\\mathring {\\rm A}$), store these as new variables (e.g., `wvln_Ha` and etc.). Plot the subset:"
   ]
  },
  {
   "cell_type": "code",
   "execution_count": null,
   "metadata": {
    "collapsed": false
   },
   "outputs": [],
   "source": [
    "halpha = 6563.\n",
    "# <fill in here>"
   ]
  },
  {
   "cell_type": "markdown",
   "metadata": {},
   "source": [
    "Re-center the wavelength array so that H$\\alpha$ is at 0"
   ]
  },
  {
   "cell_type": "code",
   "execution_count": null,
   "metadata": {
    "collapsed": false
   },
   "outputs": [],
   "source": []
  },
  {
   "cell_type": "markdown",
   "metadata": {},
   "source": [
    "We are going to fit the absorption line using a Voigt profile plus a line (for the continuum). Start by writing a function `model()` that, given a set of parameters and a wavelength array, computes our model for the absorption line. I've provided a function below to compute the Voigt profile because it is a bit ugly..."
   ]
  },
  {
   "cell_type": "code",
   "execution_count": null,
   "metadata": {
    "collapsed": false
   },
   "outputs": [],
   "source": [
    "from scipy.special import wofz\n",
    "\n",
    "def voigt(wvln, amp, pos, fwhm, shape):\n",
    "    shape_fac = 1j * shape * np.sqrt(np.log(2.))\n",
    "    tmp = 1 / wofz(shape_fac).real\n",
    "    tmp = tmp * amp * wofz(2*np.sqrt(np.log(2.)) * (wvln-pos)/fwhm + shape_fac).real\n",
    "    return tmp\n",
    "\n",
    "def model(params, wvln):\n",
    "    \"\"\" \n",
    "    The parameters, params, will be:\n",
    "        \n",
    "        slope, intercept (for continuum)\n",
    "        amplitude, position, fwhm, and shape (Voigt profile)\n",
    "    \"\"\"\n",
    "    m,b,amp,pos,fwhm,shape = params\n",
    "            \n",
    "    # <fill in here>"
   ]
  },
  {
   "cell_type": "markdown",
   "metadata": {},
   "source": [
    "Play with the parameters until you get something that qualitatively looks like the line above - do this by over-plotting the model over the 0-centered data:"
   ]
  },
  {
   "cell_type": "code",
   "execution_count": null,
   "metadata": {
    "collapsed": false
   },
   "outputs": [],
   "source": [
    "plt.figure(figsize=(8,6))\n",
    "plt.plot(wvln_Ha, flux_Ha, drawstyle='steps-mid', \n",
    "         marker=None, linewidth=1., color='#666666')\n",
    "plt.errorbar(wvln_Ha, flux_Ha, 1/np.sqrt(ivar_Ha), \n",
    "             marker='.', linestyle='none', color='k')\n",
    "\n",
    "# <plot model of the line here>\n",
    "\n",
    "plt.xlim(wvln_Ha.min(), wvln_Ha.max())\n",
    "plt.xlabel(r\"Wavelength [$\\AA$]\")\n",
    "plt.ylabel(r\"Flux\")"
   ]
  },
  {
   "cell_type": "markdown",
   "metadata": {},
   "source": [
    "Now we're going to write a function that evaluates the logarithm of the likelihood of the data given a set of model parameters. In this case, we're going to assume we have Gaussian noise, so this is equivalent to chi-squared."
   ]
  },
  {
   "cell_type": "code",
   "execution_count": null,
   "metadata": {
    "collapsed": true
   },
   "outputs": [],
   "source": [
    "def ln_likelihood(params, wvln, flux, ivar):\n",
    "    # <Fill in here>\n",
    "    pass"
   ]
  },
  {
   "cell_type": "markdown",
   "metadata": {},
   "source": [
    "Use `optimize.leastsq` to find the best-fit model"
   ]
  },
  {
   "cell_type": "code",
   "execution_count": null,
   "metadata": {
    "collapsed": false
   },
   "outputs": [],
   "source": [
    "# p_opt,ier = optimize.leastsq(<fill in here>) "
   ]
  },
  {
   "cell_type": "markdown",
   "metadata": {},
   "source": [
    "Plot your best-fit model over the data:"
   ]
  },
  {
   "cell_type": "code",
   "execution_count": null,
   "metadata": {
    "collapsed": true
   },
   "outputs": [],
   "source": []
  }
 ],
 "metadata": {
  "kernelspec": {
   "display_name": "Python 2",
   "language": "python",
   "name": "python2"
  },
  "language_info": {
   "codemirror_mode": {
    "name": "ipython",
    "version": 2
   },
   "file_extension": ".py",
   "mimetype": "text/x-python",
   "name": "python",
   "nbconvert_exporter": "python",
   "pygments_lexer": "ipython2",
   "version": "2.7.10"
  }
 },
 "nbformat": 4,
 "nbformat_minor": 0
}
