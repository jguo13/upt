{
 "cells": [
  {
   "cell_type": "markdown",
   "metadata": {},
   "source": [
    "# Numpy"
   ]
  },
  {
   "cell_type": "markdown",
   "metadata": {},
   "source": [
    "To import `numpy`, the convention is to do:"
   ]
  },
  {
   "cell_type": "code",
   "execution_count": 2,
   "metadata": {
    "collapsed": false
   },
   "outputs": [],
   "source": [
    "import numpy as np"
   ]
  },
  {
   "cell_type": "markdown",
   "metadata": {},
   "source": [
    "## Getting help"
   ]
  },
  {
   "cell_type": "code",
   "execution_count": 3,
   "metadata": {
    "collapsed": false
   },
   "outputs": [
    {
     "name": "stdout",
     "output_type": "stream",
     "text": [
      "Search results for 'evenly spaced numbers'\n",
      "------------------------------------------\n",
      "numpy.linspace\n",
      "    Return evenly spaced numbers over a specified interval.\n",
      "numpy.logspace\n",
      "    Return numbers spaced evenly on a log scale.\n",
      "numpy.arange\n",
      "    Return evenly spaced values within a given interval.\n",
      "numpy.ma.arange\n",
      "    Return evenly spaced values within a given interval.\n"
     ]
    }
   ],
   "source": [
    "np.lookfor('evenly spaced numbers')"
   ]
  },
  {
   "cell_type": "code",
   "execution_count": 4,
   "metadata": {
    "collapsed": true
   },
   "outputs": [],
   "source": [
    "np.linspace?"
   ]
  },
  {
   "cell_type": "code",
   "execution_count": 5,
   "metadata": {
    "collapsed": true
   },
   "outputs": [],
   "source": [
    "np.arc*?"
   ]
  },
  {
   "cell_type": "markdown",
   "metadata": {},
   "source": [
    "---"
   ]
  },
  {
   "cell_type": "markdown",
   "metadata": {},
   "source": [
    "## Why?"
   ]
  },
  {
   "cell_type": "markdown",
   "metadata": {},
   "source": [
    "Python's collections (e.g. `list`) can be heterogeneous -- e.g., can contain objects of different types:"
   ]
  },
  {
   "cell_type": "code",
   "execution_count": 6,
   "metadata": {
    "collapsed": false
   },
   "outputs": [
    {
     "data": {
      "text/plain": [
       "[1, 'cat', 15.13451, [1, 2, 3]]"
      ]
     },
     "execution_count": 6,
     "metadata": {},
     "output_type": "execute_result"
    }
   ],
   "source": [
    "[1, \"cat\", 15.13451, [1,2,3]]"
   ]
  },
  {
   "cell_type": "markdown",
   "metadata": {},
   "source": [
    "This is very convenient for many applications, but means there is a lot of overhead if you simply have a list of numbers and want to, for example, compute the same operation on all elements. The main feature of Numpy is to offer an array object that represents a contiguous block in memory. This is more like arrays from C or other languages. Arrays most commonly share a common data type over all elements (e.g., integer), but certain kinds of arrays may have mixed types. For homogeneous arrays, Python doesn't have to infer the datatype of every element -- for this and many other more detailed reasons, numerical operations with arrays are generally __much__ more efficient than on lists:"
   ]
  },
  {
   "cell_type": "code",
   "execution_count": 7,
   "metadata": {
    "collapsed": false
   },
   "outputs": [
    {
     "data": {
      "text/plain": [
       "array([1, 2, 3, 4, 5, 6])"
      ]
     },
     "execution_count": 7,
     "metadata": {},
     "output_type": "execute_result"
    }
   ],
   "source": [
    "np.array([1,2,3,4,5,6])"
   ]
  },
  {
   "cell_type": "markdown",
   "metadata": {},
   "source": [
    "---\n",
    "\n",
    "## The ndarray object"
   ]
  },
  {
   "cell_type": "markdown",
   "metadata": {},
   "source": [
    "Numpy arrays are created by passing an iterable (like a Python `list`) to the numpy `array()` function"
   ]
  },
  {
   "cell_type": "code",
   "execution_count": 8,
   "metadata": {
    "collapsed": false
   },
   "outputs": [],
   "source": [
    "some_array = np.array([1,2,3,4])"
   ]
  },
  {
   "cell_type": "code",
   "execution_count": 11,
   "metadata": {
    "collapsed": false
   },
   "outputs": [
    {
     "data": {
      "text/plain": [
       "array([1, 2, 3, 4])"
      ]
     },
     "execution_count": 11,
     "metadata": {},
     "output_type": "execute_result"
    }
   ],
   "source": [
    "some_array"
   ]
  },
  {
   "cell_type": "markdown",
   "metadata": {},
   "source": [
    "The above statement infers that the datatype is an integer because all of the elements are integers. We could enforce this by specifying a datatype"
   ]
  },
  {
   "cell_type": "code",
   "execution_count": 12,
   "metadata": {
    "collapsed": false
   },
   "outputs": [
    {
     "data": {
      "text/plain": [
       "array([1, 2, 3, 4, 5, 6])"
      ]
     },
     "execution_count": 12,
     "metadata": {},
     "output_type": "execute_result"
    }
   ],
   "source": [
    "np.array([1,2,3,4,5,6], dtype=int)"
   ]
  },
  {
   "cell_type": "code",
   "execution_count": 13,
   "metadata": {
    "collapsed": false
   },
   "outputs": [
    {
     "data": {
      "text/plain": [
       "array([ 1.,  2.,  3.,  4.,  5.,  6.])"
      ]
     },
     "execution_count": 13,
     "metadata": {},
     "output_type": "execute_result"
    }
   ],
   "source": [
    "np.array([1,2,3,4,5,6], dtype=float)"
   ]
  },
  {
   "cell_type": "code",
   "execution_count": 17,
   "metadata": {
    "collapsed": false
   },
   "outputs": [
    {
     "data": {
      "text/plain": [
       "array([ 1.0,  2.0,  4.0], dtype=float128)"
      ]
     },
     "execution_count": 17,
     "metadata": {},
     "output_type": "execute_result"
    }
   ],
   "source": [
    "np.array([1, 2, 4.], dtype=np.float128)"
   ]
  },
  {
   "cell_type": "markdown",
   "metadata": {},
   "source": [
    "Complex (in a math sense) data types are supported as well:"
   ]
  },
  {
   "cell_type": "code",
   "execution_count": 18,
   "metadata": {
    "collapsed": false
   },
   "outputs": [
    {
     "data": {
      "text/plain": [
       "dtype('complex128')"
      ]
     },
     "execution_count": 18,
     "metadata": {},
     "output_type": "execute_result"
    }
   ],
   "source": [
    "a = np.array([1 + 6j, 2.3 - 11j])\n",
    "a.dtype"
   ]
  },
  {
   "cell_type": "markdown",
   "metadata": {},
   "source": [
    "Numpy arrays can have an arbitrary number of dimensions. For example, we could create a 2D array by passing in a list of lists:"
   ]
  },
  {
   "cell_type": "code",
   "execution_count": 19,
   "metadata": {
    "collapsed": false
   },
   "outputs": [
    {
     "data": {
      "text/plain": [
       "array([[1, 2],\n",
       "       [3, 4]])"
      ]
     },
     "execution_count": 19,
     "metadata": {},
     "output_type": "execute_result"
    }
   ],
   "source": [
    "arr = np.array([[1,2], [3,4]])\n",
    "arr"
   ]
  },
  {
   "cell_type": "markdown",
   "metadata": {},
   "source": [
    "Some useful attributes for prying in to arrays:"
   ]
  },
  {
   "cell_type": "code",
   "execution_count": 20,
   "metadata": {
    "collapsed": false
   },
   "outputs": [
    {
     "data": {
      "text/plain": [
       "2"
      ]
     },
     "execution_count": 20,
     "metadata": {},
     "output_type": "execute_result"
    }
   ],
   "source": [
    "arr.ndim # number of dimensions"
   ]
  },
  {
   "cell_type": "code",
   "execution_count": 21,
   "metadata": {
    "collapsed": false
   },
   "outputs": [
    {
     "data": {
      "text/plain": [
       "(2, 2)"
      ]
     },
     "execution_count": 21,
     "metadata": {},
     "output_type": "execute_result"
    }
   ],
   "source": [
    "arr.shape # length along each dimension"
   ]
  },
  {
   "cell_type": "code",
   "execution_count": 22,
   "metadata": {
    "collapsed": false
   },
   "outputs": [
    {
     "data": {
      "text/plain": [
       "4"
      ]
     },
     "execution_count": 22,
     "metadata": {},
     "output_type": "execute_result"
    }
   ],
   "source": [
    "arr.size # total number of elements"
   ]
  },
  {
   "cell_type": "markdown",
   "metadata": {},
   "source": [
    "What about a 3 by 3 array?\n",
    "\n",
    "$$\\left(\n",
    "    \\begin{array}{c} \n",
    "    1 & 2 & 3\\\\\\\\\n",
    "    4 & 5 & 6\\\\\\\\\n",
    "    7 & 8 & 9\n",
    "    \\end{array} \n",
    "\\right)\n",
    "$$"
   ]
  },
  {
   "cell_type": "code",
   "execution_count": 23,
   "metadata": {
    "collapsed": false
   },
   "outputs": [
    {
     "data": {
      "text/plain": [
       "array([[1, 2, 3],\n",
       "       [4, 5, 6],\n",
       "       [7, 8, 9]])"
      ]
     },
     "execution_count": 23,
     "metadata": {},
     "output_type": "execute_result"
    }
   ],
   "source": [
    "arr = np.array([[1,2,3],\n",
    "                [4,5,6],\n",
    "                [7,8,9]])\n",
    "arr"
   ]
  },
  {
   "cell_type": "code",
   "execution_count": 24,
   "metadata": {
    "collapsed": false
   },
   "outputs": [
    {
     "data": {
      "text/plain": [
       "2"
      ]
     },
     "execution_count": 24,
     "metadata": {},
     "output_type": "execute_result"
    }
   ],
   "source": [
    "arr.ndim"
   ]
  },
  {
   "cell_type": "code",
   "execution_count": 25,
   "metadata": {
    "collapsed": false
   },
   "outputs": [
    {
     "data": {
      "text/plain": [
       "(3, 3)"
      ]
     },
     "execution_count": 25,
     "metadata": {},
     "output_type": "execute_result"
    }
   ],
   "source": [
    "arr.shape"
   ]
  },
  {
   "cell_type": "code",
   "execution_count": 26,
   "metadata": {
    "collapsed": false
   },
   "outputs": [
    {
     "data": {
      "text/plain": [
       "9"
      ]
     },
     "execution_count": 26,
     "metadata": {},
     "output_type": "execute_result"
    }
   ],
   "source": [
    "arr.size"
   ]
  },
  {
   "cell_type": "markdown",
   "metadata": {},
   "source": [
    "A quick note: in Numpy terminology, dimensions are called `axes` -- so, the 2nd dimension is `axis=1`"
   ]
  },
  {
   "cell_type": "markdown",
   "metadata": {},
   "source": [
    "---\n",
    "\n",
    "## Creating arrays\n",
    "\n",
    "There are a number of useful convenience functions for creating arrays with various properties. For example, Numpy provides an array version of Python's built-in `range()` function called `arange()`"
   ]
  },
  {
   "cell_type": "code",
   "execution_count": 27,
   "metadata": {
    "collapsed": false
   },
   "outputs": [
    {
     "data": {
      "text/plain": [
       "array([0, 1, 2, 3, 4])"
      ]
     },
     "execution_count": 27,
     "metadata": {},
     "output_type": "execute_result"
    }
   ],
   "source": [
    "np.arange(5) # create numbers from 0 up to but not including 5"
   ]
  },
  {
   "cell_type": "markdown",
   "metadata": {},
   "source": [
    "The bonus to using `arange()` is that you can specify a float step:"
   ]
  },
  {
   "cell_type": "code",
   "execution_count": 29,
   "metadata": {
    "collapsed": false
   },
   "outputs": [
    {
     "data": {
      "text/plain": [
       "array([  0.  ,   0.25,   0.5 ,   0.75,   1.  ,   1.25,   1.5 ,   1.75,\n",
       "         2.  ,   2.25,   2.5 ,   2.75,   3.  ,   3.25,   3.5 ,   3.75,\n",
       "         4.  ,   4.25,   4.5 ,   4.75,   5.  ,   5.25,   5.5 ,   5.75,\n",
       "         6.  ,   6.25,   6.5 ,   6.75,   7.  ,   7.25,   7.5 ,   7.75,\n",
       "         8.  ,   8.25,   8.5 ,   8.75,   9.  ,   9.25,   9.5 ,   9.75,  10.  ])"
      ]
     },
     "execution_count": 29,
     "metadata": {},
     "output_type": "execute_result"
    }
   ],
   "source": [
    "np.arange(0, 10+0.25, 0.25) # create an array of numbers from 0 up to but not including 10 with a spacing of 0.25"
   ]
  },
  {
   "cell_type": "markdown",
   "metadata": {},
   "source": [
    "_It's good to remember that arange creates elements up to but not including the `end` value (10 above)_\n",
    "\n",
    "Another useful one to remember is `linspace()`, which generates uniformly spaced values between the start and end value. For example, 11 evenly spaced values from 0 to 1:"
   ]
  },
  {
   "cell_type": "code",
   "execution_count": 30,
   "metadata": {
    "collapsed": false
   },
   "outputs": [
    {
     "data": {
      "text/plain": [
       "array([ 0. ,  0.1,  0.2,  0.3,  0.4,  0.5,  0.6,  0.7,  0.8,  0.9,  1. ])"
      ]
     },
     "execution_count": 30,
     "metadata": {},
     "output_type": "execute_result"
    }
   ],
   "source": [
    "np.linspace(0, 1, 11) # 11 evenly spaced numbers between 0 and 1"
   ]
  },
  {
   "cell_type": "markdown",
   "metadata": {},
   "source": [
    "Yes, confusingly `linspace()` _includes_ the final value...\n",
    "\n",
    "Another two that I use most frequently are `zeros()` and `ones()`, which generate arrays full of zeros or ones given a specified shape. For example, to create a 4 by 4 by 3 array of zeros:"
   ]
  },
  {
   "cell_type": "code",
   "execution_count": 31,
   "metadata": {
    "collapsed": false
   },
   "outputs": [
    {
     "data": {
      "text/plain": [
       "(4, 4, 3)"
      ]
     },
     "execution_count": 31,
     "metadata": {},
     "output_type": "execute_result"
    }
   ],
   "source": [
    "arr = np.zeros((4,4,3))\n",
    "arr.shape"
   ]
  },
  {
   "cell_type": "markdown",
   "metadata": {},
   "source": [
    "If you need integer values, you can specify a data type with the `dtype` argument:"
   ]
  },
  {
   "cell_type": "code",
   "execution_count": 32,
   "metadata": {
    "collapsed": false
   },
   "outputs": [
    {
     "data": {
      "text/plain": [
       "dtype('int64')"
      ]
     },
     "execution_count": 32,
     "metadata": {},
     "output_type": "execute_result"
    }
   ],
   "source": [
    "arr = np.zeros((4,4,3), dtype=int)\n",
    "arr.dtype"
   ]
  },
  {
   "cell_type": "markdown",
   "metadata": {},
   "source": [
    "The same holds for `ones()`:"
   ]
  },
  {
   "cell_type": "code",
   "execution_count": 33,
   "metadata": {
    "collapsed": false
   },
   "outputs": [
    {
     "name": "stdout",
     "output_type": "stream",
     "text": [
      "((4, 4, 3), dtype('float64'))\n"
     ]
    }
   ],
   "source": [
    "arr = np.ones((4,4,3), dtype=float)\n",
    "print(arr.shape, arr.dtype)"
   ]
  },
  {
   "cell_type": "markdown",
   "metadata": {},
   "source": [
    "Both `zeros()` and `ones()` are useful for creating placeholder arrays that you will later fill with data, however, 0 and 1 are valid numbers! If your code doesn't check that you filled the array successfully, then your code might not fail where you expect it to and strange things can happen. In numpy, there is a special number called NaN, which stands for \"not a number.\" Any numerical operations with NaN will produce a new NaN, which makes it obvious that something went wrong. For placeholder arrays, I often recommend adding NaN to the array so that it is full of invalid numbers:"
   ]
  },
  {
   "cell_type": "code",
   "execution_count": 38,
   "metadata": {
    "collapsed": false
   },
   "outputs": [
    {
     "data": {
      "text/plain": [
       "array([3, 3])"
      ]
     },
     "execution_count": 38,
     "metadata": {},
     "output_type": "execute_result"
    }
   ],
   "source": [
    "np.array([3,3])"
   ]
  },
  {
   "cell_type": "code",
   "execution_count": 41,
   "metadata": {
    "collapsed": false
   },
   "outputs": [
    {
     "data": {
      "text/plain": [
       "array([[ 0.,  0.,  0.],\n",
       "       [ 0.,  0.,  0.],\n",
       "       [ 0.,  0.,  0.]])"
      ]
     },
     "execution_count": 41,
     "metadata": {},
     "output_type": "execute_result"
    }
   ],
   "source": [
    "np.zeros(shape=(3,3))"
   ]
  },
  {
   "cell_type": "code",
   "execution_count": 37,
   "metadata": {
    "collapsed": false
   },
   "outputs": [
    {
     "data": {
      "text/plain": [
       "array([[ nan,  nan,  nan],\n",
       "       [ nan,  nan,  nan],\n",
       "       [ nan,  nan,  nan]])"
      ]
     },
     "execution_count": 37,
     "metadata": {},
     "output_type": "execute_result"
    }
   ],
   "source": [
    "placeholder = np.zeros([3,3]) + np.nan\n",
    "placeholder"
   ]
  },
  {
   "cell_type": "code",
   "execution_count": 35,
   "metadata": {
    "collapsed": false
   },
   "outputs": [
    {
     "data": {
      "text/plain": [
       "array([[ nan,  nan,  nan],\n",
       "       [ nan,  nan,  nan],\n",
       "       [ nan,  nan,  nan]])"
      ]
     },
     "execution_count": 35,
     "metadata": {},
     "output_type": "execute_result"
    }
   ],
   "source": [
    "placeholder * 4."
   ]
  },
  {
   "cell_type": "markdown",
   "metadata": {},
   "source": [
    "### Random numbers"
   ]
  },
  {
   "cell_type": "markdown",
   "metadata": {},
   "source": [
    "Numpy provides a subpackage, `np.random`, for generating (pseudo)random numbers. There are many useful functions for sampling from distributions:"
   ]
  },
  {
   "cell_type": "code",
   "execution_count": 45,
   "metadata": {
    "collapsed": false
   },
   "outputs": [
    {
     "data": {
      "text/plain": [
       "array([[ 1.64983458,  5.56830798,  0.10782421,  4.65861036,  5.61106194],\n",
       "       [ 1.24371509,  1.52244186,  1.7324425 ,  1.09770356,  4.07706488],\n",
       "       [ 3.52683269,  4.27775792,  4.51904762,  0.75217378,  3.83557969],\n",
       "       [ 3.88934022,  1.25247229,  0.98708209,  2.21893213,  3.57225022],\n",
       "       [ 2.98925828,  0.48521326,  4.40309958,  2.76361533,  3.42487584]])"
      ]
     },
     "execution_count": 45,
     "metadata": {},
     "output_type": "execute_result"
    }
   ],
   "source": [
    "np.random.uniform(0, 2*np.pi, size=(5,5)) # make a 5x5 array of numbers uniformly sampled between 0 and 2π"
   ]
  },
  {
   "cell_type": "code",
   "execution_count": 50,
   "metadata": {
    "collapsed": false
   },
   "outputs": [],
   "source": [
    "np.set_printoptions(precision=3)"
   ]
  },
  {
   "cell_type": "code",
   "execution_count": 51,
   "metadata": {
    "collapsed": false
   },
   "outputs": [
    {
     "data": {
      "text/plain": [
       "array([-0.703,  0.724,  1.14 , -0.395])"
      ]
     },
     "execution_count": 51,
     "metadata": {},
     "output_type": "execute_result"
    }
   ],
   "source": [
    "arr = np.random.normal(0., 0.5, size=4)\n",
    "arr"
   ]
  },
  {
   "cell_type": "code",
   "execution_count": 48,
   "metadata": {
    "collapsed": false
   },
   "outputs": [
    {
     "data": {
      "text/plain": [
       "['0.140', '0.023', '0.719', '-0.550']"
      ]
     },
     "execution_count": 48,
     "metadata": {},
     "output_type": "execute_result"
    }
   ],
   "source": [
    "# sample an array of 4 numbers, normally (Gaussian) distributed with mean=0, stddev=0.5\n",
    "arr = np.random.normal(0., 0.5, size=4)\n",
    "[\"{0:.3f}\".format(x) for x in arr]"
   ]
  },
  {
   "cell_type": "code",
   "execution_count": 52,
   "metadata": {
    "collapsed": false
   },
   "outputs": [
    {
     "data": {
      "text/plain": [
       "(4,)"
      ]
     },
     "execution_count": 52,
     "metadata": {},
     "output_type": "execute_result"
    }
   ],
   "source": [
    "arr = np.array([1,2,3,4])\n",
    "arr.shape"
   ]
  },
  {
   "cell_type": "markdown",
   "metadata": {},
   "source": [
    "---\n",
    "\n",
    "## Array operations and differences with lists"
   ]
  },
  {
   "cell_type": "markdown",
   "metadata": {},
   "source": [
    "Array options act __element-wise__, unlike how `list`s behave. For example, multiplying a `list` by an integer will return a new list with the original replicated that many times. Multiplying an array of numbers by a scalar behaves like vector multiplication.\n",
    "\n",
    "Again, multiplying a list by an integer, `n`, produces a new list with `n` copies of the original list:"
   ]
  },
  {
   "cell_type": "code",
   "execution_count": 53,
   "metadata": {
    "collapsed": false
   },
   "outputs": [
    {
     "name": "stdout",
     "output_type": "stream",
     "text": [
      "[1, 2, 1, 2, 1, 2, 1, 2, 1, 2]\n"
     ]
    }
   ],
   "source": [
    "print([1, 2]*5)"
   ]
  },
  {
   "cell_type": "markdown",
   "metadata": {},
   "source": [
    "Multiplying an array by a number acts element-wise:"
   ]
  },
  {
   "cell_type": "code",
   "execution_count": 55,
   "metadata": {
    "collapsed": false
   },
   "outputs": [
    {
     "data": {
      "text/plain": [
       "array([ 5, 10])"
      ]
     },
     "execution_count": 55,
     "metadata": {},
     "output_type": "execute_result"
    }
   ],
   "source": [
    "np.array([1, 2]) * 5"
   ]
  },
  {
   "cell_type": "markdown",
   "metadata": {},
   "source": [
    "$5 \\times \\left(\\begin{array}{c} 1\\\\\\ 2 \\end{array} \\right) = \\left(\\begin{array}{c} 5\\\\\\ 10 \\end{array} \\right)$"
   ]
  },
  {
   "cell_type": "markdown",
   "metadata": {},
   "source": [
    "Adding two lists will concatenate the two into a new list:"
   ]
  },
  {
   "cell_type": "code",
   "execution_count": 56,
   "metadata": {
    "collapsed": false
   },
   "outputs": [
    {
     "data": {
      "text/plain": [
       "[1, 2, 3, 4]"
      ]
     },
     "execution_count": 56,
     "metadata": {},
     "output_type": "execute_result"
    }
   ],
   "source": [
    "[1,2] + [3,4]"
   ]
  },
  {
   "cell_type": "markdown",
   "metadata": {},
   "source": [
    "Adding two arrays is like adding two vectors:\n",
    "\n",
    "$\\left(\\begin{array}{c} 1\\\\\\ 2 \\end{array} \\right) + \\left(\\begin{array}{c} 3\\\\\\ 4 \\end{array} \\right) = \\left(\\begin{array}{c} 4\\\\\\ 6 \\end{array} \\right)$"
   ]
  },
  {
   "cell_type": "code",
   "execution_count": 57,
   "metadata": {
    "collapsed": false
   },
   "outputs": [
    {
     "data": {
      "text/plain": [
       "array([4, 6])"
      ]
     },
     "execution_count": 57,
     "metadata": {},
     "output_type": "execute_result"
    }
   ],
   "source": [
    "np.array([1,2]) + np.array([3,4])"
   ]
  },
  {
   "cell_type": "markdown",
   "metadata": {},
   "source": [
    "This works for comparison operators as well. For example, when comparing an array of numbers with another, you will get a new array of boolean values of the same shape as the original. \n",
    "\n",
    "$\\left(\\begin{array}{c} 1\\\\2 \\\\3 \\\\4 \\\\5 \\end{array} \\right) > 3 = \\left(\\begin{array}{c} False\\\\False \\\\False \\\\True\\\\True \\end{array} \\right)$"
   ]
  },
  {
   "cell_type": "code",
   "execution_count": 58,
   "metadata": {
    "collapsed": false
   },
   "outputs": [
    {
     "data": {
      "text/plain": [
       "True"
      ]
     },
     "execution_count": 58,
     "metadata": {},
     "output_type": "execute_result"
    }
   ],
   "source": [
    "5 > 3"
   ]
  },
  {
   "cell_type": "code",
   "execution_count": 59,
   "metadata": {
    "collapsed": false
   },
   "outputs": [
    {
     "data": {
      "text/plain": [
       "array([False, False, False,  True,  True], dtype=bool)"
      ]
     },
     "execution_count": 59,
     "metadata": {},
     "output_type": "execute_result"
    }
   ],
   "source": [
    "np.array([1,2,3,4,5]) > 3"
   ]
  },
  {
   "cell_type": "code",
   "execution_count": null,
   "metadata": {
    "collapsed": true
   },
   "outputs": [],
   "source": [
    "def do_the_thing(a, b):\n",
    "    a = np.array(a, copy=False)\n",
    "    b = np.array(b, copy=False)\n",
    "    return a*b\n"
   ]
  },
  {
   "cell_type": "markdown",
   "metadata": {},
   "source": [
    "---\n",
    "\n",
    "## Reshaping"
   ]
  },
  {
   "cell_type": "markdown",
   "metadata": {},
   "source": [
    "Arrays with a given shape can be _reshaped_, as long as the total number of elements is conserved. For example, a 1D array of length 100 can be reshaped into a 10 x 10 2D array:"
   ]
  },
  {
   "cell_type": "code",
   "execution_count": 65,
   "metadata": {
    "collapsed": false
   },
   "outputs": [
    {
     "data": {
      "text/plain": [
       "array([[ 0,  1,  2,  3,  4,  5,  6,  7,  8,  9],\n",
       "       [10, 11, 12, 13, 14, 15, 16, 17, 18, 19],\n",
       "       [20, 21, 22, 23, 24, 25, 26, 27, 28, 29],\n",
       "       [30, 31, 32, 33, 34, 35, 36, 37, 38, 39],\n",
       "       [40, 41, 42, 43, 44, 45, 46, 47, 48, 49],\n",
       "       [50, 51, 52, 53, 54, 55, 56, 57, 58, 59],\n",
       "       [60, 61, 62, 63, 64, 65, 66, 67, 68, 69],\n",
       "       [70, 71, 72, 73, 74, 75, 76, 77, 78, 79],\n",
       "       [80, 81, 82, 83, 84, 85, 86, 87, 88, 89],\n",
       "       [90, 91, 92, 93, 94, 95, 96, 97, 98, 99]])"
      ]
     },
     "execution_count": 65,
     "metadata": {},
     "output_type": "execute_result"
    }
   ],
   "source": [
    "np.arange(100).reshape(10,10)"
   ]
  },
  {
   "cell_type": "markdown",
   "metadata": {},
   "source": [
    "A handy one to remember is the function or method `ravel()`, which takes an n-dimensional array and flattens it into a 1D array:"
   ]
  },
  {
   "cell_type": "code",
   "execution_count": 66,
   "metadata": {
    "collapsed": false
   },
   "outputs": [
    {
     "data": {
      "text/plain": [
       "(4, 7, 2)"
      ]
     },
     "execution_count": 66,
     "metadata": {},
     "output_type": "execute_result"
    }
   ],
   "source": [
    "arr = np.random.random(size=(4,7,2))\n",
    "arr.shape"
   ]
  },
  {
   "cell_type": "code",
   "execution_count": 69,
   "metadata": {
    "collapsed": false
   },
   "outputs": [
    {
     "data": {
      "text/plain": [
       "(56,)"
      ]
     },
     "execution_count": 69,
     "metadata": {},
     "output_type": "execute_result"
    }
   ],
   "source": [
    "arr2 = arr.ravel()\n",
    "arr2.shape"
   ]
  },
  {
   "cell_type": "code",
   "execution_count": 68,
   "metadata": {
    "collapsed": false
   },
   "outputs": [
    {
     "data": {
      "text/plain": [
       "<numpy.flatiter at 0x101bbfc00>"
      ]
     },
     "execution_count": 68,
     "metadata": {},
     "output_type": "execute_result"
    }
   ],
   "source": [
    "arr.flat"
   ]
  },
  {
   "cell_type": "code",
   "execution_count": 71,
   "metadata": {
    "collapsed": false
   },
   "outputs": [
    {
     "data": {
      "text/plain": [
       "array([[ 0, 10, 20, 30, 40, 50, 60, 70, 80, 90],\n",
       "       [ 1, 11, 21, 31, 41, 51, 61, 71, 81, 91],\n",
       "       [ 2, 12, 22, 32, 42, 52, 62, 72, 82, 92],\n",
       "       [ 3, 13, 23, 33, 43, 53, 63, 73, 83, 93],\n",
       "       [ 4, 14, 24, 34, 44, 54, 64, 74, 84, 94],\n",
       "       [ 5, 15, 25, 35, 45, 55, 65, 75, 85, 95],\n",
       "       [ 6, 16, 26, 36, 46, 56, 66, 76, 86, 96],\n",
       "       [ 7, 17, 27, 37, 47, 57, 67, 77, 87, 97],\n",
       "       [ 8, 18, 28, 38, 48, 58, 68, 78, 88, 98],\n",
       "       [ 9, 19, 29, 39, 49, 59, 69, 79, 89, 99]])"
      ]
     },
     "execution_count": 71,
     "metadata": {},
     "output_type": "execute_result"
    }
   ],
   "source": [
    "arr = np.arange(100).reshape(10,10).T\n",
    "arr"
   ]
  },
  {
   "cell_type": "markdown",
   "metadata": {},
   "source": [
    "---\n",
    "\n",
    "## Slicing and indexing"
   ]
  },
  {
   "cell_type": "markdown",
   "metadata": {},
   "source": [
    "Arrays support slicing and indexing just like Python lists"
   ]
  },
  {
   "cell_type": "code",
   "execution_count": 72,
   "metadata": {
    "collapsed": false
   },
   "outputs": [
    {
     "data": {
      "text/plain": [
       "array([3, 4, 5, 6, 7, 8, 9])"
      ]
     },
     "execution_count": 72,
     "metadata": {},
     "output_type": "execute_result"
    }
   ],
   "source": [
    "arr = np.arange(10)\n",
    "arr[3:]"
   ]
  },
  {
   "cell_type": "markdown",
   "metadata": {},
   "source": [
    "The main difference is that arrays can be multi-dimensional, so you can specify indices or slices along multiple dimensions by separating the indices or slices with a comma. To see this, let's first create a 10 by 10 array of numbers from 0 to 99:"
   ]
  },
  {
   "cell_type": "code",
   "execution_count": 73,
   "metadata": {
    "collapsed": false
   },
   "outputs": [
    {
     "data": {
      "text/plain": [
       "array([[ 0,  1,  2,  3,  4,  5,  6,  7,  8,  9],\n",
       "       [10, 11, 12, 13, 14, 15, 16, 17, 18, 19],\n",
       "       [20, 21, 22, 23, 24, 25, 26, 27, 28, 29],\n",
       "       [30, 31, 32, 33, 34, 35, 36, 37, 38, 39],\n",
       "       [40, 41, 42, 43, 44, 45, 46, 47, 48, 49],\n",
       "       [50, 51, 52, 53, 54, 55, 56, 57, 58, 59],\n",
       "       [60, 61, 62, 63, 64, 65, 66, 67, 68, 69],\n",
       "       [70, 71, 72, 73, 74, 75, 76, 77, 78, 79],\n",
       "       [80, 81, 82, 83, 84, 85, 86, 87, 88, 89],\n",
       "       [90, 91, 92, 93, 94, 95, 96, 97, 98, 99]])"
      ]
     },
     "execution_count": 73,
     "metadata": {},
     "output_type": "execute_result"
    }
   ],
   "source": [
    "arr = np.arange(100).reshape(10,10)\n",
    "arr"
   ]
  },
  {
   "cell_type": "markdown",
   "metadata": {},
   "source": [
    "We can select a single element from this 2D array by specifying two indices:"
   ]
  },
  {
   "cell_type": "code",
   "execution_count": 74,
   "metadata": {
    "collapsed": false
   },
   "outputs": [
    {
     "data": {
      "text/plain": [
       "35"
      ]
     },
     "execution_count": 74,
     "metadata": {},
     "output_type": "execute_result"
    }
   ],
   "source": [
    "arr[3,5]"
   ]
  },
  {
   "cell_type": "markdown",
   "metadata": {},
   "source": [
    "We can also use slicing to select a sub-rectangle from this array by specifying slices along the two dimensions:"
   ]
  },
  {
   "cell_type": "code",
   "execution_count": 75,
   "metadata": {
    "collapsed": false
   },
   "outputs": [
    {
     "data": {
      "text/plain": [
       "array([[13, 14],\n",
       "       [23, 24],\n",
       "       [33, 34],\n",
       "       [43, 44]])"
      ]
     },
     "execution_count": 75,
     "metadata": {},
     "output_type": "execute_result"
    }
   ],
   "source": [
    "arr[1:5,3:5]"
   ]
  },
  {
   "cell_type": "markdown",
   "metadata": {},
   "source": [
    "Don't think about arrays as 2D matrices, even if they are. But since you're going to anyways, remember that the first index refers to __rows__ and the second refers to __columns__."
   ]
  },
  {
   "cell_type": "markdown",
   "metadata": {},
   "source": [
    "If you want to slice along, say, the last axis, and don't want to slice along any others, you can use ellipses (...) as a placeholder. For example, let's imagine we had a 3D array with shape (128,128,3) -- imagine this is a 100 pixel by 100 pixel image, and the last axis represents the Red, Green, and Blue filters:"
   ]
  },
  {
   "cell_type": "code",
   "execution_count": 76,
   "metadata": {
    "collapsed": false
   },
   "outputs": [
    {
     "data": {
      "text/plain": [
       "(128, 128, 3)"
      ]
     },
     "execution_count": 76,
     "metadata": {},
     "output_type": "execute_result"
    }
   ],
   "source": [
    "img = np.random.random(size=(128,128,3))\n",
    "img.shape"
   ]
  },
  {
   "cell_type": "markdown",
   "metadata": {},
   "source": [
    "If we wanted to select just the Green channel (1 on the last axis), we can use the ellipses as:"
   ]
  },
  {
   "cell_type": "code",
   "execution_count": 78,
   "metadata": {
    "collapsed": false
   },
   "outputs": [
    {
     "data": {
      "text/plain": [
       "((128, 128), (128, 128))"
      ]
     },
     "execution_count": 78,
     "metadata": {},
     "output_type": "execute_result"
    }
   ],
   "source": [
    "img[...,1].shape, img[:,:,1].shape"
   ]
  },
  {
   "cell_type": "markdown",
   "metadata": {},
   "source": [
    "--- \n",
    "\n",
    "## Views vs. arrays?"
   ]
  },
  {
   "cell_type": "markdown",
   "metadata": {},
   "source": [
    "Many operations with numpy arrays are extremely fast because numpy doesn't alter the memory block associated with the array values, it just changes how to present the data to you. For example, basic slicing of an array does __not__ return a copy of the selected array values -- it simply returns a view of a sub-sample of the array values"
   ]
  },
  {
   "cell_type": "code",
   "execution_count": 83,
   "metadata": {
    "collapsed": false
   },
   "outputs": [
    {
     "data": {
      "text/plain": [
       "array([10, 11, 12, 13, 14])"
      ]
     },
     "execution_count": 83,
     "metadata": {},
     "output_type": "execute_result"
    }
   ],
   "source": [
    "arr = np.arange(100)\n",
    "arr2 = arr[10:15]\n",
    "arr2"
   ]
  },
  {
   "cell_type": "code",
   "execution_count": 84,
   "metadata": {
    "collapsed": false
   },
   "outputs": [
    {
     "data": {
      "text/plain": [
       "array([ 0,  1,  2,  3,  4,  5,  6,  7,  8,  9, 10, 11, 12, 13, 14, 15, 16,\n",
       "       17, 18, 19, 20, 21, 22, 23, 24, 25, 26, 27, 28, 29, 30, 31, 32, 33,\n",
       "       34, 35, 36, 37, 38, 39, 40, 41, 42, 43, 44, 45, 46, 47, 48, 49, 50,\n",
       "       51, 52, 53, 54, 55, 56, 57, 58, 59, 60, 61, 62, 63, 64, 65, 66, 67,\n",
       "       68, 69, 70, 71, 72, 73, 74, 75, 76, 77, 78, 79, 80, 81, 82, 83, 84,\n",
       "       85, 86, 87, 88, 89, 90, 91, 92, 93, 94, 95, 96, 97, 98, 99])"
      ]
     },
     "execution_count": 84,
     "metadata": {},
     "output_type": "execute_result"
    }
   ],
   "source": [
    "arr2.base"
   ]
  },
  {
   "cell_type": "markdown",
   "metadata": {},
   "source": [
    "The `.base` attribute of a view gets back the full \"parent\" array.\n",
    "\n",
    "Most of the time, you don't need to think about this -- numpy does some magic underneath to reduce memory usage and optimize performance. However, this can lead to a few gotchas. Because the view points to the same block in memory as the parent array, if you change an element in the view, it will change that place in memory and therefore the parent array as well:"
   ]
  },
  {
   "cell_type": "code",
   "execution_count": 85,
   "metadata": {
    "collapsed": false
   },
   "outputs": [
    {
     "data": {
      "text/plain": [
       "array([10, 11, 12, 13, 14])"
      ]
     },
     "execution_count": 85,
     "metadata": {},
     "output_type": "execute_result"
    }
   ],
   "source": [
    "arr2"
   ]
  },
  {
   "cell_type": "code",
   "execution_count": 86,
   "metadata": {
    "collapsed": true
   },
   "outputs": [],
   "source": [
    "arr2[3] = 999999999"
   ]
  },
  {
   "cell_type": "code",
   "execution_count": null,
   "metadata": {
    "collapsed": true
   },
   "outputs": [],
   "source": [
    "arr"
   ]
  },
  {
   "cell_type": "markdown",
   "metadata": {},
   "source": [
    "---\n",
    "\n",
    "<h1 style='background-color: #cccccc; padding: 15px;'>Exercise A</h1>"
   ]
  },
  {
   "cell_type": "markdown",
   "metadata": {},
   "source": [
    "1) Create the following array:"
   ]
  },
  {
   "cell_type": "raw",
   "metadata": {},
   "source": [
    "[[1, 1, 1, 1],\n",
    " [1, 1, 1, 1],\n",
    " [1, 1, 1, 2],\n",
    " [1, 6, 1, 1]]"
   ]
  },
  {
   "cell_type": "code",
   "execution_count": 88,
   "metadata": {
    "collapsed": false
   },
   "outputs": [
    {
     "data": {
      "text/plain": [
       "array([[1, 1, 1, 1],\n",
       "       [1, 1, 1, 1],\n",
       "       [1, 1, 1, 2],\n",
       "       [1, 6, 1, 1]])"
      ]
     },
     "execution_count": 88,
     "metadata": {},
     "output_type": "execute_result"
    }
   ],
   "source": [
    "arr = np.ones((4,4), dtype=int)\n",
    "arr[2,-1] = 2\n",
    "arr[-1,1] = 6\n",
    "arr"
   ]
  },
  {
   "cell_type": "markdown",
   "metadata": {},
   "source": [
    "2) Create a 128x128 array of numbers sampled from a Normal distribution with mean=0 and standard deviation=5 (_hint: above we used `np.random.random()`, try to find another function within the `np.random` subpackage that will help you_)"
   ]
  },
  {
   "cell_type": "code",
   "execution_count": 91,
   "metadata": {
    "collapsed": true
   },
   "outputs": [],
   "source": [
    "norm_nums = np.random.normal(0, 5, size=(128,128))"
   ]
  },
  {
   "cell_type": "markdown",
   "metadata": {},
   "source": [
    "3) Select out the inner square of values with shape 96x96"
   ]
  },
  {
   "cell_type": "code",
   "execution_count": 92,
   "metadata": {
    "collapsed": false
   },
   "outputs": [
    {
     "data": {
      "text/plain": [
       "(96, 96)"
      ]
     },
     "execution_count": 92,
     "metadata": {},
     "output_type": "execute_result"
    }
   ],
   "source": [
    "sub = norm_nums[16:-16,16:-16]\n",
    "sub.shape"
   ]
  },
  {
   "cell_type": "code",
   "execution_count": 101,
   "metadata": {
    "collapsed": false
   },
   "outputs": [
    {
     "data": {
      "text/plain": [
       "array([ 0. ,  0.5,  1. ,  2.5,  3. ,  3.5])"
      ]
     },
     "execution_count": 101,
     "metadata": {},
     "output_type": "execute_result"
    }
   ],
   "source": [
    "arr = np.arange(0,10+0.5,0.5)\n",
    "arr[range(3) + range(5,8)]"
   ]
  },
  {
   "cell_type": "markdown",
   "metadata": {},
   "source": [
    "---\n",
    "\n",
    "## Using arrays to index other arrays"
   ]
  },
  {
   "cell_type": "markdown",
   "metadata": {},
   "source": [
    "Integer arrays can be used as indices for other arrays"
   ]
  },
  {
   "cell_type": "code",
   "execution_count": 102,
   "metadata": {
    "collapsed": false
   },
   "outputs": [
    {
     "data": {
      "text/plain": [
       "array([1, 4, 2])"
      ]
     },
     "execution_count": 102,
     "metadata": {},
     "output_type": "execute_result"
    }
   ],
   "source": [
    "a = np.array([0,3,1])\n",
    "b = np.array([1,2,3,4,5,6,7,8,9])\n",
    "b[a]"
   ]
  },
  {
   "cell_type": "markdown",
   "metadata": {},
   "source": [
    "In the above example, we use the array `a` as an index array to select the 0th, 3rd, and 1st elements out of the array 'b'."
   ]
  },
  {
   "cell_type": "markdown",
   "metadata": {},
   "source": [
    "### Boolean arrays"
   ]
  },
  {
   "cell_type": "markdown",
   "metadata": {},
   "source": [
    "Numpy supports boolean-valued arrays, and boolean arrays can be used to select elements out of other arrays (for those of you coming from IDL, welcome -- this should be a familiar concept to you). To use an array of booleans as an index array, it must have the same shape as the valued array. For example, we could use `array([True, False, True])` to select the first and last elements from `array([1,2,3])`:"
   ]
  },
  {
   "cell_type": "code",
   "execution_count": 103,
   "metadata": {
    "collapsed": false
   },
   "outputs": [
    {
     "data": {
      "text/plain": [
       "array([1, 3])"
      ]
     },
     "execution_count": 103,
     "metadata": {},
     "output_type": "execute_result"
    }
   ],
   "source": [
    "# select the 0th and 2nd elements out of array b\n",
    "a = np.array([True, False, True])\n",
    "b = np.array([1,2,3])\n",
    "b[a]"
   ]
  },
  {
   "cell_type": "markdown",
   "metadata": {},
   "source": [
    "One common use case is to select all values from an array that match some comparative operations:"
   ]
  },
  {
   "cell_type": "code",
   "execution_count": 104,
   "metadata": {
    "collapsed": false
   },
   "outputs": [
    {
     "name": "stdout",
     "output_type": "stream",
     "text": [
      "[False False  True  True  True False False False False False]\n"
     ]
    },
    {
     "data": {
      "text/plain": [
       "array([2, 3, 4])"
      ]
     },
     "execution_count": 104,
     "metadata": {},
     "output_type": "execute_result"
    }
   ],
   "source": [
    "a = np.arange(10)\n",
    "print((a > 1) & (a < 5))\n",
    "a[(a > 1) & (a < 5)] # select all elements from a that are greater than 1 and less than 5"
   ]
  },
  {
   "cell_type": "markdown",
   "metadata": {},
   "source": [
    "Boolean arrays can also be combined using binary operations so that compound logic can be used in selection expressions:"
   ]
  },
  {
   "cell_type": "code",
   "execution_count": 106,
   "metadata": {
    "collapsed": false
   },
   "outputs": [
    {
     "data": {
      "text/plain": [
       "array([False,  True, False], dtype=bool)"
      ]
     },
     "execution_count": 106,
     "metadata": {},
     "output_type": "execute_result"
    }
   ],
   "source": [
    "np.array([True, True, True]) & np.array([False, True, False])"
   ]
  },
  {
   "cell_type": "code",
   "execution_count": 107,
   "metadata": {
    "collapsed": false
   },
   "outputs": [
    {
     "data": {
      "text/plain": [
       "array([False,  True,  True], dtype=bool)"
      ]
     },
     "execution_count": 107,
     "metadata": {},
     "output_type": "execute_result"
    }
   ],
   "source": [
    "np.array([False, True, True]) | np.array([False, True, False])"
   ]
  },
  {
   "cell_type": "code",
   "execution_count": 110,
   "metadata": {
    "collapsed": false
   },
   "outputs": [
    {
     "data": {
      "text/plain": [
       "array([0, 1, 2, 3, 4, 5])"
      ]
     },
     "execution_count": 110,
     "metadata": {},
     "output_type": "execute_result"
    }
   ],
   "source": [
    "a[~(a > 5)]"
   ]
  },
  {
   "cell_type": "code",
   "execution_count": 108,
   "metadata": {
    "collapsed": false
   },
   "outputs": [
    {
     "data": {
      "text/plain": [
       "array([False,  True, False], dtype=bool)"
      ]
     },
     "execution_count": 108,
     "metadata": {},
     "output_type": "execute_result"
    }
   ],
   "source": [
    "np.logical_not(np.array([True, False, True]))"
   ]
  },
  {
   "cell_type": "code",
   "execution_count": 111,
   "metadata": {
    "collapsed": false
   },
   "outputs": [
    {
     "data": {
      "text/plain": [
       "array([54, 57, 60, 63, 66, 69, 72, 75, 78, 81, 84, 87, 90, 93, 96, 99])"
      ]
     },
     "execution_count": 111,
     "metadata": {},
     "output_type": "execute_result"
    }
   ],
   "source": [
    "a = np.arange(100)\n",
    "a[(a > 51) & ((a % 3) == 0)] # select factors of 3 greater than 51"
   ]
  },
  {
   "cell_type": "markdown",
   "metadata": {},
   "source": [
    "---\n",
    "\n",
    "<h1 style='background-color: #cccccc; padding: 15px;'>Exercise B</h1>"
   ]
  },
  {
   "cell_type": "markdown",
   "metadata": {},
   "source": [
    "1) Create an array of 256 random integers between 0 and 1024. Select all numbers greater than 100 that are _not_ divisible by 5 or 10."
   ]
  },
  {
   "cell_type": "code",
   "execution_count": 114,
   "metadata": {
    "collapsed": false
   },
   "outputs": [
    {
     "data": {
      "text/plain": [
       "array([ 184,  541,  444,  529, 1009,  912,  954,  853,  359, 1007,  573,\n",
       "        384,  458,  637,  443,  591,  507,  602,  129,  199,  587,  306,\n",
       "        152, 1017,  917, 1019,  241,  179,  708,  819,  404,  661,  313,\n",
       "        187,  961,  604,  557,  927,  703,  262,  366,  971,  476,  952,\n",
       "        138,  974,  254,  946,  401,  581,  363,  694,  373,  908,  219,\n",
       "        418,  611,  977,  776,  794,  539,  999,  187,  786,  638,  817,\n",
       "        769,  674,  748,  527,  484,  662,  383,  427,  623,  228,  512,\n",
       "        697,  687,  592,  184,  717,  623,  397,  304,  561,  909,  467,\n",
       "        427, 1016,  578,  877,  328, 1018,  236,  877,  752,  588,  928,\n",
       "        792,  234,  811,  284,  368,  582,  712,  407,  149,  789,  788,\n",
       "        586,  733,  622,  813,  998,  177,  867,  106,  973,  554,  653,\n",
       "        402,  611,  897,  253,  823,  382,  749,  228,  912,  733,  999,\n",
       "        437,  181,  383,  663,  703,  276,  907,  383,  631,  819,  906,\n",
       "        792,  421,  997,  363,  203,  496,  183,  911,  964,  362,  504,\n",
       "        319,  101,  316,  259,  494,  933,  977,  283,  573,  603,  987,\n",
       "        496,  244,  638])"
      ]
     },
     "execution_count": 114,
     "metadata": {},
     "output_type": "execute_result"
    }
   ],
   "source": [
    "arr = np.random.randint(low=0,high=1024,size=256)\n",
    "arr[((arr > 100) & ((arr % 5) != 0))]"
   ]
  },
  {
   "cell_type": "markdown",
   "metadata": {},
   "source": [
    "2) Create a 128x128 array of Normally distributed random numbers (same as previous exercise), but count how many elements are less than zero"
   ]
  },
  {
   "cell_type": "code",
   "execution_count": 115,
   "metadata": {
    "collapsed": false
   },
   "outputs": [
    {
     "data": {
      "text/plain": [
       "8196"
      ]
     },
     "execution_count": 115,
     "metadata": {},
     "output_type": "execute_result"
    }
   ],
   "source": [
    "# arr = np.random.normal(<fill in here>)\n",
    "# np.sum(arr < 0.)\n",
    "arr = np.random.normal(0, 5, size=(128, 128))\n",
    "mybool = arr < 0\n",
    "np.sum(mybool)"
   ]
  },
  {
   "cell_type": "markdown",
   "metadata": {},
   "source": [
    "3) Using the same array of Normal random numbers, replace all of the negative numbers with 0."
   ]
  },
  {
   "cell_type": "code",
   "execution_count": 116,
   "metadata": {
    "collapsed": false
   },
   "outputs": [
    {
     "name": "stdout",
     "output_type": "stream",
     "text": [
      "[  0.      0.      0.      4.75    2.558   0.      0.      0.      0.\n",
      "   2.515   1.758   1.423   0.      2.997   0.      2.012   0.     12.056\n",
      "   2.02    0.      0.      0.804   0.      0.072   0.      0.      4.287\n",
      "   0.      0.      0.      2.428   0.      2.704   7.017   6.126   0.      0.\n",
      "   0.      0.92    0.      1.271   2.302   0.     12.24    0.      0.      0.\n",
      "   1.977   0.      6.92    0.      0.      2.142   5.298   0.      0.\n",
      "   8.687   0.      0.      0.605   1.324   2.991   4.588   0.      1.032\n",
      "   0.      0.668   0.547   5.369   0.      0.      1.447   0.      2.146\n",
      "   1.978   2.448   0.      3.199   8.363   0.      0.      0.      0.      0.\n",
      "   5.196   1.116   0.      0.      0.      5.667   0.      0.      4.714\n",
      "   4.963   0.      4.489   0.      0.      0.      0.      0.      0.\n",
      "   1.497   2.903   7.466   0.      0.      2.467   0.      8.739  10.919\n",
      "   0.      8.173   0.      0.      0.      0.      0.      0.      0.      0.\n",
      "   0.071   0.278   0.      1.889   6.151   5.514   3.73 ]\n"
     ]
    }
   ],
   "source": [
    "# <fill in here>\n",
    "arr[mybool] = 0\n",
    "print(arr[0])"
   ]
  },
  {
   "cell_type": "markdown",
   "metadata": {},
   "source": [
    "---\n",
    "\n",
    "## Logical operators"
   ]
  },
  {
   "cell_type": "markdown",
   "metadata": {},
   "source": [
    "Arrays support bitwise operations like AND, OR, NOT on boolean arrays. We saw an example above using the & operator between two boolean arrays. This is useful because it let's us combine expressions in inequalities, as we saw:"
   ]
  },
  {
   "cell_type": "code",
   "execution_count": 124,
   "metadata": {
    "collapsed": false
   },
   "outputs": [
    {
     "data": {
      "text/plain": [
       "array([ 7,  8,  7,  8,  7,  8, 19,  6,  9,  8,  8, 19, 19,  9,  7,  9,  6,\n",
       "        9,  7, 19,  7,  9, 19,  7,  7,  8,  9,  8])"
      ]
     },
     "execution_count": 124,
     "metadata": {},
     "output_type": "execute_result"
    }
   ],
   "source": [
    "a = np.random.randint(0., 20., size=100)\n",
    "idx = ((a > 5) & (a < 10)) | (a > 18)\n",
    "a[idx] # select numbers either between 5 and 10 OR greater than 18"
   ]
  },
  {
   "cell_type": "markdown",
   "metadata": {},
   "source": [
    "Above, the array `idx` is a boolean array where the True elements meet the selection criteria, and the False elements don't:"
   ]
  },
  {
   "cell_type": "code",
   "execution_count": 125,
   "metadata": {
    "collapsed": false
   },
   "outputs": [
    {
     "data": {
      "text/plain": [
       "array([False, False, False,  True, False, False, False,  True, False,\n",
       "       False,  True, False,  True, False,  True, False, False,  True,\n",
       "       False, False, False, False,  True, False, False, False, False,\n",
       "       False,  True, False, False,  True, False, False, False,  True,\n",
       "        True, False,  True, False, False, False, False, False,  True,\n",
       "       False, False, False,  True,  True, False, False,  True, False,\n",
       "       False, False, False,  True, False,  True, False, False, False,\n",
       "        True, False, False,  True, False, False,  True, False, False,\n",
       "       False,  True, False, False, False, False,  True,  True, False,\n",
       "       False, False, False, False, False,  True, False, False,  True,\n",
       "        True, False, False, False, False,  True, False, False, False, False], dtype=bool)"
      ]
     },
     "execution_count": 125,
     "metadata": {},
     "output_type": "execute_result"
    }
   ],
   "source": [
    "idx"
   ]
  },
  {
   "cell_type": "markdown",
   "metadata": {},
   "source": [
    "Sometimes, you may want the actual index values of any elements that match some constraint. We can get the indices of the values that match the constraint with `np.where()`:"
   ]
  },
  {
   "cell_type": "code",
   "execution_count": 134,
   "metadata": {
    "collapsed": false
   },
   "outputs": [
    {
     "data": {
      "text/plain": [
       "(array([ 3,  7, 10, 12, 14, 17, 22, 28, 31, 35, 36, 38, 44, 48, 49, 52, 57,\n",
       "        59, 63, 66, 69, 73, 78, 79, 86, 89, 90, 95]),)"
      ]
     },
     "execution_count": 134,
     "metadata": {},
     "output_type": "execute_result"
    }
   ],
   "source": [
    "indices = np.where(idx)\n",
    "indices"
   ]
  },
  {
   "cell_type": "markdown",
   "metadata": {},
   "source": [
    "In this case, selecting from an array using a boolean array or an array of indices is equivalent:"
   ]
  },
  {
   "cell_type": "code",
   "execution_count": 135,
   "metadata": {
    "collapsed": false
   },
   "outputs": [
    {
     "data": {
      "text/plain": [
       "True"
      ]
     },
     "execution_count": 135,
     "metadata": {},
     "output_type": "execute_result"
    }
   ],
   "source": [
    "np.all(a[idx] == a[indices])"
   ]
  },
  {
   "cell_type": "code",
   "execution_count": 133,
   "metadata": {
    "collapsed": false
   },
   "outputs": [
    {
     "data": {
      "text/plain": [
       "(True, False)"
      ]
     },
     "execution_count": 133,
     "metadata": {},
     "output_type": "execute_result"
    }
   ],
   "source": [
    "np.any(np.array([True, True, False])), np.all(np.array([True, True, False]))"
   ]
  },
  {
   "cell_type": "markdown",
   "metadata": {},
   "source": [
    "Here, the `all()` function returns True if all of the values are True, and False if any value is False."
   ]
  },
  {
   "cell_type": "markdown",
   "metadata": {},
   "source": [
    "Sometimes we want to partition or split a data set based on some condition. For simple cases, we can do something like:"
   ]
  },
  {
   "cell_type": "code",
   "execution_count": null,
   "metadata": {
    "collapsed": false
   },
   "outputs": [],
   "source": [
    "chunk1 = a[a > 10]\n",
    "chunk2 = a[a <= 10]\n",
    "chunk1, chunk2"
   ]
  },
  {
   "cell_type": "markdown",
   "metadata": {},
   "source": [
    "But it's often annoying with long constraints to go through and invert all of the operators. For example:"
   ]
  },
  {
   "cell_type": "code",
   "execution_count": null,
   "metadata": {
    "collapsed": false
   },
   "outputs": [],
   "source": [
    "a[((a > 10) & ((a % 5) == 1)) | ((a < 2) & (a > 1))]"
   ]
  },
  {
   "cell_type": "markdown",
   "metadata": {},
   "source": [
    "For cases like the above, we can store the boolean index array as a separate variable, then use a logical NOT on the array to turn all of the `False`'s to `True` and vice versa."
   ]
  },
  {
   "cell_type": "code",
   "execution_count": null,
   "metadata": {
    "collapsed": false
   },
   "outputs": [],
   "source": [
    "idx = ((a > 10) & ((a % 5) == 1)) | ((a < 2) & (a > 1))\n",
    "idx"
   ]
  },
  {
   "cell_type": "code",
   "execution_count": null,
   "metadata": {
    "collapsed": false
   },
   "outputs": [],
   "source": [
    "chunk1 = a[idx]\n",
    "chunk2 = a[np.logical_not(idx)]\n",
    "a.shape, chunk1.shape, chunk2.shape"
   ]
  },
  {
   "cell_type": "code",
   "execution_count": 136,
   "metadata": {
    "collapsed": false
   },
   "outputs": [
    {
     "data": {
      "text/plain": [
       "array([ 0.742,  2.163,  1.521,  1.267,  0.299,  0.693,  0.41 ,  1.642,\n",
       "        0.331,  0.671,  0.475,  1.011,  0.391,  0.911,  0.999,  0.691,\n",
       "        0.954,  0.437,  1.149,  0.813,  0.623,  0.784,  0.265,  0.753,\n",
       "        0.947,  1.199,  1.019,  0.488,  0.747,  0.466,  1.856,  1.431,\n",
       "        0.458,  1.572,  0.71 ,  0.883,  0.686,  0.43 ,  0.37 ,  0.736,\n",
       "        0.362,  2.09 ,  0.741,  0.803,  1.005,  0.554,  1.352,  1.83 ,\n",
       "        0.675,  0.395,  1.612,  1.369,  0.797,  0.286,  1.303,  1.431,\n",
       "        0.464,  1.425,  1.199,  1.088,  0.824,  1.502,  0.837,  0.919,\n",
       "        0.458,  2.32 ,  1.536,  0.346,  0.584,  0.265,  0.621,  1.114,\n",
       "        1.421,  1.537,  2.102,  0.262,  0.596,  1.569,  0.845,  0.293,\n",
       "        1.087,  0.525,  1.185,  1.033,  0.776,  1.352,  1.349,  1.314,\n",
       "        0.936,  1.276,  0.397,  0.739,  0.412,  0.944,  0.397,  0.898,\n",
       "        0.507,  0.791,  1.459,  0.262,  1.534,  2.596,  2.038,  0.736,\n",
       "        0.61 ,  0.497,  0.876,  1.604,  1.044,  0.517,  0.888,  1.468,\n",
       "        0.94 ,  0.406,  0.343,  0.334])"
      ]
     },
     "execution_count": 136,
     "metadata": {},
     "output_type": "execute_result"
    }
   ],
   "source": [
    "arr = np.random.normal(0,1,size=(6,6,8))\n",
    "arr[np.where(arr > 0.25)]"
   ]
  },
  {
   "cell_type": "code",
   "execution_count": 137,
   "metadata": {
    "collapsed": false
   },
   "outputs": [
    {
     "data": {
      "text/plain": [
       "(array([0, 0, 0, 0, 0, 0, 0, 0, 0, 0, 0, 0, 0, 0, 0, 0, 0, 0, 0, 0, 1, 1, 1,\n",
       "        1, 1, 1, 1, 1, 1, 1, 1, 1, 1, 1, 1, 1, 1, 1, 1, 1, 1, 2, 2, 2, 2, 2,\n",
       "        2, 2, 2, 2, 2, 2, 2, 2, 2, 2, 2, 2, 2, 2, 3, 3, 3, 3, 3, 3, 3, 3, 3,\n",
       "        3, 3, 3, 3, 3, 3, 3, 3, 3, 3, 3, 4, 4, 4, 4, 4, 4, 4, 4, 4, 4, 4, 4,\n",
       "        4, 4, 4, 4, 4, 4, 5, 5, 5, 5, 5, 5, 5, 5, 5, 5, 5, 5, 5, 5, 5, 5, 5,\n",
       "        5]),\n",
       " array([0, 1, 1, 1, 1, 2, 2, 2, 2, 2, 3, 3, 3, 3, 3, 3, 4, 5, 5, 5, 0, 0, 0,\n",
       "        0, 0, 1, 1, 2, 2, 2, 2, 2, 2, 4, 4, 4, 4, 5, 5, 5, 5, 0, 0, 1, 1, 1,\n",
       "        2, 2, 2, 2, 3, 3, 3, 3, 4, 4, 4, 4, 5, 5, 0, 0, 0, 0, 1, 2, 2, 2, 2,\n",
       "        3, 3, 3, 4, 4, 4, 4, 4, 5, 5, 5, 0, 0, 0, 0, 1, 1, 2, 2, 2, 2, 3, 3,\n",
       "        3, 4, 4, 4, 5, 5, 0, 0, 0, 0, 1, 1, 1, 1, 2, 2, 2, 3, 4, 4, 4, 5, 5,\n",
       "        5]),\n",
       " array([2, 0, 2, 3, 6, 0, 1, 4, 5, 6, 0, 1, 2, 5, 6, 7, 0, 3, 6, 7, 1, 2, 3,\n",
       "        5, 7, 2, 3, 0, 1, 2, 3, 4, 5, 0, 2, 3, 6, 1, 2, 3, 5, 5, 7, 0, 3, 5,\n",
       "        1, 2, 3, 5, 0, 1, 3, 4, 0, 3, 4, 6, 5, 7, 1, 2, 5, 7, 6, 0, 1, 4, 6,\n",
       "        1, 4, 6, 2, 4, 5, 6, 7, 0, 4, 5, 0, 3, 5, 6, 1, 5, 4, 5, 6, 7, 2, 3,\n",
       "        4, 1, 3, 4, 1, 2, 1, 2, 5, 7, 0, 1, 3, 5, 3, 4, 7, 4, 0, 3, 4, 3, 4,\n",
       "        7]))"
      ]
     },
     "execution_count": 137,
     "metadata": {},
     "output_type": "execute_result"
    }
   ],
   "source": [
    "np.where(arr > 0.25)"
   ]
  },
  {
   "cell_type": "markdown",
   "metadata": {},
   "source": [
    "---\n",
    "\n",
    "<h1 style='background-color: #cccccc; padding: 15px;'>Exercise C</h1>"
   ]
  },
  {
   "cell_type": "markdown",
   "metadata": {},
   "source": [
    "1) Create an array of 1024 normally distributed random numbers (mean=0, stddev=5.). Split this array in to 3 parts: values less than 0, values between 0 and 1, and values greater or equal to 1"
   ]
  },
  {
   "cell_type": "code",
   "execution_count": null,
   "metadata": {
    "collapsed": true
   },
   "outputs": [],
   "source": [
    "# <fill in here>"
   ]
  },
  {
   "cell_type": "markdown",
   "metadata": {},
   "source": [
    "---\n",
    "\n",
    "## Dimensionality reduction"
   ]
  },
  {
   "cell_type": "markdown",
   "metadata": {},
   "source": [
    "We often end up with complicated array structures where we may want to sum along one axis, or take the mean or median along an axis. For example, let's say we had a 2D array, `A`, where each _row_ is a spectrum of the same star at a different time. So that `A[0]` is an array of fluxes at time=0, `A[1]` is an array of fluxes at time=1, and etc. \n",
    "\n",
    "We'll create an array of random numbers to represent this: let's assume we have 100 timesteps, and 5000 wavelength bins."
   ]
  },
  {
   "cell_type": "code",
   "execution_count": 138,
   "metadata": {
    "collapsed": false
   },
   "outputs": [
    {
     "data": {
      "text/plain": [
       "(100, 5000)"
      ]
     },
     "execution_count": 138,
     "metadata": {},
     "output_type": "execute_result"
    }
   ],
   "source": [
    "A = np.random.random((100,5000))\n",
    "A.shape"
   ]
  },
  {
   "cell_type": "markdown",
   "metadata": {},
   "source": [
    "We may want to coadd the individual \"spectra\":"
   ]
  },
  {
   "cell_type": "code",
   "execution_count": 139,
   "metadata": {
    "collapsed": false
   },
   "outputs": [
    {
     "name": "stdout",
     "output_type": "stream",
     "text": [
      "(5000,)\n"
     ]
    }
   ],
   "source": [
    "coadd = A.sum(axis=0)\n",
    "print(coadd.shape)"
   ]
  },
  {
   "cell_type": "markdown",
   "metadata": {},
   "source": [
    "Most mathematical operations that reduce the dimensionality of an array will by default reduce the array to be 0-dimensional, but they often support the keyword `axis` and can be explicitly told to only squash that one dimension:"
   ]
  },
  {
   "cell_type": "code",
   "execution_count": 140,
   "metadata": {
    "collapsed": false
   },
   "outputs": [
    {
     "data": {
      "text/plain": [
       "(5000,)"
      ]
     },
     "execution_count": 140,
     "metadata": {},
     "output_type": "execute_result"
    }
   ],
   "source": [
    "np.sum(A, axis=0).shape"
   ]
  },
  {
   "cell_type": "code",
   "execution_count": 141,
   "metadata": {
    "collapsed": false
   },
   "outputs": [
    {
     "data": {
      "text/plain": [
       "(5000,)"
      ]
     },
     "execution_count": 141,
     "metadata": {},
     "output_type": "execute_result"
    }
   ],
   "source": [
    "np.mean(A, axis=0).shape # take the mean of all spectra"
   ]
  },
  {
   "cell_type": "code",
   "execution_count": 142,
   "metadata": {
    "collapsed": false
   },
   "outputs": [
    {
     "data": {
      "text/plain": [
       "(5000,)"
      ]
     },
     "execution_count": 142,
     "metadata": {},
     "output_type": "execute_result"
    }
   ],
   "source": [
    "np.var(A, axis=0).shape # the variance"
   ]
  },
  {
   "cell_type": "code",
   "execution_count": 143,
   "metadata": {
    "collapsed": false
   },
   "outputs": [
    {
     "data": {
      "text/plain": [
       "250061.25814225923"
      ]
     },
     "execution_count": 143,
     "metadata": {},
     "output_type": "execute_result"
    }
   ],
   "source": [
    "np.sum(A)"
   ]
  },
  {
   "cell_type": "markdown",
   "metadata": {},
   "source": [
    "---\n",
    "\n",
    "## Broadcasting\n",
    "\n",
    "_This is a complicated topic but understanding array broadcasting is critical for making your code efficient!_\n",
    "\n",
    "Broadcasting describes how numpy treats arrays with different shapes during arithmetic operations. As an example, let's consider the simplest case: multiplying a 1D array by a single number:"
   ]
  },
  {
   "cell_type": "code",
   "execution_count": null,
   "metadata": {
    "collapsed": false
   },
   "outputs": [],
   "source": [
    "arr = np.arange(5)\n",
    "arr * 5."
   ]
  },
  {
   "cell_type": "markdown",
   "metadata": {},
   "source": [
    "One way to think about this is that you are multiplying a 1D array by a 0D array. In situations like this, Numpy will try to promote the array with lower dimensionality up to match the dimensionality of the other array. Of course, it doesn't actually do this (it uses tricks that we won't go in to here), but conceptually it is illustrated by this cartoon:"
   ]
  },
  {
   "cell_type": "markdown",
   "metadata": {},
   "source": [
    "```\n",
    "[0,1,2,3,4] x 5\n",
    "[0,1,2,3,4] x [5,5,5,5,5]\n",
    "<perform operation element-wise>\n",
    "```"
   ]
  },
  {
   "cell_type": "markdown",
   "metadata": {},
   "source": [
    "Above we are effectively multiplying an array with shape=(5,) by an array with shape=(1,) (a single number) -- Numpy knows that in situations like this, the second array should be \"copied\" until its shape matches the shape of the first array. Here's a more complicated example -- multiplying an array with shape (3,1) by an array with shape (1,3):"
   ]
  },
  {
   "cell_type": "code",
   "execution_count": 144,
   "metadata": {
    "collapsed": false
   },
   "outputs": [
    {
     "name": "stdout",
     "output_type": "stream",
     "text": [
      "(1, 3)\n",
      "(3, 1)\n"
     ]
    }
   ],
   "source": [
    "a = np.array([[1,2,3]])\n",
    "b = np.array([[4],[5],[6]])\n",
    "print(a.shape)\n",
    "print(b.shape)"
   ]
  },
  {
   "cell_type": "code",
   "execution_count": 145,
   "metadata": {
    "collapsed": false
   },
   "outputs": [
    {
     "data": {
      "text/plain": [
       "array([[ 4,  8, 12],\n",
       "       [ 5, 10, 15],\n",
       "       [ 6, 12, 18]])"
      ]
     },
     "execution_count": 145,
     "metadata": {},
     "output_type": "execute_result"
    }
   ],
   "source": [
    "a*b"
   ]
  },
  {
   "cell_type": "markdown",
   "metadata": {},
   "source": [
    "Multiplying these arrays makes a new array with shape 3x3! How did this happen? Array `a` has 1 element in axis=0, array `b` has 3 elements in axis=0. Similarly, array `a` has 3 elements in axis=1, and array `b` has 1 element in axis=1. The single elements are _broadcast_ to match the shape (3) of the complimentary array. This is effectively an outer product between the arrays."
   ]
  },
  {
   "cell_type": "markdown",
   "metadata": {},
   "source": [
    "Even though I used the word \"copied\" when describing this above, numpy doesn't actually make copies of anything -- this is why operations that make use of broadcasting are so efficient."
   ]
  },
  {
   "cell_type": "markdown",
   "metadata": {},
   "source": [
    "When utilizing broadcasting, you may need to add dimensions to arrays in order to make the number of dimensions of two arrays match. For example, imagine I have a 2D array:"
   ]
  },
  {
   "cell_type": "code",
   "execution_count": 146,
   "metadata": {
    "collapsed": true
   },
   "outputs": [],
   "source": [
    "arr = np.array([[1,2,3],\n",
    "                [4,5,6],\n",
    "                [7,8,9]])"
   ]
  },
  {
   "cell_type": "markdown",
   "metadata": {},
   "source": [
    "Now imagine I have a 1D array that I would like to multiply in to each *row* of the above matrix:"
   ]
  },
  {
   "cell_type": "code",
   "execution_count": 148,
   "metadata": {
    "collapsed": true
   },
   "outputs": [],
   "source": [
    "arr2 = np.array([10,20,30])"
   ]
  },
  {
   "cell_type": "code",
   "execution_count": 149,
   "metadata": {
    "collapsed": false
   },
   "outputs": [
    {
     "data": {
      "text/plain": [
       "(3, 3)"
      ]
     },
     "execution_count": 149,
     "metadata": {},
     "output_type": "execute_result"
    }
   ],
   "source": [
    "arr.shape"
   ]
  },
  {
   "cell_type": "code",
   "execution_count": 150,
   "metadata": {
    "collapsed": false
   },
   "outputs": [
    {
     "data": {
      "text/plain": [
       "(3,)"
      ]
     },
     "execution_count": 150,
     "metadata": {},
     "output_type": "execute_result"
    }
   ],
   "source": [
    "arr2.shape"
   ]
  },
  {
   "cell_type": "code",
   "execution_count": 152,
   "metadata": {
    "collapsed": false
   },
   "outputs": [
    {
     "data": {
      "text/plain": [
       "((1, 3), (1, 3))"
      ]
     },
     "execution_count": 152,
     "metadata": {},
     "output_type": "execute_result"
    }
   ],
   "source": [
    "arr2.reshape(1,3).shape, arr2[np.newaxis].shape"
   ]
  },
  {
   "cell_type": "code",
   "execution_count": 153,
   "metadata": {
    "collapsed": false
   },
   "outputs": [
    {
     "data": {
      "text/plain": [
       "array([[ 10,  40,  90],\n",
       "       [ 40, 100, 180],\n",
       "       [ 70, 160, 270]])"
      ]
     },
     "execution_count": 153,
     "metadata": {},
     "output_type": "execute_result"
    }
   ],
   "source": [
    "arr2[np.newaxis] * arr"
   ]
  },
  {
   "cell_type": "code",
   "execution_count": 157,
   "metadata": {
    "collapsed": false
   },
   "outputs": [
    {
     "data": {
      "text/plain": [
       "(1, 3, 3)"
      ]
     },
     "execution_count": 157,
     "metadata": {},
     "output_type": "execute_result"
    }
   ],
   "source": [
    "arr[np.newaxis].shape"
   ]
  },
  {
   "cell_type": "code",
   "execution_count": 159,
   "metadata": {
    "collapsed": false
   },
   "outputs": [
    {
     "data": {
      "text/plain": [
       "(3,)"
      ]
     },
     "execution_count": 159,
     "metadata": {},
     "output_type": "execute_result"
    }
   ],
   "source": [
    "arr2.shape"
   ]
  },
  {
   "cell_type": "code",
   "execution_count": 161,
   "metadata": {
    "collapsed": false
   },
   "outputs": [
    {
     "data": {
      "text/plain": [
       "(3, 1, 3)"
      ]
     },
     "execution_count": 161,
     "metadata": {},
     "output_type": "execute_result"
    }
   ],
   "source": [
    "(arr[:,np.newaxis] * arr2).shape"
   ]
  },
  {
   "cell_type": "markdown",
   "metadata": {},
   "source": [
    "The `np.newaxis` object lets us promote the array `arr` to have shape (1,3)."
   ]
  },
  {
   "cell_type": "markdown",
   "metadata": {},
   "source": [
    "---\n",
    "\n",
    "## Structured array"
   ]
  },
  {
   "cell_type": "markdown",
   "metadata": {},
   "source": [
    "Another useful numpy data type is the __structured array__, which acts like a normal 2 dimensional array but can also have named columns:\n",
    "\n",
    "<table>\n",
    "    <tr>\n",
    "        <td>ID</td>\n",
    "        <td>RA</td>\n",
    "        <td>Dec</td>\n",
    "    </tr>\n",
    "    <tr>\n",
    "        <td>15125</td>\n",
    "        <td>115.51244</td>\n",
    "        <td>21.51363</td>\n",
    "    </tr>\n",
    "    <tr>\n",
    "        <td>1157</td>\n",
    "        <td>173.12155</td>\n",
    "        <td>-11.15124</td>\n",
    "    </tr>\n",
    "    <tr>\n",
    "        <td>31346</td>\n",
    "        <td>201.15135</td>\n",
    "        <td>13.51613</td>\n",
    "    </tr>\n",
    "    <tr>\n",
    "        <td>3463</td>\n",
    "        <td>278.23523</td>\n",
    "        <td>67.24114</td>\n",
    "    </tr>\n",
    "</table>    \n"
   ]
  },
  {
   "cell_type": "code",
   "execution_count": 162,
   "metadata": {
    "collapsed": false
   },
   "outputs": [],
   "source": [
    "table_data = [(15125, 115.51244, 21.51363), \n",
    "              (1157, 173.12155, -11.15124),\n",
    "              (31346, 201.15135, 13.51613),\n",
    "              (3463, 278.23523, 67.24114)]\n",
    "structured_array = np.array(table_data, dtype=[(\"id\", int), \n",
    "                                               (\"ra\", float),\n",
    "                                               (\"dec\", float)])"
   ]
  },
  {
   "cell_type": "code",
   "execution_count": 163,
   "metadata": {
    "collapsed": false
   },
   "outputs": [
    {
     "data": {
      "text/plain": [
       "array([ 115.512,  173.122,  201.151,  278.235])"
      ]
     },
     "execution_count": 163,
     "metadata": {},
     "output_type": "execute_result"
    }
   ],
   "source": [
    "structured_array[\"ra\"] # Returns column"
   ]
  },
  {
   "cell_type": "code",
   "execution_count": 165,
   "metadata": {
    "collapsed": false
   },
   "outputs": [
    {
     "data": {
      "text/plain": [
       "115.51244"
      ]
     },
     "execution_count": 165,
     "metadata": {},
     "output_type": "execute_result"
    }
   ],
   "source": [
    "structured_array[0]['ra'] # returns row"
   ]
  },
  {
   "cell_type": "code",
   "execution_count": 167,
   "metadata": {
    "collapsed": false
   },
   "outputs": [
    {
     "data": {
      "text/plain": [
       "('id', 'ra', 'dec')"
      ]
     },
     "execution_count": 167,
     "metadata": {},
     "output_type": "execute_result"
    }
   ],
   "source": [
    "structured_array.dtype.names"
   ]
  },
  {
   "cell_type": "markdown",
   "metadata": {},
   "source": [
    "Numpy provides two functions for reading in numeric data from text files: `genfromtxt()` and `loadtxt()`. I recommend using `genfromtxt()`, but (as you'll hear tomorrow) Astropy contains some more useful tools for reading from ascii files."
   ]
  },
  {
   "cell_type": "markdown",
   "metadata": {},
   "source": [
    "---\n",
    "\n",
    "<h1 style='background-color: #cccccc; padding: 15px;'>Exercise D</h1>"
   ]
  },
  {
   "cell_type": "markdown",
   "metadata": {},
   "source": [
    "1) Read in the provided data file (`borkova2002.csv`)"
   ]
  },
  {
   "cell_type": "code",
   "execution_count": 168,
   "metadata": {
    "collapsed": true
   },
   "outputs": [],
   "source": [
    "# you'll need to set the 'delimiter', 'dtype', and 'names' arguments\n",
    "\n",
    "data = np.genfromtxt(\"/Users/adrian/projects/tutorials/data/borkova2002.csv\",\n",
    "                     delimiter=',',\n",
    "                     dtype=None,\n",
    "                     names=True)"
   ]
  },
  {
   "cell_type": "code",
   "execution_count": 169,
   "metadata": {
    "collapsed": false
   },
   "outputs": [
    {
     "data": {
      "text/plain": [
       "array([(5.9295, 29.401, 'SWAnd', -0.38, 200, 40, 9.0, 0.4, 0.01),\n",
       "       (19.3642, 38.9506, 'XXAnd', -2.01, 18, 325, 19.3, 11.3, 0.91),\n",
       "       (355.6285, 43.0143, 'ATAnd', -0.97, 10, 292, 12.5, 7.6, 0.91),\n",
       "       (28.7846, 43.7657, 'CIAnd', -0.83, 276, 113, 21.5, 2.6, 0.38),\n",
       "       (16.3569, 34.2204, 'DRAnd', -1.48, -94, 357, 16.0, 6.6, 0.83),\n",
       "       (154.0206, -29.7284, 'WYAnt', -1.66, -46, 351, 17.5, 14.0, 0.97),\n",
       "       (222.2084, -71.3283, 'TYAps', -1.21, 8, 247, 7.7, 7.0, 0.8),\n",
       "       (223.0226, -79.6796, 'XZAps', -1.57, -17, 243, 8.1, 5.7, 0.94),\n",
       "       (318.8244, 0.0763, 'SWAqr', -1.24, 3, 369, 18.2, 9.5, 0.94),\n",
       "       (324.0352, 3.2306, 'SXAqr', -1.83, -67, 482, 34.9, 16.9, 0.88),\n",
       "       (330.4814, -5.6008, 'TZAqr', -1.24, 162, 65, 8.2, 1.1, 0.14),\n",
       "       (343.534, -12.3607, 'BOAqr', -1.8, 163, 111, 9.4, 1.9, 0.37),\n",
       "       (354.637, -9.3187, 'BRAqr', -0.84, 180, 62, 8.5, 1.7, 0.01),\n",
       "       (314.4517, -5.6852, 'BTAqr', -0.29, 144, 75, 7.5, 0.9, 0.3),\n",
       "       (317.5535, -1.7212, 'CPAqr', -0.9, 167, 123, 9.5, 0.8, 0.42),\n",
       "       (349.8217, -24.2163, 'DNAqr', -1.63, -3, 383, 25.9, 13.0, 0.95),\n",
       "       (309.5627, -2.8901, 'AAAql', -0.58, 152, 86, 7.9, 0.8, 0.13),\n",
       "       (308.1315, 0.5853, 'V341 Aql', -1.37, 103, 201, 9.7, 5.2, 0.41),\n",
       "       (269.7947, -49.4335, 'SAra', -1.43, 96, 193, 10.1, 0.9, 0.66),\n",
       "       (270.7679, -52.7224, 'MSAra', -1.48, 21, 220, 7.4, 4.8, 0.92),\n",
       "       (47.1287, 10.4459, 'XAri', -2.4, -44, 264, 9.0, 0.5, 0.83),\n",
       "       (107.8959, 40.777, 'TZAur', -0.8, 204, 122, 14.2, 2.6, 0.33),\n",
       "       (218.3884, 31.7546, 'RSBoo', -0.32, 243, 31, 10.6, 1.0, 0.09),\n",
       "       (232.6635, 35.7845, 'STBoo', -0.86, 141, 112, 8.3, 2.2, 0.14),\n",
       "       (216.8957, 36.0456, 'SWBoo', -1.12, -142, 524, 68.3, 55.1, 0.9),\n",
       "       (220.5557, 28.2065, 'SZBoo', -1.68, 101, 119, 8.1, 2.0, 0.33),\n",
       "       (221.2748, 41.0289, 'TWBoo', -1.41, -1, 327, 14.7, 9.5, 0.94),\n",
       "       (229.2722, 35.116, 'UUBoo', -1.92, 5, 372, 19.9, 11.2, 0.96),\n",
       "       (209.6931, 12.9518, 'UYBoo', -2.49, 27, 284, 13.1, 8.0, 0.93),\n",
       "       (139.7751, 29.0655, 'RWCnc', -1.52, 6, 241, 11.2, 7.4, 0.97),\n",
       "       (121.6065, 23.2516, 'SSCnc', -0.07, 130, 135, 10.0, 3.9, 0.32),\n",
       "       (128.2299, 13.1912, 'TTCnc', -1.58, 95, 290, 17.5, 14.9, 0.48),\n",
       "       (139.4124, 12.6509, 'AQCnc', -1.53, -146, 486, 33.4, 5.1, 0.79),\n",
       "       (126.4256, 25.7191, 'ASCnc', -1.89, 40, 417, 51.3, 42.8, 0.67),\n",
       "       (211.6166, 37.8282, 'WCVn', -1.21, 132, 106, 8.5, 1.7, 0.36),\n",
       "       (192.4396, 43.774, 'ZCVn', -1.98, -6, 245, 9.9, 6.6, 0.98),\n",
       "       (209.8886, 31.6511, 'RUCVn', -1.37, 60, 273, 15.0, 7.4, 0.8),\n",
       "       (206.2626, 32.6546, 'RZCVn', -1.92, -21, 384, 24.6, 15.0, 0.96),\n",
       "       (207.0664, 39.9008, 'SSCVn', -1.52, 12, 354, 20.1, 19.0, 0.99),\n",
       "       (188.9835, 37.2067, 'SVCVn', -2.2, 10, 279, 13.5, 8.7, 0.99),\n",
       "       (190.2117, 37.0927, 'SWCVn', -1.53, -37, 259, 9.4, 4.9, 0.81),\n",
       "       (187.6154, 40.5089, 'UZCVn', -2.34, -158, 394, 9.9, 0.9, 0.24),\n",
       "       (117.2377, 5.6365, 'ALCMi', -0.85, 202, 105, 12.1, 2.2, 0.25),\n",
       "       (188.1901, 27.0293, 'SCom', -2.0, 63, 185, 9.7, 4.1, 0.62),\n",
       "       (196.2833, 23.2785, 'RYCom', -1.65, 65, 163, 8.8, 3.8, 0.67),\n",
       "       (199.4639, 20.7808, 'STCom', -1.26, -34, 264, 9.1, 4.4, 0.79),\n",
       "       (281.9901, -37.7396, 'V413 CrA', -1.21, 86, 191, 8.6, 3.8, 0.62),\n",
       "       (230.5893, 26.8771, 'TVCrB', -2.33, 137, 154, 9.3, 4.0, 0.29),\n",
       "       (171.6235, -17.9144, 'WCrt', -0.5, 127, 151, 9.9, 1.2, 0.54),\n",
       "       (177.2343, -10.4413, 'XCrt', -1.75, -39, 298, 10.7, 8.7, 0.82),\n",
       "       (314.1179, 30.4279, 'UYCyg', -1.03, 214, 45, 9.1, 0.3, 0.0),\n",
       "       (293.1221, 56.3882, 'XZCyg', -1.52, 237, 237, 25.3, 15.2, 0.5),\n",
       "       (320.2982, 32.1914, 'DMCyg', -0.14, 272, 96, 15.5, 2.2, 0.3),\n",
       "       (311.8682, 12.4641, 'DXDel', -0.56, 204, 73, 10.1, 0.2, 0.23),\n",
       "       (248.8817, 57.8398, 'RWDra', -1.4, 97, 123, 8.5, 1.0, 0.35),\n",
       "       (174.4859, 67.3297, 'SUDra', -1.74, -104, 325, 9.3, 0.5, 0.0),\n",
       "       (184.4443, 69.5106, 'SWDra', -1.24, 129, 118, 9.8, 0.7, 0.38),\n",
       "       (287.4275, 64.8589, 'XZDra', -0.87, 166, 80, 8.8, 1.0, 0.23),\n",
       "       (276.7781, 55.4924, 'AEDra', -1.54, -150, 426, 14.3, 0.6, 0.31),\n",
       "       (273.5794, 76.6857, 'BCDra', -2.0, -193, 535, 52.5, 45.1, 0.71),\n",
       "       (289.5861, 66.4133, 'BKDra', -2.12, 104, 227, 13.6, 7.6, 0.52),\n",
       "       (222.936, 60.0692, 'BTDra', -1.55, 62, 306, 17.0, 9.6, 0.94),\n",
       "       (72.4345, -15.7412, 'RXEri', -1.3, 208, 79, 9.5, 1.8, 0.07),\n",
       "       (47.9671, -11.3539, 'SVEri', -2.04, 79, 164, 9.8, 0.6, 0.68),\n",
       "       (73.4063, -19.4336, 'BBEri', -1.51, -13, 317, 14.6, 8.0, 0.94),\n",
       "       (31.9666, -26.866, 'SSFor', -1.35, -13, 295, 10.6, 10.3, 0.72),\n",
       "       (52.5931, -36.0538, 'SXFor', -1.62, -41, 305, 11.1, 5.5, 0.81),\n",
       "       (110.3897, 30.8832, 'RRGem', -0.35, 231, 57, 12.3, 0.6, 0.18),\n",
       "       (118.431, 19.2733, 'SZGem', -1.81, -32, 376, 21.9, 10.1, 0.92),\n",
       "       (268.63, 30.4105, 'TWHer', -0.67, 246, 31, 10.5, 0.6, 0.12),\n",
       "       (247.67, 18.3668, 'VXHer', -1.52, -56, 453, 39.4, 19.4, 0.98),\n",
       "       (258.2667, 35.9786, 'VZHer', -1.03, 49, 178, 8.2, 1.2, 0.8),\n",
       "       (240.1343, 46.9238, 'ARHer', -1.4, -224, 510, 33.6, 3.1, 0.8),\n",
       "       (260.1307, 14.4824, 'DLHer', -1.32, 239, 112, 11.7, 3.1, 0.25),\n",
       "       (249.5754, 37.8013, 'GYHer', -1.92, 170, 205, 17.8, 5.6, 0.57),\n",
       "       (187.6271, -26.0475, 'SVHya', -1.7, 114, 187, 10.0, 3.8, 0.46),\n",
       "       (138.4534, -9.3191, 'SZHya', -1.75, -145, 406, 16.6, 5.2, 0.68),\n",
       "       (144.1241, 4.1113, 'UUHya', -1.65, -24, 343, 15.9, 6.9, 0.89),\n",
       "       (153.3505, -13.1382, 'WZHya', -1.3, -47, 305, 9.3, 5.8, 0.62),\n",
       "       (137.4558, -15.5997, 'XXHya', -1.33, 46, 241, 13.9, 0.9, 0.81),\n",
       "       (123.1326, 2.8347, 'DDHya', -1.0, 98, 163, 10.9, 1.4, 0.63),\n",
       "       (134.5266, -5.4402, 'DGHya', -1.42, 46, 244, 11.9, 6.4, 0.8),\n",
       "       (135.0738, -9.7825, 'DHHya', -1.55, -24, 393, 22.1, 1.7, 0.9),\n",
       "       (128.7735, -8.8459, 'ETHya', -1.69, -104, 375, 10.1, 7.9, 0.14),\n",
       "       (133.7095, 6.3911, 'GOHya', -0.83, 186, 60, 9.7, 1.4, 0.01),\n",
       "       (317.8746, -45.0746, 'VInd', -1.5, -62, 397, 19.2, 8.3, 0.88),\n",
       "       (315.3703, -15.2295, 'RVCap', -1.72, -316, 567, 31.6, 12.4, 0.61),\n",
       "       (208.8115, -43.2402, 'V499 Cen', -1.56, -19, 322, 14.2, 7.4, 0.99),\n",
       "       (23.0341, 1.3417, 'RRCet', -1.52, 85, 152, 9.2, 0.8, 0.65),\n",
       "       (15.1679, -15.9577, 'RUCet', -1.6, 13, 253, 9.1, 7.7, 0.84),\n",
       "       (33.8121, -10.8002, 'RVCet', -1.32, 61, 189, 9.1, 4.9, 0.63),\n",
       "       (8.4095, -15.4875, 'RXCet', -1.46, -43, 417, 27.8, 3.2, 0.94),\n",
       "       (37.1352, -8.3584, 'RZCet', -1.5, 108, 180, 12.0, 3.8, 0.52),\n",
       "       (1.0214, -16.9976, 'UUCet', -1.32, 56, 310, 20.6, 3.0, 0.87),\n",
       "       (30.0693, -16.3461, 'XZCet', -2.27, 152, 190, 12.4, 6.1, 0.41),\n",
       "       (90.9107, -31.5902, 'RWCol', -1.03, 271, 302, 47.4, 5.4, 0.82),\n",
       "       (93.3114, -37.2502, 'RXCol', -1.7, -18, 384, 19.9, 2.5, 0.87),\n",
       "       (78.7824, -41.6282, 'RYCol', -1.11, -169, 525, 43.4, 16.4, 0.82),\n",
       "       (156.3565, 28.7854, 'VLMi', -1.15, 82, 278, 20.3, 2.5, 0.81),\n",
       "       (151.528, 39.3577, 'XLMi', -1.68, 78, 285, 20.7, 2.6, 0.85),\n",
       "       (74.0749, -21.2172, 'ULep', -1.93, -145, 371, 10.6, 0.7, 0.45),\n",
       "       (229.5912, -8.4619, 'TVLib', -0.27, 288, 107, 16.4, 1.6, 0.41),\n",
       "       (237.8208, -15.7509, 'VYLib', -1.32, -13, 320, 12.3, 10.9, 0.9),\n",
       "       (135.7824, 44.5856, 'TTLyn', -1.76, 104, 309, 23.0, 18.5, 0.66),\n",
       "       (116.2762, 43.1115, 'TWLyn', -1.23, 249, 62, 14.2, 2.1, 0.18),\n",
       "       (291.3663, 42.7844, 'RRLyr', -1.37, 140, 249, 17.5, 0.3, 0.61),\n",
       "       (280.9078, 32.7983, 'RZLyr', -2.13, 67, 266, 15.1, 2.3, 0.78),\n",
       "       (280.3164, 28.7225, 'CNLyr', -0.26, 274, 77, 13.7, 0.4, 0.2),\n",
       "       (281.918, 35.9928, 'EZLyr', -1.52, 179, 116, 11.0, 0.9, 0.33),\n",
       "       (275.6583, 32.959, 'IOLyr', -1.52, 87, 312, 34.3, 9.8, 0.78),\n",
       "       (319.0946, -30.2842, 'ZMic', -1.28, 166, 131, 10.0, 1.7, 0.39),\n",
       "       (206.6323, -84.4018, 'RVOct', -1.34, 24, 206, 8.3, 5.0, 0.93),\n",
       "       (324.039, -77.3038, 'RYOct', -1.83, 72, 175, 7.9, 3.7, 0.66),\n",
       "       (328.3974, -82.7788, 'SSOct', -1.6, -158, 379, 8.3, 1.1, 0.16),\n",
       "       (248.1064, -83.9029, 'UVOct', -1.61, -30, 355, 15.4, 8.0, 0.82),\n",
       "       (263.4974, -1.081, 'STOph', -1.3, 235, 28, 8.6, 0.5, 0.0),\n",
       "       (246.2963, -10.5237, 'V413 Oph', -1.0, 114, 111, 7.6, 0.6, 0.29),\n",
       "       (246.1717, -6.5417, 'V445 Oph', -0.23, 214, 68, 9.5, 0.7, 0.17),\n",
       "       (273.8272, 12.3524, 'V455 Oph', -1.42, -10, 307, 9.3, 6.9, 0.88),\n",
       "       (269.0515, -57.1621, 'WYPav', -0.98, -3, 320, 11.6, 6.6, 0.9),\n",
       "       (294.5141, -60.611, 'BNPav', -1.32, 154, 105, 8.0, 1.4, 0.14),\n",
       "       (299.5006, -65.7361, 'BPPav', -1.48, -266, 478, 18.5, 2.7, 0.63),\n",
       "       (333.2663, 18.4511, 'VVPeg', -1.88, 201, 72, 9.2, 1.4, 0.03),\n",
       "       (328.0116, 22.5748, 'AVPeg', -0.14, 164, 69, 8.7, 0.5, 0.16),\n",
       "       (343.2543, 15.7879, 'BHPeg', -1.38, -68, 358, 12.9, 1.4, 0.7),\n",
       "       (325.32, 24.7735, 'CGPeg', -0.48, 279, 69, 8.6, 0.4, 0.0),\n",
       "       (350.0294, 16.0686, 'DZPeg', -1.52, -142, 362, 8.7, 1.3, 0.35),\n",
       "       (64.3216, 47.4002, 'ARPer', -0.43, 229, 28, 10.0, 0.3, 0.01),\n",
       "       (352.1311, -47.4536, 'RVPhe', -1.6, 16, 422, 36.2, 29.0, 0.99),\n",
       "       (72.5276, -50.657, 'UPic', -0.73, 204, 47, 9.1, 1.2, 0.01),\n",
       "       (335.2936, 39.7206, 'CQLac', -2.04, 231, 46, 11.1, 0.7, 0.09),\n",
       "       (151.9311, 23.9918, 'RRLeo', -1.57, 154, 130, 11.1, 1.2, 0.44),\n",
       "       (170.9932, 26.615, 'RXLeo', -1.38, 75, 231, 11.9, 7.8, 0.58),\n",
       "       (173.4771, -0.0333, 'SSLeo', -1.83, -14, 252, 9.2, 5.5, 0.93),\n",
       "       (174.6362, 10.5616, 'STLeo', -1.29, -77, 307, 9.2, 3.8, 0.64),\n",
       "       (165.4034, 8.1654, 'SZLeo', -1.86, -90, 326, 9.8, 1.8, 0.58),\n",
       "       (167.8415, -5.8921, 'TVLeo', -1.97, 339, 132, 30.8, 5.9, 0.56),\n",
       "       (142.6087, 7.2059, 'WWLeo', -1.48, 45, 244, 12.3, 9.7, 0.6),\n",
       "       (174.8095, 10.3275, 'AALeo', -1.47, -39, 277, 10.7, 6.2, 0.91),\n",
       "       (171.5507, 17.661, 'AELeo', -1.71, 207, 273, 38.8, 6.7, 0.78),\n",
       "       (170.8436, 6.6349, 'ANLeo', -1.14, 42, 259, 12.1, 10.3, 0.59),\n",
       "       (173.2656, 12.1539, 'AXLeo', -2.28, -161, 420, 13.8, 3.3, 0.47),\n",
       "       (2.9211, -1.7487, 'RYPsc', -1.39, 10, 346, 21.5, 13.3, 0.95),\n",
       "       (122.1176, -16.5332, 'XXPup', -1.5, -50, 397, 20.4, 0.9, 0.87),\n",
       "       (110.1481, -46.7084, 'HHPup', -0.69, 204, 20, 8.8, 0.3, 0.0),\n",
       "       (293.0866, -23.8535, 'V440 Sgr', -1.47, 43, 181, 7.9, 1.5, 0.83),\n",
       "       (273.3975, -34.3172, 'V675 Sgr', -2.01, 214, 188, 14.9, 5.0, 0.45),\n",
       "       (265.202, -31.5422, 'V494 Sco', -1.01, 203, 33, 7.9, 0.3, 0.01),\n",
       "       (0.7005, -24.9453, 'RUScl', -1.25, 83, 217, 11.4, 4.5, 0.68),\n",
       "       (23.8486, -35.1285, 'VXScl', -2.25, -156, 432, 16.3, 7.5, 0.54),\n",
       "       (232.758, 1.6838, 'VYSer', -1.82, -72, 418, 21.8, 10.6, 0.85),\n",
       "       (238.3794, 12.9611, 'ANSer', -0.04, 183, 70, 8.5, 1.1, 0.19),\n",
       "       (233.3784, 2.7772, 'ARSer', -1.78, 100, 372, 31.2, 19.0, 0.64),\n",
       "       (238.9182, 7.9888, 'ATSer', -2.05, 172, 81, 8.0, 1.5, 0.19),\n",
       "       (240.9667, 0.5967, 'AVSer', -1.2, 232, 52, 9.8, 0.9, 0.15),\n",
       "       (232.1514, 3.0899, 'CSSer', -1.57, 195, 284, 25.0, 16.0, 0.64),\n",
       "       (161.6745, -8.3757, 'RVSex', -1.1, 153, 143, 10.3, 3.1, 0.4),\n",
       "       (255.1945, -66.6639, 'RWTrA', -0.07, 205, 64, 8.7, 0.5, 0.12),\n",
       "       (14.5404, -63.3957, 'WTuc', -1.64, 94, 140, 8.4, 1.9, 0.54),\n",
       "       (203.3254, 53.9874, 'RVUMa', -1.19, -71, 303, 9.1, 1.6, 0.67),\n",
       "       (172.452, 30.0673, 'TUUMa', -1.44, -16, 586, 11.4, 6.4, 0.96),\n",
       "       (182.8108, 47.8288, 'ABUMa', -0.72, 113, 118, 9.1, 1.2, 0.49),\n",
       "       (163.2604, -49.9063, 'AFVel', -1.64, 29, 308, 17.6, 8.2, 0.89),\n",
       "       (216.9128, -0.9016, 'STVir', 0.88, 121, 117, 7.9, 1.8, 0.42),\n",
       "       (182.1461, -0.4568, 'UUVir', -0.82, 141, 192, 12.8, 1.4, 0.61),\n",
       "       (185.3197, 0.3674, 'UVVir', -1.19, -1, 245, 9.5, 6.5, 0.91),\n",
       "       (217.0409, 6.5455, 'AFVir', -1.46, -39, 415, 24.8, 19.7, 0.92),\n",
       "       (200.8889, -16.6661, 'AMVir', -1.45, 3, 289, 10.7, 10.1, 0.82),\n",
       "       (193.191, -10.2599, 'ASVir', -1.49, 39, 266, 12.2, 8.1, 0.77),\n",
       "       (193.7939, -5.459, 'ATVir', -1.91, -255, 531, 32.7, 20.2, 0.65),\n",
       "       (200.0482, 9.1879, 'AVVir', -1.32, 3, 322, 16.2, 9.3, 0.97),\n",
       "       (207.9199, 6.4309, 'BBVir', -1.61, 43, 296, 14.6, 8.1, 0.91),\n",
       "       (189.1137, -2.426, 'BQVir', -1.32, 60, 172, 9.4, 3.9, 0.67),\n",
       "       (291.9836, 24.3474, 'BNVul', -1.52, -86, 310, 8.2, 0.9, 0.61)], \n",
       "      dtype=[('ra', '<f8'), ('dec', '<f8'), ('name', 'S8'), ('FeH', '<f8'), ('theta', '<i8'), ('Vres', '<i8'), ('apo', '<f8'), ('zmax', '<f8'), ('ecc', '<f8')])"
      ]
     },
     "execution_count": 169,
     "metadata": {},
     "output_type": "execute_result"
    }
   ],
   "source": [
    "data"
   ]
  },
  {
   "cell_type": "markdown",
   "metadata": {},
   "source": [
    "2) Select all rows with a metallicity (`FeH`), [Fe/H] < -1.2 and a maximum height above the midplane (`zmax`) zmax > 1 kpc"
   ]
  },
  {
   "cell_type": "code",
   "execution_count": 170,
   "metadata": {
    "collapsed": false
   },
   "outputs": [
    {
     "data": {
      "text/plain": [
       "('ra', 'dec', 'name', 'FeH', 'theta', 'Vres', 'apo', 'zmax', 'ecc')"
      ]
     },
     "execution_count": 170,
     "metadata": {},
     "output_type": "execute_result"
    }
   ],
   "source": [
    "data.dtype.names"
   ]
  },
  {
   "cell_type": "code",
   "execution_count": 171,
   "metadata": {
    "collapsed": true
   },
   "outputs": [],
   "source": [
    "subdata = data[(data['FeH'] < -1.2) & (data['zmax'] > 1.)]"
   ]
  },
  {
   "cell_type": "code",
   "execution_count": 172,
   "metadata": {
    "collapsed": true
   },
   "outputs": [
    {
     "data": {
      "text/plain": [
       "array([(19.3642, 38.9506, 'XXAnd', -2.01, 18, 325, 19.3, 11.3, 0.91),\n",
       "       (16.3569, 34.2204, 'DRAnd', -1.48, -94, 357, 16.0, 6.6, 0.83),\n",
       "       (154.0206, -29.7284, 'WYAnt', -1.66, -46, 351, 17.5, 14.0, 0.97),\n",
       "       (222.2084, -71.3283, 'TYAps', -1.21, 8, 247, 7.7, 7.0, 0.8),\n",
       "       (223.0226, -79.6796, 'XZAps', -1.57, -17, 243, 8.1, 5.7, 0.94),\n",
       "       (318.8244, 0.0763, 'SWAqr', -1.24, 3, 369, 18.2, 9.5, 0.94),\n",
       "       (324.0352, 3.2306, 'SXAqr', -1.83, -67, 482, 34.9, 16.9, 0.88),\n",
       "       (330.4814, -5.6008, 'TZAqr', -1.24, 162, 65, 8.2, 1.1, 0.14),\n",
       "       (343.534, -12.3607, 'BOAqr', -1.8, 163, 111, 9.4, 1.9, 0.37),\n",
       "       (349.8217, -24.2163, 'DNAqr', -1.63, -3, 383, 25.9, 13.0, 0.95),\n",
       "       (308.1315, 0.5853, 'V341 Aql', -1.37, 103, 201, 9.7, 5.2, 0.41),\n",
       "       (270.7679, -52.7224, 'MSAra', -1.48, 21, 220, 7.4, 4.8, 0.92),\n",
       "       (220.5557, 28.2065, 'SZBoo', -1.68, 101, 119, 8.1, 2.0, 0.33),\n",
       "       (221.2748, 41.0289, 'TWBoo', -1.41, -1, 327, 14.7, 9.5, 0.94),\n",
       "       (229.2722, 35.116, 'UUBoo', -1.92, 5, 372, 19.9, 11.2, 0.96),\n",
       "       (209.6931, 12.9518, 'UYBoo', -2.49, 27, 284, 13.1, 8.0, 0.93),\n",
       "       (139.7751, 29.0655, 'RWCnc', -1.52, 6, 241, 11.2, 7.4, 0.97),\n",
       "       (128.2299, 13.1912, 'TTCnc', -1.58, 95, 290, 17.5, 14.9, 0.48),\n",
       "       (139.4124, 12.6509, 'AQCnc', -1.53, -146, 486, 33.4, 5.1, 0.79),\n",
       "       (126.4256, 25.7191, 'ASCnc', -1.89, 40, 417, 51.3, 42.8, 0.67),\n",
       "       (211.6166, 37.8282, 'WCVn', -1.21, 132, 106, 8.5, 1.7, 0.36),\n",
       "       (192.4396, 43.774, 'ZCVn', -1.98, -6, 245, 9.9, 6.6, 0.98),\n",
       "       (209.8886, 31.6511, 'RUCVn', -1.37, 60, 273, 15.0, 7.4, 0.8),\n",
       "       (206.2626, 32.6546, 'RZCVn', -1.92, -21, 384, 24.6, 15.0, 0.96),\n",
       "       (207.0664, 39.9008, 'SSCVn', -1.52, 12, 354, 20.1, 19.0, 0.99),\n",
       "       (188.9835, 37.2067, 'SVCVn', -2.2, 10, 279, 13.5, 8.7, 0.99),\n",
       "       (190.2117, 37.0927, 'SWCVn', -1.53, -37, 259, 9.4, 4.9, 0.81),\n",
       "       (188.1901, 27.0293, 'SCom', -2.0, 63, 185, 9.7, 4.1, 0.62),\n",
       "       (196.2833, 23.2785, 'RYCom', -1.65, 65, 163, 8.8, 3.8, 0.67),\n",
       "       (199.4639, 20.7808, 'STCom', -1.26, -34, 264, 9.1, 4.4, 0.79),\n",
       "       (281.9901, -37.7396, 'V413 CrA', -1.21, 86, 191, 8.6, 3.8, 0.62),\n",
       "       (230.5893, 26.8771, 'TVCrB', -2.33, 137, 154, 9.3, 4.0, 0.29),\n",
       "       (177.2343, -10.4413, 'XCrt', -1.75, -39, 298, 10.7, 8.7, 0.82),\n",
       "       (293.1221, 56.3882, 'XZCyg', -1.52, 237, 237, 25.3, 15.2, 0.5),\n",
       "       (273.5794, 76.6857, 'BCDra', -2.0, -193, 535, 52.5, 45.1, 0.71),\n",
       "       (289.5861, 66.4133, 'BKDra', -2.12, 104, 227, 13.6, 7.6, 0.52),\n",
       "       (222.936, 60.0692, 'BTDra', -1.55, 62, 306, 17.0, 9.6, 0.94),\n",
       "       (72.4345, -15.7412, 'RXEri', -1.3, 208, 79, 9.5, 1.8, 0.07),\n",
       "       (73.4063, -19.4336, 'BBEri', -1.51, -13, 317, 14.6, 8.0, 0.94),\n",
       "       (31.9666, -26.866, 'SSFor', -1.35, -13, 295, 10.6, 10.3, 0.72),\n",
       "       (52.5931, -36.0538, 'SXFor', -1.62, -41, 305, 11.1, 5.5, 0.81),\n",
       "       (118.431, 19.2733, 'SZGem', -1.81, -32, 376, 21.9, 10.1, 0.92),\n",
       "       (247.67, 18.3668, 'VXHer', -1.52, -56, 453, 39.4, 19.4, 0.98),\n",
       "       (240.1343, 46.9238, 'ARHer', -1.4, -224, 510, 33.6, 3.1, 0.8),\n",
       "       (260.1307, 14.4824, 'DLHer', -1.32, 239, 112, 11.7, 3.1, 0.25),\n",
       "       (249.5754, 37.8013, 'GYHer', -1.92, 170, 205, 17.8, 5.6, 0.57),\n",
       "       (187.6271, -26.0475, 'SVHya', -1.7, 114, 187, 10.0, 3.8, 0.46),\n",
       "       (138.4534, -9.3191, 'SZHya', -1.75, -145, 406, 16.6, 5.2, 0.68),\n",
       "       (144.1241, 4.1113, 'UUHya', -1.65, -24, 343, 15.9, 6.9, 0.89),\n",
       "       (153.3505, -13.1382, 'WZHya', -1.3, -47, 305, 9.3, 5.8, 0.62),\n",
       "       (134.5266, -5.4402, 'DGHya', -1.42, 46, 244, 11.9, 6.4, 0.8),\n",
       "       (135.0738, -9.7825, 'DHHya', -1.55, -24, 393, 22.1, 1.7, 0.9),\n",
       "       (128.7735, -8.8459, 'ETHya', -1.69, -104, 375, 10.1, 7.9, 0.14),\n",
       "       (317.8746, -45.0746, 'VInd', -1.5, -62, 397, 19.2, 8.3, 0.88),\n",
       "       (315.3703, -15.2295, 'RVCap', -1.72, -316, 567, 31.6, 12.4, 0.61),\n",
       "       (208.8115, -43.2402, 'V499 Cen', -1.56, -19, 322, 14.2, 7.4, 0.99),\n",
       "       (15.1679, -15.9577, 'RUCet', -1.6, 13, 253, 9.1, 7.7, 0.84),\n",
       "       (33.8121, -10.8002, 'RVCet', -1.32, 61, 189, 9.1, 4.9, 0.63),\n",
       "       (8.4095, -15.4875, 'RXCet', -1.46, -43, 417, 27.8, 3.2, 0.94),\n",
       "       (37.1352, -8.3584, 'RZCet', -1.5, 108, 180, 12.0, 3.8, 0.52),\n",
       "       (1.0214, -16.9976, 'UUCet', -1.32, 56, 310, 20.6, 3.0, 0.87),\n",
       "       (30.0693, -16.3461, 'XZCet', -2.27, 152, 190, 12.4, 6.1, 0.41),\n",
       "       (93.3114, -37.2502, 'RXCol', -1.7, -18, 384, 19.9, 2.5, 0.87),\n",
       "       (151.528, 39.3577, 'XLMi', -1.68, 78, 285, 20.7, 2.6, 0.85),\n",
       "       (237.8208, -15.7509, 'VYLib', -1.32, -13, 320, 12.3, 10.9, 0.9),\n",
       "       (135.7824, 44.5856, 'TTLyn', -1.76, 104, 309, 23.0, 18.5, 0.66),\n",
       "       (116.2762, 43.1115, 'TWLyn', -1.23, 249, 62, 14.2, 2.1, 0.18),\n",
       "       (280.9078, 32.7983, 'RZLyr', -2.13, 67, 266, 15.1, 2.3, 0.78),\n",
       "       (275.6583, 32.959, 'IOLyr', -1.52, 87, 312, 34.3, 9.8, 0.78),\n",
       "       (319.0946, -30.2842, 'ZMic', -1.28, 166, 131, 10.0, 1.7, 0.39),\n",
       "       (206.6323, -84.4018, 'RVOct', -1.34, 24, 206, 8.3, 5.0, 0.93),\n",
       "       (324.039, -77.3038, 'RYOct', -1.83, 72, 175, 7.9, 3.7, 0.66),\n",
       "       (328.3974, -82.7788, 'SSOct', -1.6, -158, 379, 8.3, 1.1, 0.16),\n",
       "       (248.1064, -83.9029, 'UVOct', -1.61, -30, 355, 15.4, 8.0, 0.82),\n",
       "       (273.8272, 12.3524, 'V455 Oph', -1.42, -10, 307, 9.3, 6.9, 0.88),\n",
       "       (294.5141, -60.611, 'BNPav', -1.32, 154, 105, 8.0, 1.4, 0.14),\n",
       "       (299.5006, -65.7361, 'BPPav', -1.48, -266, 478, 18.5, 2.7, 0.63),\n",
       "       (333.2663, 18.4511, 'VVPeg', -1.88, 201, 72, 9.2, 1.4, 0.03),\n",
       "       (343.2543, 15.7879, 'BHPeg', -1.38, -68, 358, 12.9, 1.4, 0.7),\n",
       "       (350.0294, 16.0686, 'DZPeg', -1.52, -142, 362, 8.7, 1.3, 0.35),\n",
       "       (352.1311, -47.4536, 'RVPhe', -1.6, 16, 422, 36.2, 29.0, 0.99),\n",
       "       (151.9311, 23.9918, 'RRLeo', -1.57, 154, 130, 11.1, 1.2, 0.44),\n",
       "       (170.9932, 26.615, 'RXLeo', -1.38, 75, 231, 11.9, 7.8, 0.58),\n",
       "       (173.4771, -0.0333, 'SSLeo', -1.83, -14, 252, 9.2, 5.5, 0.93),\n",
       "       (174.6362, 10.5616, 'STLeo', -1.29, -77, 307, 9.2, 3.8, 0.64),\n",
       "       (165.4034, 8.1654, 'SZLeo', -1.86, -90, 326, 9.8, 1.8, 0.58),\n",
       "       (167.8415, -5.8921, 'TVLeo', -1.97, 339, 132, 30.8, 5.9, 0.56),\n",
       "       (142.6087, 7.2059, 'WWLeo', -1.48, 45, 244, 12.3, 9.7, 0.6),\n",
       "       (174.8095, 10.3275, 'AALeo', -1.47, -39, 277, 10.7, 6.2, 0.91),\n",
       "       (171.5507, 17.661, 'AELeo', -1.71, 207, 273, 38.8, 6.7, 0.78),\n",
       "       (173.2656, 12.1539, 'AXLeo', -2.28, -161, 420, 13.8, 3.3, 0.47),\n",
       "       (2.9211, -1.7487, 'RYPsc', -1.39, 10, 346, 21.5, 13.3, 0.95),\n",
       "       (293.0866, -23.8535, 'V440 Sgr', -1.47, 43, 181, 7.9, 1.5, 0.83),\n",
       "       (273.3975, -34.3172, 'V675 Sgr', -2.01, 214, 188, 14.9, 5.0, 0.45),\n",
       "       (0.7005, -24.9453, 'RUScl', -1.25, 83, 217, 11.4, 4.5, 0.68),\n",
       "       (23.8486, -35.1285, 'VXScl', -2.25, -156, 432, 16.3, 7.5, 0.54),\n",
       "       (232.758, 1.6838, 'VYSer', -1.82, -72, 418, 21.8, 10.6, 0.85),\n",
       "       (233.3784, 2.7772, 'ARSer', -1.78, 100, 372, 31.2, 19.0, 0.64),\n",
       "       (238.9182, 7.9888, 'ATSer', -2.05, 172, 81, 8.0, 1.5, 0.19),\n",
       "       (232.1514, 3.0899, 'CSSer', -1.57, 195, 284, 25.0, 16.0, 0.64),\n",
       "       (14.5404, -63.3957, 'WTuc', -1.64, 94, 140, 8.4, 1.9, 0.54),\n",
       "       (172.452, 30.0673, 'TUUMa', -1.44, -16, 586, 11.4, 6.4, 0.96),\n",
       "       (163.2604, -49.9063, 'AFVel', -1.64, 29, 308, 17.6, 8.2, 0.89),\n",
       "       (217.0409, 6.5455, 'AFVir', -1.46, -39, 415, 24.8, 19.7, 0.92),\n",
       "       (200.8889, -16.6661, 'AMVir', -1.45, 3, 289, 10.7, 10.1, 0.82),\n",
       "       (193.191, -10.2599, 'ASVir', -1.49, 39, 266, 12.2, 8.1, 0.77),\n",
       "       (193.7939, -5.459, 'ATVir', -1.91, -255, 531, 32.7, 20.2, 0.65),\n",
       "       (200.0482, 9.1879, 'AVVir', -1.32, 3, 322, 16.2, 9.3, 0.97),\n",
       "       (207.9199, 6.4309, 'BBVir', -1.61, 43, 296, 14.6, 8.1, 0.91),\n",
       "       (189.1137, -2.426, 'BQVir', -1.32, 60, 172, 9.4, 3.9, 0.67)], \n",
       "      dtype=[('ra', '<f8'), ('dec', '<f8'), ('name', 'S8'), ('FeH', '<f8'), ('theta', '<i8'), ('Vres', '<i8'), ('apo', '<f8'), ('zmax', '<f8'), ('ecc', '<f8')])"
      ]
     },
     "execution_count": 172,
     "metadata": {},
     "output_type": "execute_result"
    }
   ],
   "source": [
    "subdata"
   ]
  },
  {
   "cell_type": "markdown",
   "metadata": {},
   "source": [
    "3) What is the maximum apocenter? (use the column `apo`) What is the eccentricity (`ecc`) of the star with the largest apocenter?"
   ]
  },
  {
   "cell_type": "code",
   "execution_count": 173,
   "metadata": {
    "collapsed": false
   },
   "outputs": [
    {
     "data": {
      "text/plain": [
       "52.5"
      ]
     },
     "execution_count": 173,
     "metadata": {},
     "output_type": "execute_result"
    }
   ],
   "source": [
    "subdata['apo'].max()"
   ]
  },
  {
   "cell_type": "code",
   "execution_count": 176,
   "metadata": {
    "collapsed": false
   },
   "outputs": [
    {
     "data": {
      "text/plain": [
       "0.70999999999999996"
      ]
     },
     "execution_count": 176,
     "metadata": {},
     "output_type": "execute_result"
    }
   ],
   "source": [
    "subdata['ecc'][subdata['apo'].argmax()]"
   ]
  },
  {
   "cell_type": "code",
   "execution_count": null,
   "metadata": {
    "collapsed": true
   },
   "outputs": [],
   "source": []
  }
 ],
 "metadata": {
  "kernelspec": {
   "display_name": "Python 2",
   "language": "python",
   "name": "python2"
  },
  "language_info": {
   "codemirror_mode": {
    "name": "ipython",
    "version": 2
   },
   "file_extension": ".py",
   "mimetype": "text/x-python",
   "name": "python",
   "nbconvert_exporter": "python",
   "pygments_lexer": "ipython2",
   "version": "2.7.10"
  }
 },
 "nbformat": 4,
 "nbformat_minor": 0
}
