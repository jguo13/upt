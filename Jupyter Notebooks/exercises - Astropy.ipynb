{
 "cells": [
  {
   "cell_type": "markdown",
   "metadata": {},
   "source": [
    "__1)__ Write a function to evaluate your favorite equation with units! Make sure the inputs are `Quantity`-like objects and throw an exception if not.\n",
    "\n",
    "_hint: use the `hasattr()` function to check if the input objects have a `.unit` property_"
   ]
  },
  {
   "cell_type": "code",
   "execution_count": 3,
   "metadata": {
    "collapsed": false
   },
   "outputs": [],
   "source": [
    "from astropy import units as u\n",
    "def e_kin(m,v):\n",
    "    if hasattr(m, 'unit') and hasattr(v,'unit'):\n",
    "        return 0.5*m*v**2\n",
    "    else:\n",
    "        raise AttributeError('These need to be Quantity-like objects.')"
   ]
  },
  {
   "cell_type": "code",
   "execution_count": 6,
   "metadata": {
    "collapsed": false
   },
   "outputs": [
    {
     "name": "stdout",
     "output_type": "stream",
     "text": [
      "500.0 kg km2 / s2\n"
     ]
    }
   ],
   "source": [
    "m = 10*u.kg\n",
    "v = 10*u.km/u.s\n",
    "print(e_kin(m,v))"
   ]
  },
  {
   "cell_type": "markdown",
   "metadata": {},
   "source": [
    "__2)__ Write the same function without using `astropy.units`, assuming something about the units of the input values. How much slower is using the function with units on the same input?"
   ]
  },
  {
   "cell_type": "code",
   "execution_count": 7,
   "metadata": {
    "collapsed": false
   },
   "outputs": [],
   "source": [
    "def e_kin_nounit(m,v):\n",
    "    return 0.5*m*v**2"
   ]
  },
  {
   "cell_type": "code",
   "execution_count": 10,
   "metadata": {
    "collapsed": false
   },
   "outputs": [
    {
     "name": "stdout",
     "output_type": "stream",
     "text": [
      "Test with units:\n",
      "1000 loops, best of 3: 253 µs per loop\n",
      "Test without units:\n",
      "1000000 loops, best of 3: 555 ns per loop\n"
     ]
    }
   ],
   "source": [
    "print(\"Test with units:\")\n",
    "m = 10*u.kg\n",
    "v = 10*u.km/u.s\n",
    "%timeit e_kin(m,v)\n",
    "print(\"Test without units:\")\n",
    "m = 10\n",
    "v = 10\n",
    "%timeit e_kin_nounit(m,v)"
   ]
  },
  {
   "cell_type": "markdown",
   "metadata": {},
   "source": [
    "__3.1)__ Read in the same data table from the example notebook (../data/borkova2002.tsv)"
   ]
  },
  {
   "cell_type": "code",
   "execution_count": 12,
   "metadata": {
    "collapsed": false
   },
   "outputs": [
    {
     "data": {
      "text/html": [
       "&lt;Row index=0&gt;\n",
       "<table id=\"table4464409736\">\n",
       "<thead><tr><th>_RAJ2000</th><th>_DEJ2000</th><th>Name</th><th>Simbad</th><th>[Fe/H]</th><th>Theta</th><th>Vres</th><th>Ra</th><th>Zmax</th><th>e</th><th>_RA</th><th>_DE</th></tr></thead>\n",
       "<thead><tr><th>float64</th><th>float64</th><th>str8</th><th>str6</th><th>float64</th><th>int64</th><th>int64</th><th>float64</th><th>float64</th><th>float64</th><th>float64</th><th>float64</th></tr></thead>\n",
       "<tr><td>5.9295</td><td>29.401</td><td>SW And</td><td>Simbad</td><td>-0.38</td><td>200</td><td>40</td><td>9.0</td><td>0.4</td><td>0.01</td><td>5.9295</td><td>29.401</td></tr>\n",
       "</table>"
      ],
      "text/plain": [
       "<Row index=0>\n",
       "_RAJ2000 _DEJ2000   Name   Simbad  [Fe/H] Theta  Vres    Ra     Zmax     e      _RA     _DE  \n",
       "float64  float64    str8    str6  float64 int64 int64 float64 float64 float64 float64 float64\n",
       "-------- -------- -------- ------ ------- ----- ----- ------- ------- ------- ------- -------\n",
       "  5.9295   29.401 SW And   Simbad   -0.38   200    40     9.0     0.4    0.01  5.9295  29.401"
      ]
     },
     "execution_count": 12,
     "metadata": {},
     "output_type": "execute_result"
    }
   ],
   "source": [
    "from astropy.io import ascii\n",
    "data = ascii.read(\"borkova2002.tsv\",data_start=3)\n",
    "data[0]"
   ]
  },
  {
   "cell_type": "markdown",
   "metadata": {},
   "source": [
    "__3.2)__ Rename the column 'Ra' (the apogalactic radius, very misleading name) to something like 'apocenter'."
   ]
  },
  {
   "cell_type": "code",
   "execution_count": 13,
   "metadata": {
    "collapsed": false
   },
   "outputs": [
    {
     "data": {
      "text/plain": [
       "TableColumns([('_RAJ2000', <Column name='_RAJ2000' dtype='float64' length=174>\n",
       "                 5.9295\n",
       "                19.3642\n",
       "               355.6285\n",
       "                28.7846\n",
       "                16.3569\n",
       "               154.0206\n",
       "               222.2084\n",
       "               223.0226\n",
       "               318.8244\n",
       "               324.0352\n",
       "               330.4814\n",
       "                343.534\n",
       "                    ...\n",
       "               163.2604\n",
       "               216.9128\n",
       "               182.1461\n",
       "               185.3197\n",
       "               217.0409\n",
       "               200.8889\n",
       "                193.191\n",
       "               193.7939\n",
       "               200.0482\n",
       "               207.9199\n",
       "               189.1137\n",
       "               291.9836),\n",
       "              ('_DEJ2000', <Column name='_DEJ2000' dtype='float64' length=174>\n",
       "                 29.401\n",
       "                38.9506\n",
       "                43.0143\n",
       "                43.7657\n",
       "                34.2204\n",
       "               -29.7284\n",
       "               -71.3283\n",
       "               -79.6796\n",
       "                 0.0763\n",
       "                 3.2306\n",
       "                -5.6008\n",
       "               -12.3607\n",
       "                    ...\n",
       "               -49.9063\n",
       "                -0.9016\n",
       "                -0.4568\n",
       "                 0.3674\n",
       "                 6.5455\n",
       "               -16.6661\n",
       "               -10.2599\n",
       "                 -5.459\n",
       "                 9.1879\n",
       "                 6.4309\n",
       "                 -2.426\n",
       "                24.3474),\n",
       "              ('Name', <Column name='Name' dtype='str8' length=174>\n",
       "               SW And  \n",
       "               XX And  \n",
       "               AT And  \n",
       "               CI And  \n",
       "               DR And  \n",
       "               WY Ant  \n",
       "               TY Aps  \n",
       "               XZ Aps  \n",
       "               SW Aqr  \n",
       "               SX Aqr  \n",
       "               TZ Aqr  \n",
       "               BO Aqr  \n",
       "                    ...\n",
       "               AF Vel  \n",
       "               ST Vir  \n",
       "               UU Vir  \n",
       "               UV Vir  \n",
       "               AF Vir  \n",
       "               AM Vir  \n",
       "               AS Vir  \n",
       "               AT Vir  \n",
       "               AV Vir  \n",
       "               BB Vir  \n",
       "               BQ Vir  \n",
       "               BN Vul  ),\n",
       "              ('Simbad', <Column name='Simbad' dtype='str6' length=174>\n",
       "               Simbad\n",
       "               Simbad\n",
       "               Simbad\n",
       "               Simbad\n",
       "               Simbad\n",
       "               Simbad\n",
       "               Simbad\n",
       "               Simbad\n",
       "               Simbad\n",
       "               Simbad\n",
       "               Simbad\n",
       "               Simbad\n",
       "                  ...\n",
       "               Simbad\n",
       "               Simbad\n",
       "               Simbad\n",
       "               Simbad\n",
       "               Simbad\n",
       "               Simbad\n",
       "               Simbad\n",
       "               Simbad\n",
       "               Simbad\n",
       "               Simbad\n",
       "               Simbad\n",
       "               Simbad),\n",
       "              ('[Fe/H]', <Column name='[Fe/H]' dtype='float64' length=174>\n",
       "               -0.38\n",
       "               -2.01\n",
       "               -0.97\n",
       "               -0.83\n",
       "               -1.48\n",
       "               -1.66\n",
       "               -1.21\n",
       "               -1.57\n",
       "               -1.24\n",
       "               -1.83\n",
       "               -1.24\n",
       "                -1.8\n",
       "                 ...\n",
       "               -1.64\n",
       "                0.88\n",
       "               -0.82\n",
       "               -1.19\n",
       "               -1.46\n",
       "               -1.45\n",
       "               -1.49\n",
       "               -1.91\n",
       "               -1.32\n",
       "               -1.61\n",
       "               -1.32\n",
       "               -1.52),\n",
       "              ('Theta', <Column name='Theta' dtype='int64' length=174>\n",
       "                200\n",
       "                 18\n",
       "                 10\n",
       "                276\n",
       "                -94\n",
       "                -46\n",
       "                  8\n",
       "                -17\n",
       "                  3\n",
       "                -67\n",
       "                162\n",
       "                163\n",
       "                ...\n",
       "                 29\n",
       "                121\n",
       "                141\n",
       "                 -1\n",
       "                -39\n",
       "                  3\n",
       "                 39\n",
       "               -255\n",
       "                  3\n",
       "                 43\n",
       "                 60\n",
       "                -86),\n",
       "              ('Vres', <Column name='Vres' dtype='int64' length=174>\n",
       "                40\n",
       "               325\n",
       "               292\n",
       "               113\n",
       "               357\n",
       "               351\n",
       "               247\n",
       "               243\n",
       "               369\n",
       "               482\n",
       "                65\n",
       "               111\n",
       "               ...\n",
       "               308\n",
       "               117\n",
       "               192\n",
       "               245\n",
       "               415\n",
       "               289\n",
       "               266\n",
       "               531\n",
       "               322\n",
       "               296\n",
       "               172\n",
       "               310),\n",
       "              ('Apocenter',\n",
       "               <Column name='Apocenter' dtype='float64' length=174>\n",
       "                9.0\n",
       "               19.3\n",
       "               12.5\n",
       "               21.5\n",
       "               16.0\n",
       "               17.5\n",
       "                7.7\n",
       "                8.1\n",
       "               18.2\n",
       "               34.9\n",
       "                8.2\n",
       "                9.4\n",
       "                ...\n",
       "               17.6\n",
       "                7.9\n",
       "               12.8\n",
       "                9.5\n",
       "               24.8\n",
       "               10.7\n",
       "               12.2\n",
       "               32.7\n",
       "               16.2\n",
       "               14.6\n",
       "                9.4\n",
       "                8.2),\n",
       "              ('Zmax', <Column name='Zmax' dtype='float64' length=174>\n",
       "                0.4\n",
       "               11.3\n",
       "                7.6\n",
       "                2.6\n",
       "                6.6\n",
       "               14.0\n",
       "                7.0\n",
       "                5.7\n",
       "                9.5\n",
       "               16.9\n",
       "                1.1\n",
       "                1.9\n",
       "                ...\n",
       "                8.2\n",
       "                1.8\n",
       "                1.4\n",
       "                6.5\n",
       "               19.7\n",
       "               10.1\n",
       "                8.1\n",
       "               20.2\n",
       "                9.3\n",
       "                8.1\n",
       "                3.9\n",
       "                0.9),\n",
       "              ('e', <Column name='e' dtype='float64' length=174>\n",
       "               0.01\n",
       "               0.91\n",
       "               0.91\n",
       "               0.38\n",
       "               0.83\n",
       "               0.97\n",
       "                0.8\n",
       "               0.94\n",
       "               0.94\n",
       "               0.88\n",
       "               0.14\n",
       "               0.37\n",
       "                ...\n",
       "               0.89\n",
       "               0.42\n",
       "               0.61\n",
       "               0.91\n",
       "               0.92\n",
       "               0.82\n",
       "               0.77\n",
       "               0.65\n",
       "               0.97\n",
       "               0.91\n",
       "               0.67\n",
       "               0.61),\n",
       "              ('_RA', <Column name='_RA' dtype='float64' length=174>\n",
       "                 5.9295\n",
       "                19.3642\n",
       "               355.6285\n",
       "                28.7846\n",
       "                16.3569\n",
       "               154.0206\n",
       "               222.2084\n",
       "               223.0226\n",
       "               318.8244\n",
       "               324.0352\n",
       "               330.4814\n",
       "                343.534\n",
       "                    ...\n",
       "               163.2604\n",
       "               216.9128\n",
       "               182.1461\n",
       "               185.3197\n",
       "               217.0409\n",
       "               200.8889\n",
       "                193.191\n",
       "               193.7939\n",
       "               200.0482\n",
       "               207.9199\n",
       "               189.1137\n",
       "               291.9836),\n",
       "              ('_DE', <Column name='_DE' dtype='float64' length=174>\n",
       "                 29.401\n",
       "                38.9506\n",
       "                43.0143\n",
       "                43.7657\n",
       "                34.2204\n",
       "               -29.7284\n",
       "               -71.3283\n",
       "               -79.6796\n",
       "                 0.0763\n",
       "                 3.2306\n",
       "                -5.6008\n",
       "               -12.3607\n",
       "                    ...\n",
       "               -49.9063\n",
       "                -0.9016\n",
       "                -0.4568\n",
       "                 0.3674\n",
       "                 6.5455\n",
       "               -16.6661\n",
       "               -10.2599\n",
       "                 -5.459\n",
       "                 9.1879\n",
       "                 6.4309\n",
       "                 -2.426\n",
       "                24.3474)])"
      ]
     },
     "execution_count": 13,
     "metadata": {},
     "output_type": "execute_result"
    }
   ],
   "source": [
    "data.rename_column('Ra','Apocenter')\n",
    "data.columns"
   ]
  },
  {
   "cell_type": "markdown",
   "metadata": {},
   "source": [
    "__3.3)__ Add a new column named `pericenter`, and compute the values using the eccentricity column (`e`) and renamed apocenter column."
   ]
  },
  {
   "cell_type": "code",
   "execution_count": null,
   "metadata": {
    "collapsed": false
   },
   "outputs": [],
   "source": []
  },
  {
   "cell_type": "markdown",
   "metadata": {},
   "source": [
    "__3.4)__ Write out a Latex table with just the coordinates RA, Dec, apocenter, and pericenter for all of the stars."
   ]
  },
  {
   "cell_type": "code",
   "execution_count": null,
   "metadata": {
    "collapsed": false
   },
   "outputs": [],
   "source": []
  },
  {
   "cell_type": "markdown",
   "metadata": {},
   "source": [
    "__4)__ Go to the [arXiv](http://arxiv.org/list/astro-ph/new) and find a paper with a data table with equatorial coordinates. Read / parse in the table, then construct a list of the same coordinates in the Galactic system."
   ]
  },
  {
   "cell_type": "code",
   "execution_count": null,
   "metadata": {
    "collapsed": false
   },
   "outputs": [],
   "source": []
  },
  {
   "cell_type": "code",
   "execution_count": null,
   "metadata": {
    "collapsed": true
   },
   "outputs": [],
   "source": []
  }
 ],
 "metadata": {
  "kernelspec": {
   "display_name": "Python 3",
   "language": "python",
   "name": "python3"
  },
  "language_info": {
   "codemirror_mode": {
    "name": "ipython",
    "version": 3
   },
   "file_extension": ".py",
   "mimetype": "text/x-python",
   "name": "python",
   "nbconvert_exporter": "python",
   "pygments_lexer": "ipython3",
   "version": "3.5.1"
  }
 },
 "nbformat": 4,
 "nbformat_minor": 0
}
